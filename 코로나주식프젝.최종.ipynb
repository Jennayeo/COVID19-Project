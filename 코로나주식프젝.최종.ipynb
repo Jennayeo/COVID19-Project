{
 "cells": [
  {
   "cell_type": "markdown",
   "metadata": {},
   "source": [
    "# 코로나19는 주린이의 선택을 어떻게 바꿀까?\n",
    "## - 주가에 영향을 미치는 코로나19와 기타 변수 분석 및 시각화 프로젝트\n",
    "\n",
    "---\n",
    "데잇걸즈4 ITR4 TEAM5 - 김소이, 김해인, 박유빈, 여지영, 오수희\n",
    "\n",
    "발표일: 2020. 10. 16.(금) / 최종 제출일: 2020. 10. 20.(화)\n",
    "\n",
    "\n",
    "**목차**\n",
    "\n",
    "- **서론**\n",
    "- **본론1. 원본데이터 전처리**\n",
    "    - 1-1. 코로나19 데이터  \n",
    "    - 1-2. 주가 데이터  \n",
    "    - 1-3. 뉴스 데이터  \n",
    "    - 1-4. 독립변수 / 종속변수 정리  \n",
    "- **본론2. EDA시각화 및 회귀분석**\n",
    "    - 2-1. EDA 시각화  \n",
    "    - 2-2. 회귀분석\n",
    "- **결론 및 한계점**\n",
    "\n",
    "---"
   ]
  },
  {
   "cell_type": "markdown",
   "metadata": {},
   "source": [
    "# 서론"
   ]
  },
  {
   "cell_type": "markdown",
   "metadata": {},
   "source": [
    "### 프로젝트 배경\n",
    "![title](img03.png)\n",
    "- 한국은 코로나19가 비교적 초기에 발생했음에도 불구하고, 확진자 및 사망자 수가 전 세계의 다른 국가에 비하면 매우 낮고, 완치율 또한 매우 높은 편에 속한다. 몇 차례의 집단 감염 사례가 발생한 이후에도 안정적인 회복세를 보이고 있기도 하다. 그러나 완전히 달라져버린 생활 양식과 엄격한 사회규율, 이로 인한 경제적 타격으로 많은 국민이 전에 겪지 못한 어려운 시기를 보내고 있다. 이런 시기에 주식에 투자한다는 것은 도박일까, 기회일까? 데잇걸즈 5조는 **특정 기업이나 산업군의 주가가 코로나19의 영향을 어느 정도로 받고 있는지, 코로나19 관련 요소로부터 주가를 예측할 수 있을지 궁금해졌다.**\n",
    "- 하지만 많은 주알못, 경알못들이 쉽게 간과할수 있는 사실이 있다. 어떤 단일한 요인에 의해서 주가의 등락이 결정되지는 않는다는 점이다. 이에, 5조는 **코로나19와 관련된 요소를 우선적으로 탐구하고, 만일 그 결과가 충분히 유의미하지 않을 경우 그 이유와 다른 요인을 함께 탐색**해보기로 하였다."
   ]
  },
  {
   "cell_type": "markdown",
   "metadata": {},
   "source": [
    "### 분석 목적 및 분석 방법\n",
    "- 이 분석이 목적은 코로나19가 특정 한국 기업의 주가에 영향을 주는지 알아보는 것이다. 사실 방점은 코로나19보다 종속변수인 주가에 찍혀있는데, 주린이의 입장에서 전염병과 같은 큰 사회적 이슈가 있을 때 주가에 대해 어떻게 생각해보면 좋을지 알아보는 데에 의의가 있기 때문이다. 분석을 통해 현재와 같은 상황에서 주가를 볼 때, 코로나19 관련 변수를 얼마나 고려해야 하는지 생각해볼 수 있다.\n",
    "- 다중회귀분석을 통해 대표 2개 기업의 주가와 독립변수들의 관계를 자세히 살펴본다. 이후 2개 기업이 각각 속한 업종 분류 총 30개 기업의 분석 결과를 요약, 정리한다."
   ]
  },
  {
   "cell_type": "markdown",
   "metadata": {},
   "source": [
    "### 종속/독립변수 설정\n",
    "\n",
    "**종속변수** \n",
    "네이버 금융, 증권플러스 등 대표적인 주식 포털에서 업종 기준으로 삼는 WICS를 분류 기준으로, 소분류상 **양방향미디어와서비스**와 **호텔, 레스토랑, 레저** 두 개 업종에 속한 기업들의 주가를 대상으로 하였다. 흔히 코로나19로 인해 흥한 업종, 쇠한 업종이라 불리는 두 업종을 선택했다.   \n",
    "   - (연속형) **양뱡향미디어와서비스** 업종 10개 기업\n",
    "   - (연속형) **호텔, 레스토랑, 레저** 업종 20개 기업\n",
    "\n",
    "\n",
    "**독립변수**  \n",
    "   - (연속형) **한국 코로나 신규 확진자 수**\n",
    "   - (연속형) **한국 코로나 신규 사망자 수**\n",
    "   - (연속형) **세계 코로나 신규 확진자 수**\n",
    "   - (연속형) **한국은행 통화 유동성 관련 키워드 뉴스 수**\n",
    "   - (연속형) **미 연방준비제도 통화 유동성 관련 키워드 뉴스 수**\n",
    "   - (연속형) **나스닥 지수**"
   ]
  },
  {
   "cell_type": "markdown",
   "metadata": {},
   "source": [
    "### 사용 데이터셋\n",
    "<수집기간과 단위>\n",
    "- Datetime 라이브러리에서 해당 연도의 몇 주차인지 알려주는 함수를 사용해 '주차'를 기준으로 한다.\n",
    "- 주가는 주말 및 공휴일에는 존재하지 않고, 주가 관련 데이터는 합계나 평균을 내기 어렵다.  \n",
    "  따라서 전문가의 조언에 따라 '해당 주차 금요일 주가'를 '해당 주차 주가'로 가정한다\n",
    "- 그 외에 코로나와 뉴스 데이터는 '해당 주차 주간 합계'를 구해서 넣는다.\n",
    "- 대한민국 첫 확진자 발생일은 1월 19일(일)이다.그러나 확진자가 0명이었던 날을 추가하기 위해 1월 17일(금)을 시작 날짜로 한다.\n",
    "- 금요일을 기준으로 삼는 주식 데이터 사용의 용이성을 위해 올해(2020년) 금요일이 공휴일인 주차를 제외한 10월 9일(금)을 종료 날짜로 한다.\n",
    "- 따라서 데이터 수집 기간은 아래와 같다.\n",
    "    - **2020년 1월 17일(금) ~ 2020년 10월 9일(금)**\n",
    "\n",
    "\n",
    "<코로나 관련 데이터>\n",
    "\n",
    "- (WHO 세계보건기구) 국가별 코로나19 확진자, 사망자 정보\n",
    "- (WHO 세계보건기구) 국가별 코로나19 확진자, 사망자 정보\n",
    "\n",
    "<주가 관련 데이터>\n",
    "\n",
    "- (네이버 금융, 한국거래소) 특정 기업 주가\n",
    "- (한국거래소) KOSPI, KOSDAQ, NASDAQ\n",
    "- (WISEfn) WICS 업종 분류 지수\n",
    "\n",
    "<뉴스 데이터>\n",
    "\n",
    "- (한국언론진흥재단 빅카인즈) 정부의 미래 투자 산업 관련 키워드 뉴스 데이터\n",
    "- (한국언론진흥재단 빅카인즈) 정부, 한국은행의 통화 정책 관련 키워드 뉴스 데이터\n",
    "- (한국언론진흥재단 빅카인즈) 미국 연방준비제도(FED) 통화 정책 관련 키워드 뉴스 데이터\n",
    "\n",
    "### 사용 라이브러리"
   ]
  },
  {
   "cell_type": "code",
   "execution_count": 1,
   "metadata": {
    "ExecuteTime": {
     "end_time": "2020-10-19T06:45:31.934922Z",
     "start_time": "2020-10-19T06:45:26.710889Z"
    }
   },
   "outputs": [],
   "source": [
    "import pandas as pd\n",
    "import numpy as np\n",
    "\n",
    "import seaborn as sns\n",
    "from matplotlib import pyplot\n",
    "import matplotlib.pylab as pylab\n",
    "import matplotlib.patches as patches\n",
    "import matplotlib.pyplot as plt\n",
    "%matplotlib inline\n",
    "from IPython.display import Image\n",
    "\n",
    "from datetime import datetime\n",
    "import requests\n",
    "from bs4 import BeautifulSoup\n",
    "import FinanceDataReader as fdr\n",
    "import warnings\n",
    "warnings.filterwarnings(action='ignore')"
   ]
  },
  {
   "cell_type": "markdown",
   "metadata": {},
   "source": [
    "\n",
    "---\n"
   ]
  },
  {
   "cell_type": "markdown",
   "metadata": {},
   "source": [
    "# 본론1. 원본 데이터 전처리"
   ]
  },
  {
   "cell_type": "markdown",
   "metadata": {},
   "source": [
    "## 1-1. 코로나 데이터\n",
    "\n",
    "---\n",
    "\n",
    "- 원본데이터 출처: 세계보건기구(WHO) 링크  \n",
    "  '1014-WHO-COVID-19-global-data.csv' (세계보건기구의 전세계 일일 확진자/사망자 추이)\n",
    "- 불필요한 컬럼은 제외하고 주차별 주간 신규확진자/사망자 합계를 구한 칼럼을 추가했다.\n",
    "\n",
    "\n",
    "**WD_covid**\n",
    "- 날짜\n",
    "- 주차\n",
    "- 세계 주간 확진자 / 세계 주간 사망자\n",
    "\n",
    "**KR_covid**\n",
    "- 날짜\n",
    "- 주차\n",
    "- 한국 주간 확진자 / 한국 주간 사망자\n",
    "\n",
    "**독립_KR_WD_covid_death**\n",
    "- 날짜\n",
    "- 주차\n",
    "- 한국 주간 확진자 / 한국 주간 사망자 / 세계 주간 확진자"
   ]
  },
  {
   "cell_type": "code",
   "execution_count": 2,
   "metadata": {
    "ExecuteTime": {
     "end_time": "2020-10-19T06:59:41.735886Z",
     "start_time": "2020-10-19T06:59:41.730936Z"
    }
   },
   "outputs": [],
   "source": [
    "import pandas as pd\n",
    "from datetime import datetime"
   ]
  },
  {
   "cell_type": "code",
   "execution_count": 4,
   "metadata": {
    "ExecuteTime": {
     "end_time": "2020-10-19T07:00:16.445047Z",
     "start_time": "2020-10-19T07:00:16.344317Z"
    },
    "scrolled": true
   },
   "outputs": [
    {
     "data": {
      "text/html": [
       "<div>\n",
       "<style scoped>\n",
       "    .dataframe tbody tr th:only-of-type {\n",
       "        vertical-align: middle;\n",
       "    }\n",
       "\n",
       "    .dataframe tbody tr th {\n",
       "        vertical-align: top;\n",
       "    }\n",
       "\n",
       "    .dataframe thead th {\n",
       "        text-align: right;\n",
       "    }\n",
       "</style>\n",
       "<table border=\"1\" class=\"dataframe\">\n",
       "  <thead>\n",
       "    <tr style=\"text-align: right;\">\n",
       "      <th></th>\n",
       "      <th>Date_reported</th>\n",
       "      <th>Country_code</th>\n",
       "      <th>Country</th>\n",
       "      <th>WHO_region</th>\n",
       "      <th>New_cases</th>\n",
       "      <th>Cumulative_cases</th>\n",
       "      <th>New_deaths</th>\n",
       "      <th>Cumulative_deaths</th>\n",
       "    </tr>\n",
       "  </thead>\n",
       "  <tbody>\n",
       "    <tr>\n",
       "      <th>0</th>\n",
       "      <td>2020.1.3</td>\n",
       "      <td>AF</td>\n",
       "      <td>Afghanistan</td>\n",
       "      <td>EMRO</td>\n",
       "      <td>0</td>\n",
       "      <td>0</td>\n",
       "      <td>0</td>\n",
       "      <td>0</td>\n",
       "    </tr>\n",
       "    <tr>\n",
       "      <th>1</th>\n",
       "      <td>2020.1.4</td>\n",
       "      <td>AF</td>\n",
       "      <td>Afghanistan</td>\n",
       "      <td>EMRO</td>\n",
       "      <td>0</td>\n",
       "      <td>0</td>\n",
       "      <td>0</td>\n",
       "      <td>0</td>\n",
       "    </tr>\n",
       "    <tr>\n",
       "      <th>2</th>\n",
       "      <td>2020.1.5</td>\n",
       "      <td>AF</td>\n",
       "      <td>Afghanistan</td>\n",
       "      <td>EMRO</td>\n",
       "      <td>0</td>\n",
       "      <td>0</td>\n",
       "      <td>0</td>\n",
       "      <td>0</td>\n",
       "    </tr>\n",
       "    <tr>\n",
       "      <th>3</th>\n",
       "      <td>2020.1.6</td>\n",
       "      <td>AF</td>\n",
       "      <td>Afghanistan</td>\n",
       "      <td>EMRO</td>\n",
       "      <td>0</td>\n",
       "      <td>0</td>\n",
       "      <td>0</td>\n",
       "      <td>0</td>\n",
       "    </tr>\n",
       "    <tr>\n",
       "      <th>4</th>\n",
       "      <td>2020.1.7</td>\n",
       "      <td>AF</td>\n",
       "      <td>Afghanistan</td>\n",
       "      <td>EMRO</td>\n",
       "      <td>0</td>\n",
       "      <td>0</td>\n",
       "      <td>0</td>\n",
       "      <td>0</td>\n",
       "    </tr>\n",
       "  </tbody>\n",
       "</table>\n",
       "</div>"
      ],
      "text/plain": [
       "  Date_reported  Country_code      Country  WHO_region   New_cases  \\\n",
       "0      2020.1.3            AF  Afghanistan        EMRO           0   \n",
       "1      2020.1.4            AF  Afghanistan        EMRO           0   \n",
       "2      2020.1.5            AF  Afghanistan        EMRO           0   \n",
       "3      2020.1.6            AF  Afghanistan        EMRO           0   \n",
       "4      2020.1.7            AF  Afghanistan        EMRO           0   \n",
       "\n",
       "    Cumulative_cases   New_deaths   Cumulative_deaths  \n",
       "0                  0            0                   0  \n",
       "1                  0            0                   0  \n",
       "2                  0            0                   0  \n",
       "3                  0            0                   0  \n",
       "4                  0            0                   0  "
      ]
     },
     "execution_count": 4,
     "metadata": {},
     "output_type": "execute_result"
    }
   ],
   "source": [
    "# 원본데이터\n",
    "covid_raw = pd.read_csv('1014-WHO-COVID-19-global-data.csv')\n",
    "covid_raw.head()"
   ]
  },
  {
   "cell_type": "markdown",
   "metadata": {},
   "source": [
    "### 1) 세계 '주간 확진자/사망자 수'"
   ]
  },
  {
   "cell_type": "code",
   "execution_count": 5,
   "metadata": {
    "ExecuteTime": {
     "end_time": "2020-10-19T07:00:19.881854Z",
     "start_time": "2020-10-19T07:00:19.727268Z"
    }
   },
   "outputs": [],
   "source": [
    "# 필요한 컬럼만 남기기\n",
    "wd_covid = covid_raw[['Date_reported', ' New_cases', ' New_deaths']]\n",
    "# 컬럼명 변경하기\n",
    "wd_covid = covid_raw.rename(columns={\n",
    "                            'Date_reported': 'Date', ' New_cases': 'WD_daily_covid', ' New_deaths': 'WD_daily_death'})\n",
    "\n",
    "# 날짜 정보를 데이터 타입 Datetime 으로 변경하기\n",
    "wd_covid[\"Date\"] = pd.to_datetime(wd_covid[\"Date\"])\n",
    "\n",
    "# '주차' 데이터 생성 및 추가하기.\n",
    "# 이때 '주차'는 해당 연도의 몇 번째 주차인지를 의미 함.\n",
    "wd_covid[\"Week\"] = wd_covid[\"Date\"].dt.week\n",
    "wd_covid = wd_covid[['Date', 'Week', 'WD_daily_covid', 'WD_daily_death']]\n",
    "\n",
    "# '요일' 데이터 생성 및 추가하기.\n",
    "# 이때 '요일'은 '월:0 ~일:6'\n",
    "wd_covid[\"Day\"] = wd_covid[\"Date\"].dt.dayofweek\n",
    "wd_covid = wd_covid[['Date', 'Week', 'Day',\n",
    "                     'WD_daily_covid', 'WD_daily_death']]\n",
    "\n",
    "\n",
    "# '주차' groupby 하고 '일일확진자' 합계로 '주간 확진자수' 구하기.\n",
    "world_w = wd_covid.groupby([\"Week\"])[\"WD_daily_covid\"].sum()\n",
    "world_weekly = pd.DataFrame(world_w)\n",
    "world_weekly.columns = [\"WD_covid\"]\n",
    "# merge 를 통해 기존 데이터에 추가하기.\n",
    "wd_covid = wd_covid.merge(world_weekly, left_on=\"Week\",\n",
    "                          right_on=world_weekly.index, how=\"left\")\n",
    "\n",
    "world_wd = wd_covid.groupby([\"Week\"])[\"WD_daily_death\"].sum()\n",
    "world_weekly_d = pd.DataFrame(world_wd)\n",
    "world_weekly_d.columns = [\"WD_death\"]\n",
    "wd_covid = wd_covid.merge(world_weekly_d, left_on=\"Week\",\n",
    "                          right_on=world_weekly.index, how=\"left\")\n",
    "\n",
    "# 최종 원하는 데이터는 '주간 확진자'와 '주간 사망자'.\n",
    "# 금요일 주가를 기준으로 하는 주가 데이터와 합칠 예정이므로 금요일만 남기기.\n",
    "wd_covid = wd_covid[wd_covid['Day'].isin([4])]\n",
    "\n",
    "# 원하는 컬럼만 남기기.\n",
    "wd_covid = wd_covid[['Date', 'Week', 'WD_covid', 'WD_death']]\n",
    "\n",
    "# 중복값 제거하기.\n",
    "wd_covid = wd_covid.drop_duplicates()\n",
    "\n",
    "# 0117 ~ 0925 의 데이터만 남기기.\n",
    "# 야매 코딩 - 그냥 인덱스 번호 일일이 확인하고 자름\n",
    "wd_covid = wd_covid.drop([0, 7, 273, 280])"
   ]
  },
  {
   "cell_type": "code",
   "execution_count": 13,
   "metadata": {
    "ExecuteTime": {
     "end_time": "2020-10-19T07:05:28.759674Z",
     "start_time": "2020-10-19T07:05:28.670914Z"
    }
   },
   "outputs": [
    {
     "data": {
      "text/html": [
       "<div>\n",
       "<style scoped>\n",
       "    .dataframe tbody tr th:only-of-type {\n",
       "        vertical-align: middle;\n",
       "    }\n",
       "\n",
       "    .dataframe tbody tr th {\n",
       "        vertical-align: top;\n",
       "    }\n",
       "\n",
       "    .dataframe thead th {\n",
       "        text-align: right;\n",
       "    }\n",
       "</style>\n",
       "<table border=\"1\" class=\"dataframe\">\n",
       "  <thead>\n",
       "    <tr style=\"text-align: right;\">\n",
       "      <th></th>\n",
       "      <th>Date</th>\n",
       "      <th>Week</th>\n",
       "      <th>WD_covid</th>\n",
       "      <th>WD_death</th>\n",
       "    </tr>\n",
       "  </thead>\n",
       "  <tbody>\n",
       "    <tr>\n",
       "      <th>0</th>\n",
       "      <td>2020-01-17</td>\n",
       "      <td>3</td>\n",
       "      <td>92</td>\n",
       "      <td>2</td>\n",
       "    </tr>\n",
       "    <tr>\n",
       "      <th>1</th>\n",
       "      <td>2020-01-24</td>\n",
       "      <td>4</td>\n",
       "      <td>1928</td>\n",
       "      <td>53</td>\n",
       "    </tr>\n",
       "    <tr>\n",
       "      <th>2</th>\n",
       "      <td>2020-01-31</td>\n",
       "      <td>5</td>\n",
       "      <td>12561</td>\n",
       "      <td>249</td>\n",
       "    </tr>\n",
       "    <tr>\n",
       "      <th>3</th>\n",
       "      <td>2020-02-07</td>\n",
       "      <td>6</td>\n",
       "      <td>23013</td>\n",
       "      <td>508</td>\n",
       "    </tr>\n",
       "    <tr>\n",
       "      <th>4</th>\n",
       "      <td>2020-02-14</td>\n",
       "      <td>7</td>\n",
       "      <td>31714</td>\n",
       "      <td>857</td>\n",
       "    </tr>\n",
       "  </tbody>\n",
       "</table>\n",
       "</div>"
      ],
      "text/plain": [
       "        Date  Week  WD_covid  WD_death\n",
       "0 2020-01-17     3        92         2\n",
       "1 2020-01-24     4      1928        53\n",
       "2 2020-01-31     5     12561       249\n",
       "3 2020-02-07     6     23013       508\n",
       "4 2020-02-14     7     31714       857"
      ]
     },
     "execution_count": 13,
     "metadata": {},
     "output_type": "execute_result"
    }
   ],
   "source": [
    "# 저장하기\n",
    "wd_covid.to_excel(\"독립_WD_covid.xlsx\", index=False, encoding=\"utf8\")\n",
    "wd_covid = pd.read_excel(\"독립_WD_covid.xlsx\")\n",
    "wd_covid.head()"
   ]
  },
  {
   "cell_type": "markdown",
   "metadata": {},
   "source": [
    "### 2) 한국 '주간 확진자/사망자 수'"
   ]
  },
  {
   "cell_type": "code",
   "execution_count": 7,
   "metadata": {
    "ExecuteTime": {
     "end_time": "2020-10-19T07:02:08.359703Z",
     "start_time": "2020-10-19T07:02:08.316815Z"
    }
   },
   "outputs": [],
   "source": [
    "# 원본에서 필요한 컬럼만 남기기\n",
    "kr_covid = covid_raw[covid_raw[' Country_code'].isin(['KR'])]\n",
    "# 컬럼명 변경하기\n",
    "kr_covid = kr_covid[['Date_reported', ' New_cases', ' New_deaths']]\n",
    "kr_covid = kr_covid.rename(columns={\n",
    "                           'Date_reported': 'Date', ' New_cases': 'KR_daily_covid', ' New_deaths': 'KR_daily_death'})\n",
    "\n",
    "# 날짜 정보를 데이터 타입 Datetime 으로 변경하기\n",
    "kr_covid['Date'] = pd.to_datetime(kr_covid['Date'])\n",
    "\n",
    "# '주차' 데이터 생성 및 추가하기.\n",
    "kr_covid['Week'] = kr_covid['Date'].dt.week\n",
    "kr_covid = kr_covid[['Date', 'Week', 'KR_daily_covid', 'KR_daily_death']]\n",
    "\n",
    "# '요일' 데이터 생성 및 추가하기\n",
    "kr_covid[\"Day\"] = kr_covid['Date'].dt.dayofweek\n",
    "kr_covid = kr_covid[['Date', 'Week', 'Day',\n",
    "                     'KR_daily_covid', 'KR_daily_death']]\n",
    "\n",
    "\n",
    "# '주차' groupby 하고 '일일확진자' 합계로 '주간 확진자수' 구하기.\n",
    "korea_w = kr_covid.groupby([\"Week\"])[\"KR_daily_covid\"].sum()\n",
    "korea_weekly = pd.DataFrame(korea_w)\n",
    "korea_weekly.columns = [\"KR_covid\"]\n",
    "# merge 를 통해 기존 데이터에 추가하기.\n",
    "kr_covid = kr_covid.merge(korea_weekly, left_on=\"Week\",\n",
    "                          right_on=korea_weekly.index, how=\"left\")\n",
    "\n",
    "# '주간 사망자수'\n",
    "korea_wd = kr_covid.groupby([\"Week\"])[\"KR_daily_death\"].sum()\n",
    "korea_weekly_d = pd.DataFrame(korea_wd)\n",
    "korea_weekly_d.columns = [\"KR_death\"]\n",
    "korea_weekly_d.head()\n",
    "kr_covid = kr_covid.merge(korea_weekly_d, left_on=\"Week\",\n",
    "                          right_on=korea_weekly_d.index, how=\"left\")\n",
    "\n",
    "# 최종 원하는 데이터는 '주간 확진자'와 '주간 사망자'.\n",
    "# 금요일 주가를 기준으로 하는 주가 데이터와 합칠 예정이므로 금요일만 남기기.\n",
    "kr_covid = kr_covid[kr_covid['Day'].isin([4])]\n",
    "\n",
    "# 0117 ~ 0925 의 데이터만 남기기.\n",
    "# 야매 코딩 - 그냥 인덱스 번호 일일이 확인하고 자름\n",
    "kr_covid = kr_covid.drop([0, 7, 273, 280])\n",
    "\n",
    "# 필요한 컬럼만 남기기.\n",
    "kr_covid = kr_covid[['Date', 'Week', 'KR_covid', 'KR_death']]"
   ]
  },
  {
   "cell_type": "code",
   "execution_count": 12,
   "metadata": {
    "ExecuteTime": {
     "end_time": "2020-10-19T07:05:19.007761Z",
     "start_time": "2020-10-19T07:05:18.925978Z"
    }
   },
   "outputs": [
    {
     "data": {
      "text/html": [
       "<div>\n",
       "<style scoped>\n",
       "    .dataframe tbody tr th:only-of-type {\n",
       "        vertical-align: middle;\n",
       "    }\n",
       "\n",
       "    .dataframe tbody tr th {\n",
       "        vertical-align: top;\n",
       "    }\n",
       "\n",
       "    .dataframe thead th {\n",
       "        text-align: right;\n",
       "    }\n",
       "</style>\n",
       "<table border=\"1\" class=\"dataframe\">\n",
       "  <thead>\n",
       "    <tr style=\"text-align: right;\">\n",
       "      <th></th>\n",
       "      <th>Date</th>\n",
       "      <th>Week</th>\n",
       "      <th>KR_covid</th>\n",
       "      <th>KR_death</th>\n",
       "    </tr>\n",
       "  </thead>\n",
       "  <tbody>\n",
       "    <tr>\n",
       "      <th>0</th>\n",
       "      <td>2020-01-17</td>\n",
       "      <td>3</td>\n",
       "      <td>5</td>\n",
       "      <td>0</td>\n",
       "    </tr>\n",
       "    <tr>\n",
       "      <th>1</th>\n",
       "      <td>2020-01-24</td>\n",
       "      <td>4</td>\n",
       "      <td>2</td>\n",
       "      <td>0</td>\n",
       "    </tr>\n",
       "    <tr>\n",
       "      <th>2</th>\n",
       "      <td>2020-01-31</td>\n",
       "      <td>5</td>\n",
       "      <td>12</td>\n",
       "      <td>0</td>\n",
       "    </tr>\n",
       "    <tr>\n",
       "      <th>3</th>\n",
       "      <td>2020-02-07</td>\n",
       "      <td>6</td>\n",
       "      <td>12</td>\n",
       "      <td>0</td>\n",
       "    </tr>\n",
       "    <tr>\n",
       "      <th>4</th>\n",
       "      <td>2020-02-14</td>\n",
       "      <td>7</td>\n",
       "      <td>2</td>\n",
       "      <td>0</td>\n",
       "    </tr>\n",
       "  </tbody>\n",
       "</table>\n",
       "</div>"
      ],
      "text/plain": [
       "        Date  Week  KR_covid  KR_death\n",
       "0 2020-01-17     3         5         0\n",
       "1 2020-01-24     4         2         0\n",
       "2 2020-01-31     5        12         0\n",
       "3 2020-02-07     6        12         0\n",
       "4 2020-02-14     7         2         0"
      ]
     },
     "execution_count": 12,
     "metadata": {},
     "output_type": "execute_result"
    }
   ],
   "source": [
    "#저장하기\n",
    "kr_covid.to_excel(\"독립_KR_covid.xlsx\", index=False, encoding=\"utf8\")\n",
    "kr_covid = pd.read_excel(\"독립_KR_covid.xlsx\")\n",
    "kr_covid.head()"
   ]
  },
  {
   "cell_type": "markdown",
   "metadata": {},
   "source": [
    "## 1-2. 주가 데이터\n",
    "\n",
    "---\n",
    "\n",
    "### 1) 개별 기업 주가\n",
    "\n",
    "- 원본데이터 출처: 한국 거래소(기업코드), 네이버금융(주가정보), WICS(기업분류)\n",
    "\n",
    "\n",
    " - **양방향미디어와서비스**: 티사이언티픽, 키다리스튜디오, NAVER, 줌인터넷, 플리토, 퓨쳐스트림네트웍스, 카카오, 캐리소프트, 아프리카TV, THE E&M (10)\n",
    " - **호텔, 레스토랑, 레저**: 해마로푸드서비스, 용평리조트, 세중, 신세계푸드, MP그룹, GKL, 남화산업, 호텔신라, 시공테크, 서부T&D, 아난티, 롯데관광개발, 하나투어, 강원랜드, 이월드, 참좋은여행, 모두투어, 파라다이스, 디딤, 노랑풍선 (20)\n",
    "\n",
    "\n",
    "- 기업 주가 및 주가 관련 데이터는 시가, 상한가, 하한가, 종가, 수정종가 중 대표값으로 종가(Close)를 일괄적으로 사용했다.\n",
    "\n",
    "\n",
    "**기업명_close_weekly** * 30개\n",
    "- 날짜\n",
    "- 주차\n",
    "- 입력한 기업의 주차별 금요일 종가(close)"
   ]
  },
  {
   "cell_type": "code",
   "execution_count": 17,
   "metadata": {
    "ExecuteTime": {
     "end_time": "2020-10-19T07:09:06.363159Z",
     "start_time": "2020-10-19T07:09:06.358170Z"
    }
   },
   "outputs": [],
   "source": [
    "import pandas as pd\n",
    "import requests\n",
    "from bs4 import BeautifulSoup"
   ]
  },
  {
   "cell_type": "code",
   "execution_count": 18,
   "metadata": {
    "ExecuteTime": {
     "end_time": "2020-10-19T07:09:09.638395Z",
     "start_time": "2020-10-19T07:09:06.776053Z"
    }
   },
   "outputs": [],
   "source": [
    "# 기업 법인명을 넣으면, 주식 종목 코드를 찾아주는 함수\n",
    "# 구글링\n",
    "def get_code(df, name):\n",
    "    code = df.query(\"name=='{}'\".format(name))['code'].to_string(index=False)\n",
    "    # 위와같이 code명을 가져오면 앞에 공백이 붙어있는 상황이 발생하여 앞뒤로 sript() 하여 공백 제거\n",
    "    code = code.strip()\n",
    "    return code\n",
    "\n",
    "# excel 파일을 다운로드하는 동시에 pandas에 load하기\n",
    "company_code_df = pd.read_html('http://kind.krx.co.kr/corpgeneral/corpList.do?method=download', header=0)[0]\n",
    "\n",
    "# data frame정리\n",
    "company_code_df = company_code_df[['회사명', '종목코드']]\n",
    "\n",
    "# data frame title 변경 '회사명' = name, 종목코드 = 'code'\n",
    "company_code_df = company_code_df.rename(columns={'회사명': 'name', '종목코드': 'code'})\n",
    "\n",
    "# 종목코드는 6자리로 구분되기때문에 0을 채워 6자리로 변경\n",
    "company_code_df.code = company_code_df.code.map('{:06d}'.format)"
   ]
  },
  {
   "cell_type": "code",
   "execution_count": 19,
   "metadata": {
    "ExecuteTime": {
     "end_time": "2020-10-19T07:09:09.654354Z",
     "start_time": "2020-10-19T07:09:09.641389Z"
    }
   },
   "outputs": [
    {
     "data": {
      "text/plain": [
       "'008770'"
      ]
     },
     "execution_count": 19,
     "metadata": {},
     "output_type": "execute_result"
    }
   ],
   "source": [
    "# [POINT 1] 데이터가 필요한 기업의 이름 입력하기.\n",
    "company_code = company_code_df[company_code_df['name'].isin(['호텔신라'])]\n",
    "company_code = company_code.iloc[0,1]\n",
    "company_code"
   ]
  },
  {
   "cell_type": "code",
   "execution_count": 20,
   "metadata": {
    "ExecuteTime": {
     "end_time": "2020-10-19T07:09:09.847835Z",
     "start_time": "2020-10-19T07:09:09.659340Z"
    }
   },
   "outputs": [],
   "source": [
    "# 주식 종목 코드를 넣으면, 주식 정보를 찾아주는 함수\n",
    "# 구글링\n",
    "def get_price(company_code):\n",
    "    # count=439에서 3000은 과거 439 영업일간의 데이터를 의미. 조절 가능\n",
    "    url = \"https://fchart.stock.naver.com/sise.nhn?symbol={}&timeframe=day&count=184&requestType=0\".format(company_code)\n",
    "    get_result = requests.get(url)\n",
    "    bs_obj = BeautifulSoup(get_result.content, \"html.parser\")\n",
    "    \n",
    "    # information\n",
    "    inf = bs_obj.select('item')\n",
    "    columns = ['Date', 'Open' ,'High', 'Low', 'Close', 'Volume']\n",
    "    df1_inf = pd.DataFrame([], columns = columns, index = range(len(inf)))\n",
    "    \n",
    "    for i in range(len(inf)):\n",
    "        df1_inf.iloc[i] = str(inf[i]['data']).split('|')\n",
    "    \n",
    "    df1_inf.index = pd.to_datetime(df1_inf['Date'])\n",
    "    \n",
    "    return df1_inf.drop('Date', axis=1).astype(float)\n",
    "\n",
    "# 위에서 company_code 가 입력되도록 설정. 처음부터 돌려야함 주의.\n",
    "price = get_price(company_code)"
   ]
  },
  {
   "cell_type": "code",
   "execution_count": 21,
   "metadata": {
    "ExecuteTime": {
     "end_time": "2020-10-19T07:09:09.885733Z",
     "start_time": "2020-10-19T07:09:09.850828Z"
    }
   },
   "outputs": [],
   "source": [
    "# 금요일 종가만 남기기\n",
    "\n",
    "# 종가 데이터만 남기기\n",
    "close = price[[\"Close\"]]\n",
    "# 코딩하기 힘드니까 'Date' 를 인덱스에서 빼주기.\n",
    "close = close.reset_index()\n",
    "\n",
    "# 주차 데이터 생성 및 추가\n",
    "close[\"Week\"] = close[\"Date\"].dt.week\n",
    "close = close[[\"Date\", \"Week\", \"Close\"]]\n",
    "\n",
    "# '요일' 데이터 생성 및 추가\n",
    "close[\"Day\"] = close[\"Date\"].dt.dayofweek\n",
    "close = close[[\"Date\", \"Week\", \"Day\", \"Close\"]]\n",
    "\n",
    "\n",
    "# '주간 종가 %' 대신 '금요일 종가'를 '주간 종가'로 간주함.\n",
    "# 금요일 종가만 남기기\n",
    "close = close[close[\"Day\"].isin([4])]\n",
    "\n",
    "# 필요한 컬럼만 남기기.\n",
    "close = close[[\"Date\", \"Week\", \"Close\"]]"
   ]
  },
  {
   "cell_type": "code",
   "execution_count": 22,
   "metadata": {
    "ExecuteTime": {
     "end_time": "2020-10-19T07:09:10.901018Z",
     "start_time": "2020-10-19T07:09:10.897032Z"
    }
   },
   "outputs": [],
   "source": [
    "# [POINT 2] 기업명 컬럼에 입력한 기업명으로 바꾸기.\n",
    "close.columns = [\"Date\", \"Week\", \"호텔신라\"]"
   ]
  },
  {
   "cell_type": "code",
   "execution_count": 23,
   "metadata": {
    "ExecuteTime": {
     "end_time": "2020-10-19T07:09:11.770691Z",
     "start_time": "2020-10-19T07:09:11.685920Z"
    }
   },
   "outputs": [
    {
     "data": {
      "text/html": [
       "<div>\n",
       "<style scoped>\n",
       "    .dataframe tbody tr th:only-of-type {\n",
       "        vertical-align: middle;\n",
       "    }\n",
       "\n",
       "    .dataframe tbody tr th {\n",
       "        vertical-align: top;\n",
       "    }\n",
       "\n",
       "    .dataframe thead th {\n",
       "        text-align: right;\n",
       "    }\n",
       "</style>\n",
       "<table border=\"1\" class=\"dataframe\">\n",
       "  <thead>\n",
       "    <tr style=\"text-align: right;\">\n",
       "      <th></th>\n",
       "      <th>Date</th>\n",
       "      <th>Week</th>\n",
       "      <th>호텔신라</th>\n",
       "    </tr>\n",
       "  </thead>\n",
       "  <tbody>\n",
       "    <tr>\n",
       "      <th>0</th>\n",
       "      <td>2020-01-31</td>\n",
       "      <td>5</td>\n",
       "      <td>87400</td>\n",
       "    </tr>\n",
       "    <tr>\n",
       "      <th>1</th>\n",
       "      <td>2020-02-07</td>\n",
       "      <td>6</td>\n",
       "      <td>92000</td>\n",
       "    </tr>\n",
       "    <tr>\n",
       "      <th>2</th>\n",
       "      <td>2020-02-14</td>\n",
       "      <td>7</td>\n",
       "      <td>96800</td>\n",
       "    </tr>\n",
       "    <tr>\n",
       "      <th>3</th>\n",
       "      <td>2020-02-21</td>\n",
       "      <td>8</td>\n",
       "      <td>88900</td>\n",
       "    </tr>\n",
       "    <tr>\n",
       "      <th>4</th>\n",
       "      <td>2020-02-28</td>\n",
       "      <td>9</td>\n",
       "      <td>80300</td>\n",
       "    </tr>\n",
       "  </tbody>\n",
       "</table>\n",
       "</div>"
      ],
      "text/plain": [
       "        Date  Week   호텔신라\n",
       "0 2020-01-31     5  87400\n",
       "1 2020-02-07     6  92000\n",
       "2 2020-02-14     7  96800\n",
       "3 2020-02-21     8  88900\n",
       "4 2020-02-28     9  80300"
      ]
     },
     "execution_count": 23,
     "metadata": {},
     "output_type": "execute_result"
    }
   ],
   "source": [
    "# [POINT 3] 저장 파일명에서 입력한 기업명으로 바꿔서 저장하고 확인하기.\n",
    "close.to_excel(\"호텔신라_close_weekly.xlsx\", index=False, encoding=\"utf8\")\n",
    "호텔신라 = pd.read_excel('호텔신라_close_weekly.xlsx')\n",
    "호텔신라.head()"
   ]
  },
  {
   "cell_type": "markdown",
   "metadata": {},
   "source": [
    "### 2) KOSPI / KOSDAQ / NASDAQ\n",
    "- 원본데이터 출처:  \n",
    "\n",
    "\n",
    "- **KOSPI** (KOrea Composite Stock Price Index) 또는 한국종합주가지수는 한국거래소의 유가증권시장에 상장된 회사들의 주식에 대한 총합인 시가총액의 기준시점(1980년 1월 4일)과 비교시점을 비교하여 나타낸 지표다.\n",
    "- **KOSDAQ** (KOrea Securities Dealers Automated Quotation)은 첨단 기술주 중심인 나스닥(NASDAQ) 시장을 본떠 만든 대한민국의 주식시장으로, 유가증권시장과는 규제 조치가 별개로 이루어지는 시장이다.\n",
    "- **NASDAQ** (Nasdaq Stock Market)은 미국의 장외 주식거래시장이다. 일반적으로 언급되는 나스닥은 '전미증권협회 주식시세 자동통보체계(National Association of Securities Dealers Automated Quotations)에 의한 지수 즉, 나스닥 지수의 줄임말이다.\n",
    "\n",
    "\n",
    "**KOSPI / KOSDAQ / 독립_NASDAQ**\n",
    "- 날짜\n",
    "- 주차\n",
    "- 해당 주차 금요일 종가"
   ]
  },
  {
   "cell_type": "code",
   "execution_count": 43,
   "metadata": {
    "ExecuteTime": {
     "end_time": "2020-10-19T07:18:35.794055Z",
     "start_time": "2020-10-19T07:18:27.081361Z"
    }
   },
   "outputs": [
    {
     "name": "stdout",
     "output_type": "stream",
     "text": [
      "Requirement already up-to-date: finance-datareader in c:\\users\\godls\\anaconda3\\lib\\site-packages (0.9.10)\n",
      "Requirement already satisfied, skipping upgrade: lxml in c:\\users\\godls\\anaconda3\\lib\\site-packages (from finance-datareader) (4.5.2)\n",
      "Requirement already satisfied, skipping upgrade: requests-file in c:\\users\\godls\\anaconda3\\lib\\site-packages (from finance-datareader) (1.5.1)\n",
      "Requirement already satisfied, skipping upgrade: pandas>=0.19.2 in c:\\users\\godls\\anaconda3\\lib\\site-packages (from finance-datareader) (1.0.5)\n",
      "Requirement already satisfied, skipping upgrade: requests>=2.3.0 in c:\\users\\godls\\anaconda3\\lib\\site-packages (from finance-datareader) (2.24.0)\n",
      "Requirement already satisfied, skipping upgrade: tqdm in c:\\users\\godls\\anaconda3\\lib\\site-packages (from finance-datareader) (4.47.0)\n",
      "Requirement already satisfied, skipping upgrade: six in c:\\users\\godls\\anaconda3\\lib\\site-packages (from requests-file->finance-datareader) (1.15.0)\n",
      "Requirement already satisfied, skipping upgrade: python-dateutil>=2.6.1 in c:\\users\\godls\\anaconda3\\lib\\site-packages (from pandas>=0.19.2->finance-datareader) (2.8.1)\n",
      "Requirement already satisfied, skipping upgrade: pytz>=2017.2 in c:\\users\\godls\\anaconda3\\lib\\site-packages (from pandas>=0.19.2->finance-datareader) (2020.1)\n",
      "Requirement already satisfied, skipping upgrade: numpy>=1.13.3 in c:\\users\\godls\\anaconda3\\lib\\site-packages (from pandas>=0.19.2->finance-datareader) (1.18.5)\n",
      "Requirement already satisfied, skipping upgrade: urllib3!=1.25.0,!=1.25.1,<1.26,>=1.21.1 in c:\\users\\godls\\anaconda3\\lib\\site-packages (from requests>=2.3.0->finance-datareader) (1.25.9)\n",
      "Requirement already satisfied, skipping upgrade: idna<3,>=2.5 in c:\\users\\godls\\anaconda3\\lib\\site-packages (from requests>=2.3.0->finance-datareader) (2.10)\n",
      "Requirement already satisfied, skipping upgrade: chardet<4,>=3.0.2 in c:\\users\\godls\\anaconda3\\lib\\site-packages (from requests>=2.3.0->finance-datareader) (3.0.4)\n",
      "Requirement already satisfied, skipping upgrade: certifi>=2017.4.17 in c:\\users\\godls\\anaconda3\\lib\\site-packages (from requests>=2.3.0->finance-datareader) (2020.6.20)\n",
      "Requirement already satisfied: html5lib in c:\\users\\godls\\anaconda3\\lib\\site-packages (1.1)\n",
      "Requirement already satisfied: six>=1.9 in c:\\users\\godls\\anaconda3\\lib\\site-packages (from html5lib) (1.15.0)\n",
      "Requirement already satisfied: webencodings in c:\\users\\godls\\anaconda3\\lib\\site-packages (from html5lib) (0.5.1)\n"
     ]
    }
   ],
   "source": [
    "# KOSPI, KOSDAQ, NASDAQ 지수를 불러와 전처리\n",
    "!pip install -U finance-datareader\n",
    "!pip install html5lib "
   ]
  },
  {
   "cell_type": "code",
   "execution_count": 44,
   "metadata": {
    "ExecuteTime": {
     "end_time": "2020-10-19T07:19:40.490007Z",
     "start_time": "2020-10-19T07:19:36.443832Z"
    }
   },
   "outputs": [
    {
     "data": {
      "text/html": [
       "<div>\n",
       "<style scoped>\n",
       "    .dataframe tbody tr th:only-of-type {\n",
       "        vertical-align: middle;\n",
       "    }\n",
       "\n",
       "    .dataframe tbody tr th {\n",
       "        vertical-align: top;\n",
       "    }\n",
       "\n",
       "    .dataframe thead th {\n",
       "        text-align: right;\n",
       "    }\n",
       "</style>\n",
       "<table border=\"1\" class=\"dataframe\">\n",
       "  <thead>\n",
       "    <tr style=\"text-align: right;\">\n",
       "      <th></th>\n",
       "      <th>Symbol</th>\n",
       "      <th>Market</th>\n",
       "      <th>Name</th>\n",
       "      <th>Sector</th>\n",
       "      <th>Industry</th>\n",
       "      <th>ListingDate</th>\n",
       "      <th>SettleMonth</th>\n",
       "      <th>Representative</th>\n",
       "      <th>HomePage</th>\n",
       "      <th>Region</th>\n",
       "    </tr>\n",
       "  </thead>\n",
       "  <tbody>\n",
       "    <tr>\n",
       "      <th>0</th>\n",
       "      <td>060310</td>\n",
       "      <td>KOSDAQ</td>\n",
       "      <td>3S</td>\n",
       "      <td>특수 목적용 기계 제조업</td>\n",
       "      <td>반도체 웨이퍼 캐리어</td>\n",
       "      <td>2002-04-23</td>\n",
       "      <td>03월</td>\n",
       "      <td>박종익, 김세완 (각자 대표이사)</td>\n",
       "      <td>http://www.3sref.com</td>\n",
       "      <td>서울특별시</td>\n",
       "    </tr>\n",
       "    <tr>\n",
       "      <th>1</th>\n",
       "      <td>095570</td>\n",
       "      <td>KOSPI</td>\n",
       "      <td>AJ네트웍스</td>\n",
       "      <td>산업용 기계 및 장비 임대업</td>\n",
       "      <td>렌탈(파렛트, OA장비, 건설장비)</td>\n",
       "      <td>2015-08-21</td>\n",
       "      <td>12월</td>\n",
       "      <td>이현우</td>\n",
       "      <td>http://www.ajnet.co.kr</td>\n",
       "      <td>서울특별시</td>\n",
       "    </tr>\n",
       "    <tr>\n",
       "      <th>2</th>\n",
       "      <td>006840</td>\n",
       "      <td>KOSPI</td>\n",
       "      <td>AK홀딩스</td>\n",
       "      <td>기타 금융업</td>\n",
       "      <td>지주사업</td>\n",
       "      <td>1999-08-11</td>\n",
       "      <td>12월</td>\n",
       "      <td>채형석, 이석주(각자 대표이사)</td>\n",
       "      <td>http://www.aekyunggroup.co.kr</td>\n",
       "      <td>서울특별시</td>\n",
       "    </tr>\n",
       "    <tr>\n",
       "      <th>3</th>\n",
       "      <td>054620</td>\n",
       "      <td>KOSDAQ</td>\n",
       "      <td>APS홀딩스</td>\n",
       "      <td>기타 금융업</td>\n",
       "      <td>인터넷 트래픽 솔루션</td>\n",
       "      <td>2001-12-04</td>\n",
       "      <td>12월</td>\n",
       "      <td>정기로</td>\n",
       "      <td>http://www.apsholdings.co.kr</td>\n",
       "      <td>경기도</td>\n",
       "    </tr>\n",
       "    <tr>\n",
       "      <th>4</th>\n",
       "      <td>265520</td>\n",
       "      <td>KOSDAQ</td>\n",
       "      <td>AP시스템</td>\n",
       "      <td>특수 목적용 기계 제조업</td>\n",
       "      <td>디스플레이 제조 장비</td>\n",
       "      <td>2017-04-07</td>\n",
       "      <td>12월</td>\n",
       "      <td>김영주</td>\n",
       "      <td>http://www.apsystems.co.kr</td>\n",
       "      <td>경기도</td>\n",
       "    </tr>\n",
       "  </tbody>\n",
       "</table>\n",
       "</div>"
      ],
      "text/plain": [
       "   Symbol  Market    Name           Sector             Industry ListingDate  \\\n",
       "0  060310  KOSDAQ      3S    특수 목적용 기계 제조업          반도체 웨이퍼 캐리어  2002-04-23   \n",
       "1  095570   KOSPI  AJ네트웍스  산업용 기계 및 장비 임대업  렌탈(파렛트, OA장비, 건설장비)  2015-08-21   \n",
       "2  006840   KOSPI   AK홀딩스           기타 금융업                 지주사업  1999-08-11   \n",
       "3  054620  KOSDAQ  APS홀딩스           기타 금융업          인터넷 트래픽 솔루션  2001-12-04   \n",
       "4  265520  KOSDAQ   AP시스템    특수 목적용 기계 제조업          디스플레이 제조 장비  2017-04-07   \n",
       "\n",
       "  SettleMonth      Representative                       HomePage Region  \n",
       "0         03월  박종익, 김세완 (각자 대표이사)           http://www.3sref.com  서울특별시  \n",
       "1         12월                 이현우         http://www.ajnet.co.kr  서울특별시  \n",
       "2         12월   채형석, 이석주(각자 대표이사)  http://www.aekyunggroup.co.kr  서울특별시  \n",
       "3         12월                 정기로   http://www.apsholdings.co.kr    경기도  \n",
       "4         12월                 김영주     http://www.apsystems.co.kr    경기도  "
      ]
     },
     "execution_count": 44,
     "metadata": {},
     "output_type": "execute_result"
    }
   ],
   "source": [
    "import FinanceDataReader as fdr\n",
    "\n",
    "# 한국거래소 상장종목 전체를 확인할 수 있음\n",
    "df_krx = fdr.StockListing('KRX')\n",
    "df_krx.head()"
   ]
  },
  {
   "cell_type": "code",
   "execution_count": 45,
   "metadata": {
    "ExecuteTime": {
     "end_time": "2020-10-19T07:20:01.722216Z",
     "start_time": "2020-10-19T07:19:44.449417Z"
    }
   },
   "outputs": [
    {
     "data": {
      "text/plain": [
       "<matplotlib.axes._subplots.AxesSubplot at 0x1acb1738d30>"
      ]
     },
     "execution_count": 45,
     "metadata": {},
     "output_type": "execute_result"
    },
    {
     "data": {
      "image/png": "[encoded data removed]",
      "text/plain": [
       "<Figure size 432x288 with 1 Axes>"
      ]
     },
     "metadata": {
      "needs_background": "light"
     },
     "output_type": "display_data"
    }
   ],
   "source": [
    "# KOSPI, KOSDAQ, NASDAQ 종합 지수, 2010년 1월~현재\n",
    "kospi = fdr.DataReader('KS11', '2020')\n",
    "kosdaq = fdr.DataReader('KQ11', '2020')\n",
    "nasdaq = fdr.DataReader('IXIC', '2020')\n",
    "\n",
    "# KOSPI 2010년 1월~현재 종가 그래프\n",
    "kospi['Close'].plot()"
   ]
  },
  {
   "cell_type": "code",
   "execution_count": 46,
   "metadata": {
    "ExecuteTime": {
     "end_time": "2020-10-19T07:20:01.947612Z",
     "start_time": "2020-10-19T07:20:01.725209Z"
    }
   },
   "outputs": [
    {
     "data": {
      "text/plain": [
       "<matplotlib.axes._subplots.AxesSubplot at 0x1acb19ba580>"
      ]
     },
     "execution_count": 46,
     "metadata": {},
     "output_type": "execute_result"
    },
    {
     "data": {
      "image/png": "[encoded data removed]",
      "text/plain": [
       "<Figure size 432x288 with 1 Axes>"
      ]
     },
     "metadata": {
      "needs_background": "light"
     },
     "output_type": "display_data"
    }
   ],
   "source": [
    "# KOSDAQ 2010년 1월~현재 종가 그래프\n",
    "kosdaq['Close'].plot()"
   ]
  },
  {
   "cell_type": "code",
   "execution_count": 47,
   "metadata": {
    "ExecuteTime": {
     "end_time": "2020-10-19T07:20:02.487171Z",
     "start_time": "2020-10-19T07:20:01.950605Z"
    }
   },
   "outputs": [
    {
     "data": {
      "text/plain": [
       "<matplotlib.axes._subplots.AxesSubplot at 0x1acb125b610>"
      ]
     },
     "execution_count": 47,
     "metadata": {},
     "output_type": "execute_result"
    },
    {
     "data": {
      "image/png": "[encoded data removed]",
      "text/plain": [
       "<Figure size 432x288 with 1 Axes>"
      ]
     },
     "metadata": {
      "needs_background": "light"
     },
     "output_type": "display_data"
    }
   ],
   "source": [
    "# NASDAQ 2010년 1월~현재 종가 그래프\n",
    "nasdaq['Close'].plot()"
   ]
  },
  {
   "cell_type": "code",
   "execution_count": 48,
   "metadata": {
    "ExecuteTime": {
     "end_time": "2020-10-19T07:20:02.501133Z",
     "start_time": "2020-10-19T07:20:02.490163Z"
    }
   },
   "outputs": [],
   "source": [
    "# 날짜를 인덱스에서 컬럼으로 꺼내옴\n",
    "kospi = kospi.reset_index()\n",
    "kosdaq = kosdaq.reset_index()\n",
    "nasdaq = nasdaq.reset_index()"
   ]
  },
  {
   "cell_type": "code",
   "execution_count": 163,
   "metadata": {
    "ExecuteTime": {
     "end_time": "2020-10-19T10:11:37.827372Z",
     "start_time": "2020-10-19T10:11:37.735617Z"
    }
   },
   "outputs": [
    {
     "data": {
      "text/html": [
       "<div>\n",
       "<style scoped>\n",
       "    .dataframe tbody tr th:only-of-type {\n",
       "        vertical-align: middle;\n",
       "    }\n",
       "\n",
       "    .dataframe tbody tr th {\n",
       "        vertical-align: top;\n",
       "    }\n",
       "\n",
       "    .dataframe thead th {\n",
       "        text-align: right;\n",
       "    }\n",
       "</style>\n",
       "<table border=\"1\" class=\"dataframe\">\n",
       "  <thead>\n",
       "    <tr style=\"text-align: right;\">\n",
       "      <th></th>\n",
       "      <th>Date</th>\n",
       "      <th>Week</th>\n",
       "      <th>Day</th>\n",
       "      <th>Close</th>\n",
       "    </tr>\n",
       "  </thead>\n",
       "  <tbody>\n",
       "    <tr>\n",
       "      <th>0</th>\n",
       "      <td>2020-01-03</td>\n",
       "      <td>1</td>\n",
       "      <td>4</td>\n",
       "      <td>2176.46</td>\n",
       "    </tr>\n",
       "    <tr>\n",
       "      <th>1</th>\n",
       "      <td>2020-01-10</td>\n",
       "      <td>2</td>\n",
       "      <td>4</td>\n",
       "      <td>2206.39</td>\n",
       "    </tr>\n",
       "    <tr>\n",
       "      <th>2</th>\n",
       "      <td>2020-01-17</td>\n",
       "      <td>3</td>\n",
       "      <td>4</td>\n",
       "      <td>2250.57</td>\n",
       "    </tr>\n",
       "    <tr>\n",
       "      <th>3</th>\n",
       "      <td>2020-01-31</td>\n",
       "      <td>5</td>\n",
       "      <td>4</td>\n",
       "      <td>2119.01</td>\n",
       "    </tr>\n",
       "    <tr>\n",
       "      <th>4</th>\n",
       "      <td>2020-02-07</td>\n",
       "      <td>6</td>\n",
       "      <td>4</td>\n",
       "      <td>2211.95</td>\n",
       "    </tr>\n",
       "  </tbody>\n",
       "</table>\n",
       "</div>"
      ],
      "text/plain": [
       "        Date  Week  Day    Close\n",
       "0 2020-01-03     1    4  2176.46\n",
       "1 2020-01-10     2    4  2206.39\n",
       "2 2020-01-17     3    4  2250.57\n",
       "3 2020-01-31     5    4  2119.01\n",
       "4 2020-02-07     6    4  2211.95"
      ]
     },
     "execution_count": 163,
     "metadata": {},
     "output_type": "execute_result"
    }
   ],
   "source": [
    "# 코스피에서 주차(Week) 정보와 요일(Day) 정보를 만들고, 매주 금요일 일자와 종가를 추출\n",
    "kospi[\"Week\"] = kospi[\"Date\"].dt.week\n",
    "kospi[\"Day\"] = kospi[\"Date\"].dt.dayofweek\n",
    "kospi = kospi[[\"Date\", \"Week\", \"Day\", \"Close\"]]\n",
    "kospi = kospi[kospi[\"Day\"].isin([4])]\n",
    "kospi = kospi[[\"Date\", \"Week\", \"Day\", \"Close\"]]\n",
    "\n",
    "#저장하기\n",
    "kospi.to_excel('독립_KOSPI.xlsx', index=False, encoding=\"utf8\")\n",
    "kospi = pd.read_excel('독립_KOSPI.xlsx')\n",
    "kospi.head()"
   ]
  },
  {
   "cell_type": "code",
   "execution_count": 164,
   "metadata": {
    "ExecuteTime": {
     "end_time": "2020-10-19T10:11:38.492592Z",
     "start_time": "2020-10-19T10:11:38.390866Z"
    }
   },
   "outputs": [
    {
     "data": {
      "text/html": [
       "<div>\n",
       "<style scoped>\n",
       "    .dataframe tbody tr th:only-of-type {\n",
       "        vertical-align: middle;\n",
       "    }\n",
       "\n",
       "    .dataframe tbody tr th {\n",
       "        vertical-align: top;\n",
       "    }\n",
       "\n",
       "    .dataframe thead th {\n",
       "        text-align: right;\n",
       "    }\n",
       "</style>\n",
       "<table border=\"1\" class=\"dataframe\">\n",
       "  <thead>\n",
       "    <tr style=\"text-align: right;\">\n",
       "      <th></th>\n",
       "      <th>Date</th>\n",
       "      <th>Week</th>\n",
       "      <th>Day</th>\n",
       "      <th>Close</th>\n",
       "    </tr>\n",
       "  </thead>\n",
       "  <tbody>\n",
       "    <tr>\n",
       "      <th>0</th>\n",
       "      <td>2020-01-03</td>\n",
       "      <td>1</td>\n",
       "      <td>4</td>\n",
       "      <td>669.93</td>\n",
       "    </tr>\n",
       "    <tr>\n",
       "      <th>1</th>\n",
       "      <td>2020-01-10</td>\n",
       "      <td>2</td>\n",
       "      <td>4</td>\n",
       "      <td>673.03</td>\n",
       "    </tr>\n",
       "    <tr>\n",
       "      <th>2</th>\n",
       "      <td>2020-01-17</td>\n",
       "      <td>3</td>\n",
       "      <td>4</td>\n",
       "      <td>688.41</td>\n",
       "    </tr>\n",
       "    <tr>\n",
       "      <th>3</th>\n",
       "      <td>2020-01-31</td>\n",
       "      <td>5</td>\n",
       "      <td>4</td>\n",
       "      <td>642.48</td>\n",
       "    </tr>\n",
       "    <tr>\n",
       "      <th>4</th>\n",
       "      <td>2020-02-07</td>\n",
       "      <td>6</td>\n",
       "      <td>4</td>\n",
       "      <td>672.63</td>\n",
       "    </tr>\n",
       "  </tbody>\n",
       "</table>\n",
       "</div>"
      ],
      "text/plain": [
       "        Date  Week  Day   Close\n",
       "0 2020-01-03     1    4  669.93\n",
       "1 2020-01-10     2    4  673.03\n",
       "2 2020-01-17     3    4  688.41\n",
       "3 2020-01-31     5    4  642.48\n",
       "4 2020-02-07     6    4  672.63"
      ]
     },
     "execution_count": 164,
     "metadata": {},
     "output_type": "execute_result"
    }
   ],
   "source": [
    "# 코스닥에서 주차(Week) 정보와 요일(Day) 정보를 만들고, 매주 금요일 일자와 종가를 추출\n",
    "kosdaq[\"Week\"] = kosdaq[\"Date\"].dt.week\n",
    "kosdaq[\"Day\"] = kosdaq[\"Date\"].dt.dayofweek\n",
    "kosdaq = kosdaq[[\"Date\", \"Week\", \"Day\", \"Close\"]]\n",
    "kosdaq = kosdaq[kosdaq[\"Day\"].isin([4])]\n",
    "kosdaq = kosdaq[[\"Date\", \"Week\", \"Day\", \"Close\"]]\n",
    "\n",
    "# 저장하기\n",
    "kosdaq.to_excel('독립_KOSDAQ.xlsx', index=False, encoding=\"utf8\")\n",
    "kosdaq = pd.read_excel('독립_KOSDAQ.xlsx')\n",
    "kosdaq.head()"
   ]
  },
  {
   "cell_type": "code",
   "execution_count": 165,
   "metadata": {
    "ExecuteTime": {
     "end_time": "2020-10-19T10:11:42.219623Z",
     "start_time": "2020-10-19T10:11:42.126874Z"
    },
    "scrolled": true
   },
   "outputs": [
    {
     "data": {
      "text/html": [
       "<div>\n",
       "<style scoped>\n",
       "    .dataframe tbody tr th:only-of-type {\n",
       "        vertical-align: middle;\n",
       "    }\n",
       "\n",
       "    .dataframe tbody tr th {\n",
       "        vertical-align: top;\n",
       "    }\n",
       "\n",
       "    .dataframe thead th {\n",
       "        text-align: right;\n",
       "    }\n",
       "</style>\n",
       "<table border=\"1\" class=\"dataframe\">\n",
       "  <thead>\n",
       "    <tr style=\"text-align: right;\">\n",
       "      <th></th>\n",
       "      <th>Date</th>\n",
       "      <th>Week</th>\n",
       "      <th>Day</th>\n",
       "      <th>Close</th>\n",
       "    </tr>\n",
       "  </thead>\n",
       "  <tbody>\n",
       "    <tr>\n",
       "      <th>0</th>\n",
       "      <td>2020-01-03</td>\n",
       "      <td>1</td>\n",
       "      <td>4</td>\n",
       "      <td>9020.77</td>\n",
       "    </tr>\n",
       "    <tr>\n",
       "      <th>1</th>\n",
       "      <td>2020-01-10</td>\n",
       "      <td>2</td>\n",
       "      <td>4</td>\n",
       "      <td>9178.86</td>\n",
       "    </tr>\n",
       "    <tr>\n",
       "      <th>2</th>\n",
       "      <td>2020-01-17</td>\n",
       "      <td>3</td>\n",
       "      <td>4</td>\n",
       "      <td>9388.94</td>\n",
       "    </tr>\n",
       "    <tr>\n",
       "      <th>3</th>\n",
       "      <td>2020-01-24</td>\n",
       "      <td>4</td>\n",
       "      <td>4</td>\n",
       "      <td>9314.91</td>\n",
       "    </tr>\n",
       "    <tr>\n",
       "      <th>4</th>\n",
       "      <td>2020-01-31</td>\n",
       "      <td>5</td>\n",
       "      <td>4</td>\n",
       "      <td>9150.94</td>\n",
       "    </tr>\n",
       "  </tbody>\n",
       "</table>\n",
       "</div>"
      ],
      "text/plain": [
       "        Date  Week  Day    Close\n",
       "0 2020-01-03     1    4  9020.77\n",
       "1 2020-01-10     2    4  9178.86\n",
       "2 2020-01-17     3    4  9388.94\n",
       "3 2020-01-24     4    4  9314.91\n",
       "4 2020-01-31     5    4  9150.94"
      ]
     },
     "execution_count": 165,
     "metadata": {},
     "output_type": "execute_result"
    }
   ],
   "source": [
    "# 나스닥에서 주차(Week) 정보와 요일(Day) 정보를 만들고, 매주 금요일 일자와 종가를 추출\n",
    "nasdaq[\"Week\"] = nasdaq[\"Date\"].dt.week\n",
    "nasdaq[\"Day\"] = nasdaq[\"Date\"].dt.dayofweek\n",
    "nasdaq = nasdaq[[\"Date\", \"Week\", \"Day\", \"Close\"]]\n",
    "nasdaq = nasdaq[nasdaq[\"Day\"].isin([4])]\n",
    "nasdaq = nasdaq[[\"Date\", \"Week\", \"Day\", \"Close\"]]\n",
    "\n",
    "# 저장하기\n",
    "nasdaq.to_excel('독립_NASDAQ.xlsx', index=False, encoding=\"utf8\")\n",
    "nasdaq = pd.read_excel('독립_NASDAQ.xlsx')\n",
    "nasdaq.head()"
   ]
  },
  {
   "cell_type": "markdown",
   "metadata": {},
   "source": [
    "### 3) WICS 지수\n",
    "- 원본데이터 출처: WICS  \n",
    "  'WICS_index.csv'  \n",
    "- **WICS** (WISE Industry Classification Standard) 업종 분류의 업종은 국제적으로 통용되는 분류 기준을 국내 실정에 맞게 재구성하여 크게 대분류, 중분류, 소분류, 세개 분류로 나누어진다. 분류 종목은 대부분 지수 편입 종목이 된다. ([자세히](http://www.wiseindex.com/konannas/files/WICS_Sector_Index_Methodology.pdf?20200831))"
   ]
  },
  {
   "cell_type": "code",
   "execution_count": 166,
   "metadata": {
    "ExecuteTime": {
     "end_time": "2020-10-19T10:11:43.815355Z",
     "start_time": "2020-10-19T10:11:43.798403Z"
    }
   },
   "outputs": [],
   "source": [
    "# 원본데이터\n",
    "wics = pd.read_csv('WICS_index.csv')"
   ]
  },
  {
   "cell_type": "code",
   "execution_count": 167,
   "metadata": {
    "ExecuteTime": {
     "end_time": "2020-10-19T10:11:44.357908Z",
     "start_time": "2020-10-19T10:11:44.348932Z"
    }
   },
   "outputs": [],
   "source": [
    "# 문자열 일자 데이터를 날짜형 데이터로 변환\n",
    "wics['일자'] = pd.to_datetime(wics['일자'])"
   ]
  },
  {
   "cell_type": "code",
   "execution_count": 168,
   "metadata": {
    "ExecuteTime": {
     "end_time": "2020-10-19T10:11:44.894469Z",
     "start_time": "2020-10-19T10:11:44.841619Z"
    }
   },
   "outputs": [],
   "source": [
    "# ' 소재' 컬럼의 빈칸 조정\n",
    "wics.columns = ['일자', '경기관련소비재', '에너지', '소재', '산업재', '필수소비재', '건강관리', \n",
    "                '금융', 'IT', '커뮤니케이션서비스', '유틸리티']\n",
    "\n",
    "# ','가 있던 숫자 값의 쉼표 제거 및 float으로 변환\n",
    "wics['경기관련소비재']=wics['경기관련소비재'].replace(',','',regex=True).astype(float)\n",
    "wics['에너지']=wics['에너지'].replace(',','',regex=True).astype(float)\n",
    "wics['소재']=wics['소재'].replace(',','',regex=True).astype(float)\n",
    "wics['산업재']=wics['산업재'].replace(',','',regex=True).astype(float)\n",
    "wics['필수소비재']=wics['필수소비재'].replace(',','',regex=True).astype(float)\n",
    "wics['건강관리']=wics['건강관리'].replace(',','',regex=True).astype(float)\n",
    "wics['금융']=wics['금융'].replace(',','',regex=True).astype(float)\n",
    "wics['IT']=wics['IT'].replace(',','',regex=True).astype(float)\n",
    "wics['커뮤니케이션서비스']=wics['커뮤니케이션서비스'].replace(',','',regex=True).astype(float)\n",
    "wics['유틸리티']=wics['유틸리티'].replace(',','',regex=True).astype(float)"
   ]
  },
  {
   "cell_type": "code",
   "execution_count": 217,
   "metadata": {
    "ExecuteTime": {
     "end_time": "2020-10-19T10:13:53.260120Z",
     "start_time": "2020-10-19T10:13:53.052675Z"
    }
   },
   "outputs": [
    {
     "data": {
      "text/html": [
       "<div>\n",
       "<style scoped>\n",
       "    .dataframe tbody tr th:only-of-type {\n",
       "        vertical-align: middle;\n",
       "    }\n",
       "\n",
       "    .dataframe tbody tr th {\n",
       "        vertical-align: top;\n",
       "    }\n",
       "\n",
       "    .dataframe thead th {\n",
       "        text-align: right;\n",
       "    }\n",
       "</style>\n",
       "<table border=\"1\" class=\"dataframe\">\n",
       "  <thead>\n",
       "    <tr style=\"text-align: right;\">\n",
       "      <th></th>\n",
       "      <th>일자</th>\n",
       "      <th>주차</th>\n",
       "      <th>요일</th>\n",
       "      <th>경기관련소비재</th>\n",
       "      <th>에너지</th>\n",
       "      <th>소재</th>\n",
       "      <th>산업재</th>\n",
       "      <th>필수소비재</th>\n",
       "      <th>건강관리</th>\n",
       "      <th>금융</th>\n",
       "      <th>IT</th>\n",
       "      <th>커뮤니케이션서비스</th>\n",
       "      <th>유틸리티</th>\n",
       "    </tr>\n",
       "  </thead>\n",
       "  <tbody>\n",
       "    <tr>\n",
       "      <th>0</th>\n",
       "      <td>2017-10-13</td>\n",
       "      <td>41</td>\n",
       "      <td>4</td>\n",
       "      <td>3251.15</td>\n",
       "      <td>5856.65</td>\n",
       "      <td>3458.18</td>\n",
       "      <td>1854.56</td>\n",
       "      <td>5739.83</td>\n",
       "      <td>4665.15</td>\n",
       "      <td>1844.58</td>\n",
       "      <td>2166.07</td>\n",
       "      <td>278.59</td>\n",
       "      <td>1078.17</td>\n",
       "    </tr>\n",
       "    <tr>\n",
       "      <th>1</th>\n",
       "      <td>2017-10-20</td>\n",
       "      <td>42</td>\n",
       "      <td>4</td>\n",
       "      <td>3295.80</td>\n",
       "      <td>5818.19</td>\n",
       "      <td>3529.94</td>\n",
       "      <td>1882.39</td>\n",
       "      <td>5873.09</td>\n",
       "      <td>4800.06</td>\n",
       "      <td>1833.57</td>\n",
       "      <td>2158.81</td>\n",
       "      <td>278.00</td>\n",
       "      <td>1117.76</td>\n",
       "    </tr>\n",
       "    <tr>\n",
       "      <th>2</th>\n",
       "      <td>2017-10-27</td>\n",
       "      <td>43</td>\n",
       "      <td>4</td>\n",
       "      <td>3434.22</td>\n",
       "      <td>5761.43</td>\n",
       "      <td>3577.55</td>\n",
       "      <td>1888.69</td>\n",
       "      <td>5900.89</td>\n",
       "      <td>4853.54</td>\n",
       "      <td>1849.30</td>\n",
       "      <td>2144.91</td>\n",
       "      <td>273.64</td>\n",
       "      <td>1063.97</td>\n",
       "    </tr>\n",
       "    <tr>\n",
       "      <th>3</th>\n",
       "      <td>2017-11-03</td>\n",
       "      <td>44</td>\n",
       "      <td>4</td>\n",
       "      <td>3508.02</td>\n",
       "      <td>5772.44</td>\n",
       "      <td>3566.09</td>\n",
       "      <td>1905.14</td>\n",
       "      <td>5944.67</td>\n",
       "      <td>5009.34</td>\n",
       "      <td>1849.43</td>\n",
       "      <td>2252.06</td>\n",
       "      <td>277.89</td>\n",
       "      <td>1070.47</td>\n",
       "    </tr>\n",
       "    <tr>\n",
       "      <th>4</th>\n",
       "      <td>2017-11-10</td>\n",
       "      <td>45</td>\n",
       "      <td>4</td>\n",
       "      <td>3537.89</td>\n",
       "      <td>5803.78</td>\n",
       "      <td>3528.84</td>\n",
       "      <td>1894.80</td>\n",
       "      <td>6128.82</td>\n",
       "      <td>5088.39</td>\n",
       "      <td>1784.60</td>\n",
       "      <td>2251.42</td>\n",
       "      <td>269.10</td>\n",
       "      <td>1059.81</td>\n",
       "    </tr>\n",
       "  </tbody>\n",
       "</table>\n",
       "</div>"
      ],
      "text/plain": [
       "          일자  주차  요일  경기관련소비재      에너지       소재      산업재    필수소비재     건강관리  \\\n",
       "0 2017-10-13  41   4  3251.15  5856.65  3458.18  1854.56  5739.83  4665.15   \n",
       "1 2017-10-20  42   4  3295.80  5818.19  3529.94  1882.39  5873.09  4800.06   \n",
       "2 2017-10-27  43   4  3434.22  5761.43  3577.55  1888.69  5900.89  4853.54   \n",
       "3 2017-11-03  44   4  3508.02  5772.44  3566.09  1905.14  5944.67  5009.34   \n",
       "4 2017-11-10  45   4  3537.89  5803.78  3528.84  1894.80  6128.82  5088.39   \n",
       "\n",
       "        금융       IT  커뮤니케이션서비스     유틸리티  \n",
       "0  1844.58  2166.07     278.59  1078.17  \n",
       "1  1833.57  2158.81     278.00  1117.76  \n",
       "2  1849.30  2144.91     273.64  1063.97  \n",
       "3  1849.43  2252.06     277.89  1070.47  \n",
       "4  1784.60  2251.42     269.10  1059.81  "
      ]
     },
     "execution_count": 217,
     "metadata": {},
     "output_type": "execute_result"
    }
   ],
   "source": [
    "# 요일과 주차 데이터 추출.\n",
    "wics[\"요일\"] = wics[\"일자\"].dt.dayofweek\n",
    "wics[\"주차\"] = wics[\"일자\"].dt.week\n",
    "\n",
    "# 주차와 요일 컬럼 추가 및 정렬.\n",
    "wics = wics.reindex(columns=['일자', '주차', '요일', '경기관련소비재', '에너지', '소재', '산업재', '필수소비재', '건강관리', '금융', 'IT',\n",
    "                             '커뮤니케이션서비스', '유틸리티'])\n",
    "\n",
    "# 오래된 일자 순으로 정렬하고 인덱스 리셋.\n",
    "wics = wics.sort_values(by='일자', ascending=True)\n",
    "wics = wics.reset_index(drop=True)\n",
    "# 금요일 데이터만 남기기.\n",
    "wics = wics[wics[\"요일\"].isin([4])]\n",
    "wics = wics[['일자', '주차', '요일', '경기관련소비재', '에너지', '소재', '산업재', '필수소비재', '건강관리', '금융', 'IT',\n",
    "                             '커뮤니케이션서비스', '유틸리티']]\n",
    "# 저장하기\n",
    "wics.to_excel('독립_WICS.xlsx', index=False, encoding=\"utf8\")\n",
    "wics = pd.read_excel('독립_WICS.xlsx')\n",
    "wics.head()"
   ]
  },
  {
   "cell_type": "markdown",
   "metadata": {},
   "source": [
    "최종 데이터셋의 컬럼은 아래와 같다.\n",
    "**WICS 지수**\n",
    "- 날짜\n",
    "- 주차\n",
    "- 경기관련소비재, 에너지, 소재, 산업재, 필수소비재, 건강관리, 금융, IT, 커뮤니케이션서비스, 유틸리티"
   ]
  },
  {
   "cell_type": "markdown",
   "metadata": {},
   "source": [
    "## 1-3. 뉴스 데이터\n",
    "\n",
    "---\n",
    "\n",
    "- 주가와 주식 관련한 각종 지수는 그 어떤 영역보다도 복잡계에 해당한다. (그렇지 않았다면 모두가 투자로 부자 되었을 것) 도메인 전문가 인터뷰를 통해 주가에 영향을 줄 수 있는 대표적인 요소들을 추가로 확인하고 분석에 활용했다.\n",
    "\n",
    "\n",
    "- 원본데이터 출처: 빅카인즈(한국언론진흥재단에서 운영하는 뉴스 데이터 서비스  \n",
    "  '한국은행.xlsx'  \n",
    "  '연준.xlsx'  \n",
    "  '바이오헬스.xlsx'\n",
    "  \n",
    "  \n",
    "- 3개의 데이터셋은 전부 키워드 검색 결과 나온 뉴스 기사를 일자별로 수집한 뒤, 주차별 주간 기사 수 합계를 구했다.  \n",
    "\n",
    "  1) 한국은행의 통화 정책 관련 키워드 뉴스 수  \n",
    "  2) 미국 연방준비위원회의 통화 정책 관련 키워드 뉴스 수  \n",
    "  3) 정부의 미래 투자 산업 관련 키워드 뉴스 수  \n",
    "  \n",
    "- 각각의 키워드는 아래와 같다.\n",
    "    1. 디지털 뉴딜, 그린 뉴딜, 바이오 헬스, 시스템 반도체, 소부장, 자율주행, 5G, 태양광\n",
    "    2. 한국은행, 돈 풀다, 광의통화, 시중 유동성, 통화승수, 돈맥경화, 통화 증가세, 본원통화\n",
    "    3. 연준, 돈 풀다, 광의통화, 시중 유동성, 통화승수, 돈맥경화, 통화 증가세, 본원통화"
   ]
  },
  {
   "cell_type": "markdown",
   "metadata": {},
   "source": [
    "### 1) 한국은행의 통화 정책 관련 뉴스 수"
   ]
  },
  {
   "cell_type": "code",
   "execution_count": 170,
   "metadata": {
    "ExecuteTime": {
     "end_time": "2020-10-19T10:11:46.583949Z",
     "start_time": "2020-10-19T10:11:46.578964Z"
    }
   },
   "outputs": [],
   "source": [
    "import pandas as pd\n",
    "from datetime import datetime"
   ]
  },
  {
   "cell_type": "code",
   "execution_count": 171,
   "metadata": {
    "ExecuteTime": {
     "end_time": "2020-10-19T10:11:47.566322Z",
     "start_time": "2020-10-19T10:11:46.843257Z"
    }
   },
   "outputs": [],
   "source": [
    "# 원본데이터\n",
    "kr_bank = pd.read_excel('한국은행.xlsx')"
   ]
  },
  {
   "cell_type": "code",
   "execution_count": 172,
   "metadata": {
    "ExecuteTime": {
     "end_time": "2020-10-19T10:11:47.604221Z",
     "start_time": "2020-10-19T10:11:47.569314Z"
    }
   },
   "outputs": [],
   "source": [
    "# 필요한 컬럼만 남기기.\n",
    "kr_bank = kr_bank[['일자']]\n",
    "\n",
    "# 컬럼명 변경하기\n",
    "kr_bank.columns = [\"Date\"]\n",
    "\n",
    "# Datetime 으로 변경하기.\n",
    "kr_bank['Date'] = pd.to_datetime(kr_bank['Date'], format='%Y%m%d')\n",
    "\n",
    "# '주차' 생성 및 추가하기.\n",
    "kr_bank[\"Week\"] = kr_bank[\"Date\"].dt.week\n",
    "kr_bank = kr_bank[['Date','Week']]\n",
    "kr_bank = kr_bank.sort_values(by=['Date'], axis=0, ascending=True)\n",
    "\n",
    "# \"주차\"로 groupby 한 다음 일자 합계로 \"주간 기사 수\"를 구합니다.\n",
    "kr_bank_w = kr_bank.groupby([\"Week\"])[\"Date\"].count()\n",
    "# 용이한 가공을 위해 데이터프레임으로 만들어줍니다.\n",
    "kr_bank_weekly = pd.DataFrame(kr_bank_w)\n",
    "kr_bank_weekly.columns = [\"KR_bank\"]\n",
    "kr_bank_weekly.head()\n",
    "kr_bank = kr_bank.merge(kr_bank_weekly, left_on=\"Week\", right_on=kr_bank_weekly.index, how=\"left\")\n",
    "\n",
    "# '요일' 생성 및 추가하기\n",
    "kr_bank[\"Day\"] = kr_bank[\"Date\"].dt.dayofweek\n",
    "kr_bank = kr_bank[['Date','Week','Day', 'KR_bank']]\n",
    "\n",
    "# 최종 원하는 데이터는 '주간 확진자'와 '주간 사망자'.\n",
    "# 금요일 주가를 기준으로 하는 주가 데이터와 합칠 예정이므로 금요일만 남기기.\n",
    "kr_bank = kr_bank[kr_bank['Day'].isin([4])]\n",
    "\n",
    "# 중복값 제거하기.\n",
    "kr_bank = kr_bank.drop_duplicates()\n",
    "kr_bank = kr_bank.drop_duplicates(\"Week\", keep=\"first\")\n",
    "\n",
    "# 필요한 컬럼만 남기기.\n",
    "kr_bank = kr_bank[['Date', 'Week', 'KR_bank']]"
   ]
  },
  {
   "cell_type": "code",
   "execution_count": 173,
   "metadata": {
    "ExecuteTime": {
     "end_time": "2020-10-19T10:11:47.715924Z",
     "start_time": "2020-10-19T10:11:47.607213Z"
    }
   },
   "outputs": [
    {
     "data": {
      "text/html": [
       "<div>\n",
       "<style scoped>\n",
       "    .dataframe tbody tr th:only-of-type {\n",
       "        vertical-align: middle;\n",
       "    }\n",
       "\n",
       "    .dataframe tbody tr th {\n",
       "        vertical-align: top;\n",
       "    }\n",
       "\n",
       "    .dataframe thead th {\n",
       "        text-align: right;\n",
       "    }\n",
       "</style>\n",
       "<table border=\"1\" class=\"dataframe\">\n",
       "  <thead>\n",
       "    <tr style=\"text-align: right;\">\n",
       "      <th></th>\n",
       "      <th>Date</th>\n",
       "      <th>Week</th>\n",
       "      <th>KR_bank</th>\n",
       "    </tr>\n",
       "  </thead>\n",
       "  <tbody>\n",
       "    <tr>\n",
       "      <th>0</th>\n",
       "      <td>2020-01-17</td>\n",
       "      <td>3</td>\n",
       "      <td>32</td>\n",
       "    </tr>\n",
       "    <tr>\n",
       "      <th>1</th>\n",
       "      <td>2020-02-07</td>\n",
       "      <td>6</td>\n",
       "      <td>10</td>\n",
       "    </tr>\n",
       "    <tr>\n",
       "      <th>2</th>\n",
       "      <td>2020-02-14</td>\n",
       "      <td>7</td>\n",
       "      <td>46</td>\n",
       "    </tr>\n",
       "    <tr>\n",
       "      <th>3</th>\n",
       "      <td>2020-02-21</td>\n",
       "      <td>8</td>\n",
       "      <td>11</td>\n",
       "    </tr>\n",
       "    <tr>\n",
       "      <th>4</th>\n",
       "      <td>2020-02-28</td>\n",
       "      <td>9</td>\n",
       "      <td>53</td>\n",
       "    </tr>\n",
       "  </tbody>\n",
       "</table>\n",
       "</div>"
      ],
      "text/plain": [
       "        Date  Week  KR_bank\n",
       "0 2020-01-17     3       32\n",
       "1 2020-02-07     6       10\n",
       "2 2020-02-14     7       46\n",
       "3 2020-02-21     8       11\n",
       "4 2020-02-28     9       53"
      ]
     },
     "execution_count": 173,
     "metadata": {},
     "output_type": "execute_result"
    }
   ],
   "source": [
    "kr_bank.to_excel(\"독립_KR_bank.xlsx\", index=False, encoding=\"utf8\")\n",
    "kr_bank = pd.read_excel('독립_KR_bank.xlsx')\n",
    "kr_bank.head()"
   ]
  },
  {
   "cell_type": "code",
   "execution_count": 174,
   "metadata": {
    "ExecuteTime": {
     "end_time": "2020-10-19T10:11:47.989191Z",
     "start_time": "2020-10-19T10:11:47.717916Z"
    },
    "scrolled": true
   },
   "outputs": [
    {
     "data": {
      "text/plain": [
       "<matplotlib.axes._subplots.AxesSubplot at 0x1acb1523c70>"
      ]
     },
     "execution_count": 174,
     "metadata": {},
     "output_type": "execute_result"
    },
    {
     "data": {
      "image/png": "[encoded data removed]",
      "text/plain": [
       "<Figure size 1080x288 with 1 Axes>"
      ]
     },
     "metadata": {
      "needs_background": "light"
     },
     "output_type": "display_data"
    }
   ],
   "source": [
    "kr_bank.plot(x='Week', y='KR_bank', figsize=(15,4))"
   ]
  },
  {
   "cell_type": "markdown",
   "metadata": {},
   "source": [
    "### 2) 미국 연방준비위원회의 통화 정책 관련 뉴스 수"
   ]
  },
  {
   "cell_type": "code",
   "execution_count": 175,
   "metadata": {
    "ExecuteTime": {
     "end_time": "2020-10-19T10:11:48.597563Z",
     "start_time": "2020-10-19T10:11:48.592582Z"
    }
   },
   "outputs": [],
   "source": [
    "import pandas as pd\n",
    "from datetime import datetime"
   ]
  },
  {
   "cell_type": "code",
   "execution_count": 176,
   "metadata": {
    "ExecuteTime": {
     "end_time": "2020-10-19T10:11:51.978521Z",
     "start_time": "2020-10-19T10:11:48.806008Z"
    }
   },
   "outputs": [],
   "source": [
    "# 원본데이터\n",
    "us_bank = pd.read_excel('연방.xlsx')"
   ]
  },
  {
   "cell_type": "code",
   "execution_count": 177,
   "metadata": {
    "ExecuteTime": {
     "end_time": "2020-10-19T10:11:52.024400Z",
     "start_time": "2020-10-19T10:11:51.980515Z"
    }
   },
   "outputs": [],
   "source": [
    "# 필요한 컬럼만 남기기.\n",
    "us_bank = us_bank[['일자']]\n",
    "\n",
    "# 컬럼명 변경하기\n",
    "us_bank.columns = [\"Date\"]\n",
    "\n",
    "# Datetime 으로 변경하기.\n",
    "us_bank['Date'] = pd.to_datetime(us_bank['Date'], format='%Y%m%d')\n",
    "\n",
    "# '주차' 생성 및 추가하기.\n",
    "us_bank[\"Week\"] = us_bank[\"Date\"].dt.week\n",
    "us_bank = us_bank[['Date','Week']]\n",
    "us_bank = us_bank.sort_values(by=['Date'], axis=0, ascending=True)\n",
    "\n",
    "# \"주차\"로 groupby 한 다음 일자 합계로 \"주간 기사 수\"를 구합니다.\n",
    "us_bank_w = us_bank.groupby([\"Week\"])[\"Date\"].count()\n",
    "# 용이한 가공을 위해 데이터프레임으로 만들어줍니다.\n",
    "us_bank_weekly = pd.DataFrame(us_bank_w)\n",
    "us_bank_weekly.columns = [\"US_bank\"]\n",
    "us_bank_weekly.head()\n",
    "us_bank = us_bank.merge(us_bank_weekly, left_on=\"Week\", right_on=us_bank_weekly.index, how=\"left\")\n",
    "\n",
    "# '요일' 생성 및 추가하기\n",
    "us_bank[\"Day\"] = us_bank[\"Date\"].dt.dayofweek\n",
    "us_bank = us_bank[['Date','Week','Day', 'US_bank']]\n",
    "\n",
    "# 최종 원하는 데이터는 '주간 확진자'와 '주간 사망자'.\n",
    "# 금요일 주가를 기준으로 하는 주가 데이터와 합칠 예정이므로 금요일만 남기기.\n",
    "us_bank = us_bank[us_bank['Day'].isin([4])]\n",
    "\n",
    "# 중복값 제거하기.\n",
    "us_bank = us_bank.drop_duplicates()\n",
    "us_bank = us_bank.drop_duplicates(\"Week\", keep=\"first\")\n",
    "\n",
    "# 필요한 컬럼만 남기기.\n",
    "us_bank = us_bank[['Date', 'Week', 'US_bank']]"
   ]
  },
  {
   "cell_type": "code",
   "execution_count": 178,
   "metadata": {
    "ExecuteTime": {
     "end_time": "2020-10-19T10:11:52.108174Z",
     "start_time": "2020-10-19T10:11:52.027389Z"
    }
   },
   "outputs": [
    {
     "data": {
      "text/html": [
       "<div>\n",
       "<style scoped>\n",
       "    .dataframe tbody tr th:only-of-type {\n",
       "        vertical-align: middle;\n",
       "    }\n",
       "\n",
       "    .dataframe tbody tr th {\n",
       "        vertical-align: top;\n",
       "    }\n",
       "\n",
       "    .dataframe thead th {\n",
       "        text-align: right;\n",
       "    }\n",
       "</style>\n",
       "<table border=\"1\" class=\"dataframe\">\n",
       "  <thead>\n",
       "    <tr style=\"text-align: right;\">\n",
       "      <th></th>\n",
       "      <th>Date</th>\n",
       "      <th>Week</th>\n",
       "      <th>US_bank</th>\n",
       "    </tr>\n",
       "  </thead>\n",
       "  <tbody>\n",
       "    <tr>\n",
       "      <th>0</th>\n",
       "      <td>2020-01-17</td>\n",
       "      <td>3</td>\n",
       "      <td>16</td>\n",
       "    </tr>\n",
       "    <tr>\n",
       "      <th>1</th>\n",
       "      <td>2020-01-31</td>\n",
       "      <td>5</td>\n",
       "      <td>133</td>\n",
       "    </tr>\n",
       "    <tr>\n",
       "      <th>2</th>\n",
       "      <td>2020-02-07</td>\n",
       "      <td>6</td>\n",
       "      <td>55</td>\n",
       "    </tr>\n",
       "    <tr>\n",
       "      <th>3</th>\n",
       "      <td>2020-02-14</td>\n",
       "      <td>7</td>\n",
       "      <td>82</td>\n",
       "    </tr>\n",
       "    <tr>\n",
       "      <th>4</th>\n",
       "      <td>2020-02-21</td>\n",
       "      <td>8</td>\n",
       "      <td>56</td>\n",
       "    </tr>\n",
       "  </tbody>\n",
       "</table>\n",
       "</div>"
      ],
      "text/plain": [
       "        Date  Week  US_bank\n",
       "0 2020-01-17     3       16\n",
       "1 2020-01-31     5      133\n",
       "2 2020-02-07     6       55\n",
       "3 2020-02-14     7       82\n",
       "4 2020-02-21     8       56"
      ]
     },
     "execution_count": 178,
     "metadata": {},
     "output_type": "execute_result"
    }
   ],
   "source": [
    "us_bank.to_excel(\"독립_US_bank.xlsx\", index=False, encoding=\"utf8\")\n",
    "us_bank = pd.read_excel('독립_US_bank.xlsx')\n",
    "us_bank.head()"
   ]
  },
  {
   "cell_type": "code",
   "execution_count": 179,
   "metadata": {
    "ExecuteTime": {
     "end_time": "2020-10-19T10:11:52.403384Z",
     "start_time": "2020-10-19T10:11:52.111167Z"
    },
    "scrolled": true
   },
   "outputs": [
    {
     "data": {
      "text/plain": [
       "<matplotlib.axes._subplots.AxesSubplot at 0x1acb07b4fa0>"
      ]
     },
     "execution_count": 179,
     "metadata": {},
     "output_type": "execute_result"
    },
    {
     "data": {
      "image/png": "[encoded data removed]",
      "text/plain": [
       "<Figure size 1080x288 with 1 Axes>"
      ]
     },
     "metadata": {
      "needs_background": "light"
     },
     "output_type": "display_data"
    }
   ],
   "source": [
    "us_bank.plot(x='Week', y='US_bank', figsize=(15,4))"
   ]
  },
  {
   "cell_type": "markdown",
   "metadata": {},
   "source": [
    "### 3) 정부의 미래 투자 산업 관련 뉴스 수"
   ]
  },
  {
   "cell_type": "code",
   "execution_count": 180,
   "metadata": {
    "ExecuteTime": {
     "end_time": "2020-10-19T10:11:52.411364Z",
     "start_time": "2020-10-19T10:11:52.406376Z"
    }
   },
   "outputs": [],
   "source": [
    "import pandas as pd\n",
    "from datetime import datetime"
   ]
  },
  {
   "cell_type": "code",
   "execution_count": 181,
   "metadata": {
    "ExecuteTime": {
     "end_time": "2020-10-19T10:11:53.182300Z",
     "start_time": "2020-10-19T10:11:52.413357Z"
    }
   },
   "outputs": [],
   "source": [
    "# 원본데이터\n",
    "biohealth = pd.read_excel('바이오 헬스.xlsx')"
   ]
  },
  {
   "cell_type": "code",
   "execution_count": 182,
   "metadata": {
    "ExecuteTime": {
     "end_time": "2020-10-19T10:11:53.215212Z",
     "start_time": "2020-10-19T10:11:53.184295Z"
    }
   },
   "outputs": [
    {
     "data": {
      "text/html": [
       "<div>\n",
       "<style scoped>\n",
       "    .dataframe tbody tr th:only-of-type {\n",
       "        vertical-align: middle;\n",
       "    }\n",
       "\n",
       "    .dataframe tbody tr th {\n",
       "        vertical-align: top;\n",
       "    }\n",
       "\n",
       "    .dataframe thead th {\n",
       "        text-align: right;\n",
       "    }\n",
       "</style>\n",
       "<table border=\"1\" class=\"dataframe\">\n",
       "  <thead>\n",
       "    <tr style=\"text-align: right;\">\n",
       "      <th></th>\n",
       "      <th>Week</th>\n",
       "      <th>바이오헬스</th>\n",
       "    </tr>\n",
       "  </thead>\n",
       "  <tbody>\n",
       "    <tr>\n",
       "      <th>0</th>\n",
       "      <td>3</td>\n",
       "      <td>7</td>\n",
       "    </tr>\n",
       "    <tr>\n",
       "      <th>1</th>\n",
       "      <td>4</td>\n",
       "      <td>54</td>\n",
       "    </tr>\n",
       "    <tr>\n",
       "      <th>2</th>\n",
       "      <td>5</td>\n",
       "      <td>20</td>\n",
       "    </tr>\n",
       "    <tr>\n",
       "      <th>3</th>\n",
       "      <td>6</td>\n",
       "      <td>24</td>\n",
       "    </tr>\n",
       "    <tr>\n",
       "      <th>4</th>\n",
       "      <td>7</td>\n",
       "      <td>26</td>\n",
       "    </tr>\n",
       "  </tbody>\n",
       "</table>\n",
       "</div>"
      ],
      "text/plain": [
       "   Week  바이오헬스\n",
       "0     3      7\n",
       "1     4     54\n",
       "2     5     20\n",
       "3     6     24\n",
       "4     7     26"
      ]
     },
     "execution_count": 182,
     "metadata": {},
     "output_type": "execute_result"
    }
   ],
   "source": [
    "# 필요한 컬럼만 남기기\n",
    "biohealth = biohealth[['일자']]\n",
    "\n",
    "# 컬럼명 변경하기\n",
    "biohealth.columns = [\"Date\"]\n",
    "\n",
    "# Datetime 으로 데이터타입 변경하기\n",
    "biohealth['Date'] = pd.to_datetime(biohealth['Date'], format='%Y%m%d')\n",
    "\n",
    "# '주차'컬럼 생성 및 추가하기\n",
    "biohealth[\"Week\"] = biohealth[\"Date\"].dt.week\n",
    "biohealth = biohealth[['Date','Week']]\n",
    "biohealth = biohealth.sort_values(by=['Date'], axis=0, ascending=True)\n",
    "# \"주차\"로 groupby 한 다음 일자 합계로 \"주간 기사 수\" 구하기\n",
    "biohealth = biohealth.groupby([\"Week\"])[\"Date\"].count()\n",
    "# 용이한 가공을 위해 데이터프레임으로 생성\n",
    "biohealth_weekly = pd.DataFrame(biohealth)\n",
    "biohealth_weekly.rename(columns={\"Date\":\"바이오헬스\"}, inplace=True)\n",
    "biohealth_weekly.rename(columns={\"Week\":\"주차\"}, inplace=True)\n",
    "\n",
    "# 인덱스'week'를 컬럼으로 변경\n",
    "biohealth_weekly.reset_index(level=['Week'], inplace = True)\n",
    "biohealth_weekly.head()"
   ]
  },
  {
   "cell_type": "code",
   "execution_count": 183,
   "metadata": {
    "ExecuteTime": {
     "end_time": "2020-10-19T10:11:53.253111Z",
     "start_time": "2020-10-19T10:11:53.219202Z"
    },
    "scrolled": true
   },
   "outputs": [
    {
     "data": {
      "text/html": [
       "<div>\n",
       "<style scoped>\n",
       "    .dataframe tbody tr th:only-of-type {\n",
       "        vertical-align: middle;\n",
       "    }\n",
       "\n",
       "    .dataframe tbody tr th {\n",
       "        vertical-align: top;\n",
       "    }\n",
       "\n",
       "    .dataframe thead th {\n",
       "        text-align: right;\n",
       "    }\n",
       "</style>\n",
       "<table border=\"1\" class=\"dataframe\">\n",
       "  <thead>\n",
       "    <tr style=\"text-align: right;\">\n",
       "      <th></th>\n",
       "      <th>일자</th>\n",
       "      <th>주차</th>\n",
       "      <th>디지털 뉴딜</th>\n",
       "      <th>그린 뉴딜</th>\n",
       "      <th>바이오 헬스</th>\n",
       "      <th>시스템 반도체</th>\n",
       "      <th>소부장</th>\n",
       "      <th>자율주행</th>\n",
       "      <th>5G</th>\n",
       "      <th>태양광</th>\n",
       "    </tr>\n",
       "  </thead>\n",
       "  <tbody>\n",
       "    <tr>\n",
       "      <th>0</th>\n",
       "      <td>2020-01-17</td>\n",
       "      <td>3</td>\n",
       "      <td>0</td>\n",
       "      <td>0</td>\n",
       "      <td>7</td>\n",
       "      <td>30</td>\n",
       "      <td>4</td>\n",
       "      <td>19</td>\n",
       "      <td>52</td>\n",
       "      <td>28</td>\n",
       "    </tr>\n",
       "    <tr>\n",
       "      <th>1</th>\n",
       "      <td>2020-01-24</td>\n",
       "      <td>4</td>\n",
       "      <td>1</td>\n",
       "      <td>19</td>\n",
       "      <td>54</td>\n",
       "      <td>66</td>\n",
       "      <td>50</td>\n",
       "      <td>43</td>\n",
       "      <td>116</td>\n",
       "      <td>103</td>\n",
       "    </tr>\n",
       "    <tr>\n",
       "      <th>2</th>\n",
       "      <td>2020-01-31</td>\n",
       "      <td>5</td>\n",
       "      <td>2</td>\n",
       "      <td>13</td>\n",
       "      <td>20</td>\n",
       "      <td>50</td>\n",
       "      <td>45</td>\n",
       "      <td>35</td>\n",
       "      <td>217</td>\n",
       "      <td>64</td>\n",
       "    </tr>\n",
       "    <tr>\n",
       "      <th>3</th>\n",
       "      <td>2020-02-07</td>\n",
       "      <td>6</td>\n",
       "      <td>5</td>\n",
       "      <td>21</td>\n",
       "      <td>24</td>\n",
       "      <td>84</td>\n",
       "      <td>14</td>\n",
       "      <td>44</td>\n",
       "      <td>144</td>\n",
       "      <td>98</td>\n",
       "    </tr>\n",
       "    <tr>\n",
       "      <th>4</th>\n",
       "      <td>2020-02-14</td>\n",
       "      <td>7</td>\n",
       "      <td>5</td>\n",
       "      <td>24</td>\n",
       "      <td>26</td>\n",
       "      <td>53</td>\n",
       "      <td>22</td>\n",
       "      <td>56</td>\n",
       "      <td>158</td>\n",
       "      <td>105</td>\n",
       "    </tr>\n",
       "  </tbody>\n",
       "</table>\n",
       "</div>"
      ],
      "text/plain": [
       "          일자  주차  디지털 뉴딜  그린 뉴딜  바이오 헬스  시스템 반도체  소부장  자율주행   5G  태양광\n",
       "0 2020-01-17   3       0      0       7       30    4    19   52   28\n",
       "1 2020-01-24   4       1     19      54       66   50    43  116  103\n",
       "2 2020-01-31   5       2     13      20       50   45    35  217   64\n",
       "3 2020-02-07   6       5     21      24       84   14    44  144   98\n",
       "4 2020-02-14   7       5     24      26       53   22    56  158  105"
      ]
     },
     "execution_count": 183,
     "metadata": {},
     "output_type": "execute_result"
    }
   ],
   "source": [
    "# 위와 같이 정제된 각 단어들을 merge한 최종 결과 아래와 같다.\n",
    "언론언급 = pd.read_excel('언론 언급.xlsx')\n",
    "언론언급.head()"
   ]
  },
  {
   "cell_type": "markdown",
   "metadata": {},
   "source": [
    "## 1-4. 독립변수 / 종속변수 정리\n",
    "\n",
    "**종속변수** \n",
    "   - (연속형) **양뱡향미디어와서비스** 업종 10개 기업\n",
    "   - (연속형) **호텔, 레스토랑, 레저** 업종 20개 기업\n",
    "\n",
    "\n",
    "**독립변수**  \n",
    "   - (연속형) **한국 코로나 신규 확진자 수**\n",
    "   - (연속형) **한국 코로나 신규 사망자 수**\n",
    "   - (연속형) **세계 코로나 신규 확진자 수**\n",
    "   - (연속형) **한국은행 통화 유동성 관련 키워드 뉴스 수**\n",
    "   - (연속형) **미 연방준비제도 통화 유동성 관련 키워드 뉴스 수**\n",
    "   - (연속형) **나스닥 지수**\n",
    "\n",
    "\n",
    "**순서**\n",
    "1. 종속변수 각 10개, 20개 항목 merge  \n",
    "2. 독립변수 6개 항목 merge\n",
    "3. 종속변수와 독립변수 merge"
   ]
  },
  {
   "cell_type": "markdown",
   "metadata": {},
   "source": [
    "### 1) 종속변수"
   ]
  },
  {
   "cell_type": "markdown",
   "metadata": {},
   "source": [
    "**1. 양방향미디어와서비스 10개 기업 주가 merge**"
   ]
  },
  {
   "cell_type": "code",
   "execution_count": 184,
   "metadata": {
    "ExecuteTime": {
     "end_time": "2020-10-19T10:11:53.444599Z",
     "start_time": "2020-10-19T10:11:53.256104Z"
    },
    "scrolled": true
   },
   "outputs": [
    {
     "data": {
      "text/html": [
       "<div>\n",
       "<style scoped>\n",
       "    .dataframe tbody tr th:only-of-type {\n",
       "        vertical-align: middle;\n",
       "    }\n",
       "\n",
       "    .dataframe tbody tr th {\n",
       "        vertical-align: top;\n",
       "    }\n",
       "\n",
       "    .dataframe thead th {\n",
       "        text-align: right;\n",
       "    }\n",
       "</style>\n",
       "<table border=\"1\" class=\"dataframe\">\n",
       "  <thead>\n",
       "    <tr style=\"text-align: right;\">\n",
       "      <th></th>\n",
       "      <th>Date_x</th>\n",
       "      <th>Week</th>\n",
       "      <th>카카오</th>\n",
       "      <th>NAVER</th>\n",
       "      <th>THE E&amp;M</th>\n",
       "      <th>아프리카TV</th>\n",
       "      <th>줌인터넷</th>\n",
       "      <th>캐리소프트</th>\n",
       "      <th>키다리스튜디오</th>\n",
       "      <th>티사이언티픽</th>\n",
       "      <th>퓨쳐스트림네트웍스</th>\n",
       "      <th>플리토</th>\n",
       "    </tr>\n",
       "  </thead>\n",
       "  <tbody>\n",
       "    <tr>\n",
       "      <th>0</th>\n",
       "      <td>2020-01-17</td>\n",
       "      <td>3</td>\n",
       "      <td>168500</td>\n",
       "      <td>191000</td>\n",
       "      <td>907</td>\n",
       "      <td>58000</td>\n",
       "      <td>4880</td>\n",
       "      <td>8370</td>\n",
       "      <td>3910</td>\n",
       "      <td>1495</td>\n",
       "      <td>1210</td>\n",
       "      <td>19350</td>\n",
       "    </tr>\n",
       "    <tr>\n",
       "      <th>1</th>\n",
       "      <td>2020-01-31</td>\n",
       "      <td>5</td>\n",
       "      <td>159000</td>\n",
       "      <td>179500</td>\n",
       "      <td>811</td>\n",
       "      <td>54000</td>\n",
       "      <td>3985</td>\n",
       "      <td>6910</td>\n",
       "      <td>3475</td>\n",
       "      <td>1565</td>\n",
       "      <td>1075</td>\n",
       "      <td>15250</td>\n",
       "    </tr>\n",
       "    <tr>\n",
       "      <th>2</th>\n",
       "      <td>2020-02-07</td>\n",
       "      <td>6</td>\n",
       "      <td>167500</td>\n",
       "      <td>185000</td>\n",
       "      <td>765</td>\n",
       "      <td>59100</td>\n",
       "      <td>4520</td>\n",
       "      <td>7080</td>\n",
       "      <td>3985</td>\n",
       "      <td>1615</td>\n",
       "      <td>1095</td>\n",
       "      <td>15800</td>\n",
       "    </tr>\n",
       "    <tr>\n",
       "      <th>3</th>\n",
       "      <td>2020-02-14</td>\n",
       "      <td>7</td>\n",
       "      <td>180000</td>\n",
       "      <td>186500</td>\n",
       "      <td>822</td>\n",
       "      <td>62300</td>\n",
       "      <td>4650</td>\n",
       "      <td>7380</td>\n",
       "      <td>4020</td>\n",
       "      <td>1720</td>\n",
       "      <td>1240</td>\n",
       "      <td>15900</td>\n",
       "    </tr>\n",
       "    <tr>\n",
       "      <th>4</th>\n",
       "      <td>2020-02-21</td>\n",
       "      <td>8</td>\n",
       "      <td>189500</td>\n",
       "      <td>189500</td>\n",
       "      <td>782</td>\n",
       "      <td>61200</td>\n",
       "      <td>4265</td>\n",
       "      <td>7900</td>\n",
       "      <td>4760</td>\n",
       "      <td>1630</td>\n",
       "      <td>1150</td>\n",
       "      <td>14700</td>\n",
       "    </tr>\n",
       "  </tbody>\n",
       "</table>\n",
       "</div>"
      ],
      "text/plain": [
       "      Date_x  Week     카카오   NAVER  THE E&M  아프리카TV  줌인터넷  캐리소프트  키다리스튜디오  \\\n",
       "0 2020-01-17     3  168500  191000      907   58000  4880   8370     3910   \n",
       "1 2020-01-31     5  159000  179500      811   54000  3985   6910     3475   \n",
       "2 2020-02-07     6  167500  185000      765   59100  4520   7080     3985   \n",
       "3 2020-02-14     7  180000  186500      822   62300  4650   7380     4020   \n",
       "4 2020-02-21     8  189500  189500      782   61200  4265   7900     4760   \n",
       "\n",
       "   티사이언티픽  퓨쳐스트림네트웍스    플리토  \n",
       "0    1495       1210  19350  \n",
       "1    1565       1075  15250  \n",
       "2    1615       1095  15800  \n",
       "3    1720       1240  15900  \n",
       "4    1630       1150  14700  "
      ]
     },
     "execution_count": 184,
     "metadata": {},
     "output_type": "execute_result"
    }
   ],
   "source": [
    "# 10개 데이터 불러와서 merge하기 생략하고 미리 만든 결과만 가져옴.\n",
    "# 양방향미디어와서비스.to_excel(\"양방향미디어와서비스.xlsx\", index=False, encoding=\"utf8\")\n",
    "양방향미디어와서비스 = pd.read_excel(\"양방향미디어와서비스.xlsx\")\n",
    "양방향미디어와서비스.head()"
   ]
  },
  {
   "cell_type": "markdown",
   "metadata": {},
   "source": [
    "**2. 호텔,레스토랑,레저 20개 기업 주가 merge**"
   ]
  },
  {
   "cell_type": "code",
   "execution_count": 185,
   "metadata": {
    "ExecuteTime": {
     "end_time": "2020-10-19T10:11:54.528700Z",
     "start_time": "2020-10-19T10:11:54.219525Z"
    }
   },
   "outputs": [
    {
     "data": {
      "text/html": [
       "<div>\n",
       "<style scoped>\n",
       "    .dataframe tbody tr th:only-of-type {\n",
       "        vertical-align: middle;\n",
       "    }\n",
       "\n",
       "    .dataframe tbody tr th {\n",
       "        vertical-align: top;\n",
       "    }\n",
       "\n",
       "    .dataframe thead th {\n",
       "        text-align: right;\n",
       "    }\n",
       "</style>\n",
       "<table border=\"1\" class=\"dataframe\">\n",
       "  <thead>\n",
       "    <tr style=\"text-align: right;\">\n",
       "      <th></th>\n",
       "      <th>Date_x</th>\n",
       "      <th>Week</th>\n",
       "      <th>GKL</th>\n",
       "      <th>강원랜드</th>\n",
       "      <th>남화산업</th>\n",
       "      <th>노랑풍선</th>\n",
       "      <th>디딤</th>\n",
       "      <th>롯데관광개발</th>\n",
       "      <th>모두투어</th>\n",
       "      <th>서부T&amp;D</th>\n",
       "      <th>...</th>\n",
       "      <th>시공테크</th>\n",
       "      <th>신세계푸드</th>\n",
       "      <th>아난티</th>\n",
       "      <th>용평리조트</th>\n",
       "      <th>이월드</th>\n",
       "      <th>참좋은여행</th>\n",
       "      <th>파라다이스</th>\n",
       "      <th>하나투어</th>\n",
       "      <th>해마로푸드서비스</th>\n",
       "      <th>호텔신라</th>\n",
       "    </tr>\n",
       "  </thead>\n",
       "  <tbody>\n",
       "    <tr>\n",
       "      <th>0</th>\n",
       "      <td>2020-01-17</td>\n",
       "      <td>3</td>\n",
       "      <td>22250</td>\n",
       "      <td>28600</td>\n",
       "      <td>15150</td>\n",
       "      <td>15600</td>\n",
       "      <td>1950</td>\n",
       "      <td>15050</td>\n",
       "      <td>18150</td>\n",
       "      <td>8860</td>\n",
       "      <td>...</td>\n",
       "      <td>4765</td>\n",
       "      <td>73500</td>\n",
       "      <td>10750</td>\n",
       "      <td>6240</td>\n",
       "      <td>5480</td>\n",
       "      <td>6700</td>\n",
       "      <td>21550</td>\n",
       "      <td>56400</td>\n",
       "      <td>2730</td>\n",
       "      <td>108500</td>\n",
       "    </tr>\n",
       "    <tr>\n",
       "      <th>1</th>\n",
       "      <td>2020-01-31</td>\n",
       "      <td>5</td>\n",
       "      <td>18300</td>\n",
       "      <td>27550</td>\n",
       "      <td>13100</td>\n",
       "      <td>13500</td>\n",
       "      <td>1725</td>\n",
       "      <td>12850</td>\n",
       "      <td>14750</td>\n",
       "      <td>7370</td>\n",
       "      <td>...</td>\n",
       "      <td>4770</td>\n",
       "      <td>67400</td>\n",
       "      <td>9070</td>\n",
       "      <td>5350</td>\n",
       "      <td>4810</td>\n",
       "      <td>5700</td>\n",
       "      <td>17000</td>\n",
       "      <td>44900</td>\n",
       "      <td>2780</td>\n",
       "      <td>87400</td>\n",
       "    </tr>\n",
       "    <tr>\n",
       "      <th>2</th>\n",
       "      <td>2020-02-07</td>\n",
       "      <td>6</td>\n",
       "      <td>19000</td>\n",
       "      <td>27300</td>\n",
       "      <td>14650</td>\n",
       "      <td>13900</td>\n",
       "      <td>1740</td>\n",
       "      <td>13250</td>\n",
       "      <td>15700</td>\n",
       "      <td>7650</td>\n",
       "      <td>...</td>\n",
       "      <td>4990</td>\n",
       "      <td>68600</td>\n",
       "      <td>9770</td>\n",
       "      <td>5560</td>\n",
       "      <td>5250</td>\n",
       "      <td>5930</td>\n",
       "      <td>18600</td>\n",
       "      <td>49000</td>\n",
       "      <td>2930</td>\n",
       "      <td>92000</td>\n",
       "    </tr>\n",
       "    <tr>\n",
       "      <th>3</th>\n",
       "      <td>2020-02-14</td>\n",
       "      <td>7</td>\n",
       "      <td>19450</td>\n",
       "      <td>26650</td>\n",
       "      <td>14400</td>\n",
       "      <td>14300</td>\n",
       "      <td>1695</td>\n",
       "      <td>14050</td>\n",
       "      <td>16100</td>\n",
       "      <td>7400</td>\n",
       "      <td>...</td>\n",
       "      <td>4990</td>\n",
       "      <td>68200</td>\n",
       "      <td>9520</td>\n",
       "      <td>5510</td>\n",
       "      <td>5000</td>\n",
       "      <td>6260</td>\n",
       "      <td>19550</td>\n",
       "      <td>50500</td>\n",
       "      <td>3120</td>\n",
       "      <td>96800</td>\n",
       "    </tr>\n",
       "    <tr>\n",
       "      <th>4</th>\n",
       "      <td>2020-02-21</td>\n",
       "      <td>8</td>\n",
       "      <td>18350</td>\n",
       "      <td>25050</td>\n",
       "      <td>12950</td>\n",
       "      <td>13150</td>\n",
       "      <td>1620</td>\n",
       "      <td>12900</td>\n",
       "      <td>14800</td>\n",
       "      <td>7390</td>\n",
       "      <td>...</td>\n",
       "      <td>5310</td>\n",
       "      <td>63800</td>\n",
       "      <td>7600</td>\n",
       "      <td>4875</td>\n",
       "      <td>4500</td>\n",
       "      <td>5770</td>\n",
       "      <td>18000</td>\n",
       "      <td>45300</td>\n",
       "      <td>2980</td>\n",
       "      <td>88900</td>\n",
       "    </tr>\n",
       "  </tbody>\n",
       "</table>\n",
       "<p>5 rows × 21 columns</p>\n",
       "</div>"
      ],
      "text/plain": [
       "      Date_x  Week    GKL   강원랜드   남화산업   노랑풍선    디딤  롯데관광개발   모두투어  서부T&D  \\\n",
       "0 2020-01-17     3  22250  28600  15150  15600  1950   15050  18150   8860   \n",
       "1 2020-01-31     5  18300  27550  13100  13500  1725   12850  14750   7370   \n",
       "2 2020-02-07     6  19000  27300  14650  13900  1740   13250  15700   7650   \n",
       "3 2020-02-14     7  19450  26650  14400  14300  1695   14050  16100   7400   \n",
       "4 2020-02-21     8  18350  25050  12950  13150  1620   12900  14800   7390   \n",
       "\n",
       "   ...  시공테크  신세계푸드    아난티  용평리조트   이월드  참좋은여행  파라다이스   하나투어  해마로푸드서비스    호텔신라  \n",
       "0  ...  4765  73500  10750   6240  5480   6700  21550  56400      2730  108500  \n",
       "1  ...  4770  67400   9070   5350  4810   5700  17000  44900      2780   87400  \n",
       "2  ...  4990  68600   9770   5560  5250   5930  18600  49000      2930   92000  \n",
       "3  ...  4990  68200   9520   5510  5000   6260  19550  50500      3120   96800  \n",
       "4  ...  5310  63800   7600   4875  4500   5770  18000  45300      2980   88900  \n",
       "\n",
       "[5 rows x 21 columns]"
      ]
     },
     "execution_count": 185,
     "metadata": {},
     "output_type": "execute_result"
    }
   ],
   "source": [
    "# 20개 데이터 불러와서 merge하기 생략하고 결과만 가져옴.\n",
    "#호텔레저.to_excel(\"호텔레스토랑레저.xlsx\", index=False, encoding=\"utf8\")\n",
    "호텔레스토랑레저 = pd.read_excel(\"호텔레스토랑레저.xlsx\")\n",
    "호텔레스토랑레저.head()"
   ]
  },
  {
   "cell_type": "markdown",
   "metadata": {},
   "source": [
    "### 2) 독립변수"
   ]
  },
  {
   "cell_type": "markdown",
   "metadata": {},
   "source": [
    "**주간 한국 확진자 수 / 한국 사망자 수 / 세계 확진자 수 / 한은 기사 수 / 연준 기사 수 / 나스닥 지수**"
   ]
  },
  {
   "cell_type": "code",
   "execution_count": 186,
   "metadata": {
    "ExecuteTime": {
     "end_time": "2020-10-19T10:11:55.505089Z",
     "start_time": "2020-10-19T10:11:55.500104Z"
    }
   },
   "outputs": [],
   "source": [
    "import pandas as pd"
   ]
  },
  {
   "cell_type": "code",
   "execution_count": 187,
   "metadata": {
    "ExecuteTime": {
     "end_time": "2020-10-19T10:11:56.025695Z",
     "start_time": "2020-10-19T10:11:55.963866Z"
    }
   },
   "outputs": [],
   "source": [
    "# 한국 코로나\n",
    "kr_covid = pd.read_excel('독립_KR_covid.xlsx')\n",
    "# 세계 코로나\n",
    "wd_covid = pd.read_excel('독립_WD_covid.xlsx')\n",
    "# 한국은행\n",
    "kr_bank = pd.read_excel('독립_KR_bank.xlsx')\n",
    "# 연방준비은행\n",
    "us_bank = pd.read_excel('독립_US_bank.xlsx')\n",
    "# 나스닥\n",
    "nasdaq = pd.read_excel('독립_NASDAQ.xlsx')"
   ]
  },
  {
   "cell_type": "code",
   "execution_count": 188,
   "metadata": {
    "ExecuteTime": {
     "end_time": "2020-10-19T10:11:56.530346Z",
     "start_time": "2020-10-19T10:11:56.481477Z"
    },
    "scrolled": true
   },
   "outputs": [],
   "source": [
    "# KR_covid + WD_covid\n",
    "covid = kr_covid.merge(wd_covid, left_on=\"Week\", right_on=wd_covid[\"Week\"])\n",
    "covid = covid[['Date_x', 'Week_x', 'KR_covid', 'KR_death', 'WD_covid' ]]\n",
    "covid.columns = ['Date', 'Week',  'KR_covid', 'KR_death', 'WD_covid' ]\n",
    "\n",
    "# KR_bank + US_bank\n",
    "bank = kr_bank.merge(us_bank, left_on=\"Week\", right_on=us_bank[\"Week\"])\n",
    "bank = bank[['Date_x', 'Week_x', 'KR_bank','US_bank' ]]\n",
    "bank.columns = ['Date', 'Week', 'KR_bank', 'US_bank']\n",
    "\n",
    "# covid + bank\n",
    "covid_bank = covid.merge(bank, left_on=\"Week\", right_on=bank[\"Week\"])\n",
    "covid_bank = covid_bank[['Date_x', 'Week_x', 'KR_covid', 'KR_death', 'WD_covid', 'KR_bank', 'US_bank' ]]\n",
    "covid_bank.columns = ['Date', 'Week', 'KR_covid', 'KR_death', 'WD_covid', 'KR_bank', 'US_bank']\n",
    "\n",
    "# covid_bank + nasdaq\n",
    "independant = covid_bank.merge(nasdaq, left_on=\"Week\", right_on=nasdaq[\"Week\"])\n",
    "independant = independant[['Date_x', 'Week_x', 'KR_covid', 'KR_death', 'WD_covid', 'KR_bank', 'US_bank', 'Close' ]]\n",
    "independant.columns = ['Date', 'Week', 'KR_covid', 'KR_death', 'WD_covid', 'KR_bank', 'US_bank', 'Nasdaq']"
   ]
  },
  {
   "cell_type": "code",
   "execution_count": 189,
   "metadata": {
    "ExecuteTime": {
     "end_time": "2020-10-19T10:11:57.023033Z",
     "start_time": "2020-10-19T10:11:56.934267Z"
    },
    "scrolled": false
   },
   "outputs": [
    {
     "data": {
      "text/html": [
       "<div>\n",
       "<style scoped>\n",
       "    .dataframe tbody tr th:only-of-type {\n",
       "        vertical-align: middle;\n",
       "    }\n",
       "\n",
       "    .dataframe tbody tr th {\n",
       "        vertical-align: top;\n",
       "    }\n",
       "\n",
       "    .dataframe thead th {\n",
       "        text-align: right;\n",
       "    }\n",
       "</style>\n",
       "<table border=\"1\" class=\"dataframe\">\n",
       "  <thead>\n",
       "    <tr style=\"text-align: right;\">\n",
       "      <th></th>\n",
       "      <th>Date</th>\n",
       "      <th>Week</th>\n",
       "      <th>KR_covid</th>\n",
       "      <th>KR_death</th>\n",
       "      <th>WD_covid</th>\n",
       "      <th>KR_bank</th>\n",
       "      <th>US_bank</th>\n",
       "      <th>Nasdaq</th>\n",
       "    </tr>\n",
       "  </thead>\n",
       "  <tbody>\n",
       "    <tr>\n",
       "      <th>0</th>\n",
       "      <td>2020-01-17</td>\n",
       "      <td>3</td>\n",
       "      <td>5</td>\n",
       "      <td>0</td>\n",
       "      <td>92</td>\n",
       "      <td>32</td>\n",
       "      <td>16</td>\n",
       "      <td>9388.94</td>\n",
       "    </tr>\n",
       "    <tr>\n",
       "      <th>1</th>\n",
       "      <td>2020-02-07</td>\n",
       "      <td>6</td>\n",
       "      <td>12</td>\n",
       "      <td>0</td>\n",
       "      <td>23013</td>\n",
       "      <td>10</td>\n",
       "      <td>55</td>\n",
       "      <td>9520.51</td>\n",
       "    </tr>\n",
       "    <tr>\n",
       "      <th>2</th>\n",
       "      <td>2020-02-14</td>\n",
       "      <td>7</td>\n",
       "      <td>2</td>\n",
       "      <td>0</td>\n",
       "      <td>31714</td>\n",
       "      <td>46</td>\n",
       "      <td>82</td>\n",
       "      <td>9731.18</td>\n",
       "    </tr>\n",
       "    <tr>\n",
       "      <th>3</th>\n",
       "      <td>2020-02-21</td>\n",
       "      <td>8</td>\n",
       "      <td>573</td>\n",
       "      <td>2</td>\n",
       "      <td>9629</td>\n",
       "      <td>11</td>\n",
       "      <td>56</td>\n",
       "      <td>9576.59</td>\n",
       "    </tr>\n",
       "    <tr>\n",
       "      <th>4</th>\n",
       "      <td>2020-02-28</td>\n",
       "      <td>9</td>\n",
       "      <td>3134</td>\n",
       "      <td>16</td>\n",
       "      <td>8441</td>\n",
       "      <td>53</td>\n",
       "      <td>102</td>\n",
       "      <td>8567.37</td>\n",
       "    </tr>\n",
       "  </tbody>\n",
       "</table>\n",
       "</div>"
      ],
      "text/plain": [
       "        Date  Week  KR_covid  KR_death  WD_covid  KR_bank  US_bank   Nasdaq\n",
       "0 2020-01-17     3         5         0        92       32       16  9388.94\n",
       "1 2020-02-07     6        12         0     23013       10       55  9520.51\n",
       "2 2020-02-14     7         2         0     31714       46       82  9731.18\n",
       "3 2020-02-21     8       573         2      9629       11       56  9576.59\n",
       "4 2020-02-28     9      3134        16      8441       53      102  8567.37"
      ]
     },
     "execution_count": 189,
     "metadata": {},
     "output_type": "execute_result"
    }
   ],
   "source": [
    "# 저장하기\n",
    "independant.to_excel(\"독립_covid_bank_nasdaq.xlsx\", index=False, encoding=\"utf8\")\n",
    "independant = pd.read_excel(\"독립_covid_bank_nasdaq.xlsx\")\n",
    "independant.head()"
   ]
  },
  {
   "cell_type": "markdown",
   "metadata": {},
   "source": [
    "### 3) 종속변수 + 독립변수"
   ]
  },
  {
   "cell_type": "markdown",
   "metadata": {},
   "source": [
    "**양방향미디어와서비스 + 독립변수**"
   ]
  },
  {
   "cell_type": "code",
   "execution_count": 190,
   "metadata": {
    "ExecuteTime": {
     "end_time": "2020-10-19T10:11:58.492100Z",
     "start_time": "2020-10-19T10:11:58.488147Z"
    },
    "scrolled": true
   },
   "outputs": [],
   "source": [
    "IT미디어 = 양방향미디어와서비스"
   ]
  },
  {
   "cell_type": "code",
   "execution_count": 191,
   "metadata": {
    "ExecuteTime": {
     "end_time": "2020-10-19T10:11:59.069555Z",
     "start_time": "2020-10-19T10:11:59.050615Z"
    }
   },
   "outputs": [],
   "source": [
    "IT미디어_독립 = IT미디어.merge(independant, left_on=\"Week\", right_on=independant[\"Week\"])\n",
    "# 필요한 컬럼만 가져오기\n",
    "IT미디어_독립 = IT미디어_독립[['Date_x', 'Week_x', '카카오', 'NAVER', 'THE E&M', '아프리카TV', '줌인터넷',\n",
    "                     '캐리소프트', '키다리스튜디오', '티사이언티픽', '퓨쳐스트림네트웍스', '플리토',\n",
    "                     'KR_covid', 'KR_death', 'WD_covid', 'KR_bank', 'US_bank', 'Nasdaq']]\n",
    "# 컬럼명  변경\n",
    "IT미디어_독립.columns = ['Date', 'Week', '카카오', 'NAVER', 'THE EnM', '아프리카TV', '줌인터넷',\n",
    "                     '캐리소프트', '키다리스튜디오', '티사이언티픽', '퓨쳐스트림네트웍스', '플리토',\n",
    "                     'KR_covid', 'KR_death', 'WD_covid', 'KR_bank', 'US_bank', 'Nasdaq']"
   ]
  },
  {
   "cell_type": "code",
   "execution_count": 192,
   "metadata": {
    "ExecuteTime": {
     "end_time": "2020-10-19T10:11:59.623073Z",
     "start_time": "2020-10-19T10:11:59.512370Z"
    }
   },
   "outputs": [
    {
     "data": {
      "text/html": [
       "<div>\n",
       "<style scoped>\n",
       "    .dataframe tbody tr th:only-of-type {\n",
       "        vertical-align: middle;\n",
       "    }\n",
       "\n",
       "    .dataframe tbody tr th {\n",
       "        vertical-align: top;\n",
       "    }\n",
       "\n",
       "    .dataframe thead th {\n",
       "        text-align: right;\n",
       "    }\n",
       "</style>\n",
       "<table border=\"1\" class=\"dataframe\">\n",
       "  <thead>\n",
       "    <tr style=\"text-align: right;\">\n",
       "      <th></th>\n",
       "      <th>Date</th>\n",
       "      <th>Week</th>\n",
       "      <th>카카오</th>\n",
       "      <th>NAVER</th>\n",
       "      <th>THE EnM</th>\n",
       "      <th>아프리카TV</th>\n",
       "      <th>줌인터넷</th>\n",
       "      <th>캐리소프트</th>\n",
       "      <th>키다리스튜디오</th>\n",
       "      <th>티사이언티픽</th>\n",
       "      <th>퓨쳐스트림네트웍스</th>\n",
       "      <th>플리토</th>\n",
       "      <th>KR_covid</th>\n",
       "      <th>KR_death</th>\n",
       "      <th>WD_covid</th>\n",
       "      <th>KR_bank</th>\n",
       "      <th>US_bank</th>\n",
       "      <th>Nasdaq</th>\n",
       "    </tr>\n",
       "  </thead>\n",
       "  <tbody>\n",
       "    <tr>\n",
       "      <th>0</th>\n",
       "      <td>2020-01-17</td>\n",
       "      <td>3</td>\n",
       "      <td>168500</td>\n",
       "      <td>191000</td>\n",
       "      <td>907</td>\n",
       "      <td>58000</td>\n",
       "      <td>4880</td>\n",
       "      <td>8370</td>\n",
       "      <td>3910</td>\n",
       "      <td>1495</td>\n",
       "      <td>1210</td>\n",
       "      <td>19350</td>\n",
       "      <td>5</td>\n",
       "      <td>0</td>\n",
       "      <td>92</td>\n",
       "      <td>32</td>\n",
       "      <td>16</td>\n",
       "      <td>9388.94</td>\n",
       "    </tr>\n",
       "    <tr>\n",
       "      <th>1</th>\n",
       "      <td>2020-02-07</td>\n",
       "      <td>6</td>\n",
       "      <td>167500</td>\n",
       "      <td>185000</td>\n",
       "      <td>765</td>\n",
       "      <td>59100</td>\n",
       "      <td>4520</td>\n",
       "      <td>7080</td>\n",
       "      <td>3985</td>\n",
       "      <td>1615</td>\n",
       "      <td>1095</td>\n",
       "      <td>15800</td>\n",
       "      <td>12</td>\n",
       "      <td>0</td>\n",
       "      <td>23013</td>\n",
       "      <td>10</td>\n",
       "      <td>55</td>\n",
       "      <td>9520.51</td>\n",
       "    </tr>\n",
       "    <tr>\n",
       "      <th>2</th>\n",
       "      <td>2020-02-14</td>\n",
       "      <td>7</td>\n",
       "      <td>180000</td>\n",
       "      <td>186500</td>\n",
       "      <td>822</td>\n",
       "      <td>62300</td>\n",
       "      <td>4650</td>\n",
       "      <td>7380</td>\n",
       "      <td>4020</td>\n",
       "      <td>1720</td>\n",
       "      <td>1240</td>\n",
       "      <td>15900</td>\n",
       "      <td>2</td>\n",
       "      <td>0</td>\n",
       "      <td>31714</td>\n",
       "      <td>46</td>\n",
       "      <td>82</td>\n",
       "      <td>9731.18</td>\n",
       "    </tr>\n",
       "    <tr>\n",
       "      <th>3</th>\n",
       "      <td>2020-02-21</td>\n",
       "      <td>8</td>\n",
       "      <td>189500</td>\n",
       "      <td>189500</td>\n",
       "      <td>782</td>\n",
       "      <td>61200</td>\n",
       "      <td>4265</td>\n",
       "      <td>7900</td>\n",
       "      <td>4760</td>\n",
       "      <td>1630</td>\n",
       "      <td>1150</td>\n",
       "      <td>14700</td>\n",
       "      <td>573</td>\n",
       "      <td>2</td>\n",
       "      <td>9629</td>\n",
       "      <td>11</td>\n",
       "      <td>56</td>\n",
       "      <td>9576.59</td>\n",
       "    </tr>\n",
       "    <tr>\n",
       "      <th>4</th>\n",
       "      <td>2020-02-28</td>\n",
       "      <td>9</td>\n",
       "      <td>172000</td>\n",
       "      <td>174000</td>\n",
       "      <td>682</td>\n",
       "      <td>54500</td>\n",
       "      <td>4020</td>\n",
       "      <td>5800</td>\n",
       "      <td>4365</td>\n",
       "      <td>1380</td>\n",
       "      <td>1125</td>\n",
       "      <td>12250</td>\n",
       "      <td>3134</td>\n",
       "      <td>16</td>\n",
       "      <td>8441</td>\n",
       "      <td>53</td>\n",
       "      <td>102</td>\n",
       "      <td>8567.37</td>\n",
       "    </tr>\n",
       "  </tbody>\n",
       "</table>\n",
       "</div>"
      ],
      "text/plain": [
       "        Date  Week     카카오   NAVER  THE EnM  아프리카TV  줌인터넷  캐리소프트  키다리스튜디오  \\\n",
       "0 2020-01-17     3  168500  191000      907   58000  4880   8370     3910   \n",
       "1 2020-02-07     6  167500  185000      765   59100  4520   7080     3985   \n",
       "2 2020-02-14     7  180000  186500      822   62300  4650   7380     4020   \n",
       "3 2020-02-21     8  189500  189500      782   61200  4265   7900     4760   \n",
       "4 2020-02-28     9  172000  174000      682   54500  4020   5800     4365   \n",
       "\n",
       "   티사이언티픽  퓨쳐스트림네트웍스    플리토  KR_covid  KR_death  WD_covid  KR_bank  US_bank  \\\n",
       "0    1495       1210  19350         5         0        92       32       16   \n",
       "1    1615       1095  15800        12         0     23013       10       55   \n",
       "2    1720       1240  15900         2         0     31714       46       82   \n",
       "3    1630       1150  14700       573         2      9629       11       56   \n",
       "4    1380       1125  12250      3134        16      8441       53      102   \n",
       "\n",
       "    Nasdaq  \n",
       "0  9388.94  \n",
       "1  9520.51  \n",
       "2  9731.18  \n",
       "3  9576.59  \n",
       "4  8567.37  "
      ]
     },
     "execution_count": 192,
     "metadata": {},
     "output_type": "execute_result"
    }
   ],
   "source": [
    "# 저장하고 확인하기\n",
    "IT미디어_독립.to_excel(\"양방향미디어와서비스_독립.xlsx\", index=False, encoding=\"utf8\")\n",
    "IT미디어_독립 = pd.read_excel(\"양방향미디어와서비스_독립.xlsx\")\n",
    "IT미디어_독립.head()"
   ]
  },
  {
   "cell_type": "markdown",
   "metadata": {},
   "source": [
    "**호텔레스토랑레저 + 독립변수**"
   ]
  },
  {
   "cell_type": "code",
   "execution_count": 193,
   "metadata": {
    "ExecuteTime": {
     "end_time": "2020-10-19T10:12:00.377064Z",
     "start_time": "2020-10-19T10:12:00.372070Z"
    },
    "scrolled": true
   },
   "outputs": [],
   "source": [
    "호텔레저 = 호텔레스토랑레저"
   ]
  },
  {
   "cell_type": "code",
   "execution_count": 194,
   "metadata": {
    "ExecuteTime": {
     "end_time": "2020-10-19T10:12:00.817877Z",
     "start_time": "2020-10-19T10:12:00.800924Z"
    }
   },
   "outputs": [],
   "source": [
    "호텔레저_독립 = 호텔레저.merge(independant, left_on=\"Week\", right_on=independant[\"Week\"])\n",
    "# 필요한 컬럼만 가져오기.\n",
    "호텔레저_독립 = 호텔레저_독립[['Date_x', 'Week_x', 'GKL', '강원랜드', '남화산업', '노랑풍선', '디딤',\n",
    "                   '롯데관광개발', '모두투어', '서부T&D', '세중', '시공테크', '신세계푸드', '아난티', '용평리조트',\n",
    "                   '이월드', '참좋은여행', '파라다이스', '하나투어', '해마로푸드서비스', '호텔신라',\n",
    "                   'KR_covid', 'KR_death', 'WD_covid', 'KR_bank', 'US_bank', 'Nasdaq']]\n",
    "# 컬럼명 변경하기.\n",
    "호텔레저_독립.columns = ['Date', 'Week', 'GKL', '강원랜드', '남화산업', '노랑풍선', '디딤',\n",
    "                   '롯데관광개발', '모두투어', '서부T&D', '세중', '시공테크', '신세계푸드', '아난티', '용평리조트',\n",
    "                   '이월드', '참좋은여행', '파라다이스', '하나투어', '해마로푸드서비스', '호텔신라',\n",
    "                   'KR_covid', 'KR_death', 'WD_covid', 'KR_bank', 'US_bank', 'Nasdaq']"
   ]
  },
  {
   "cell_type": "code",
   "execution_count": 195,
   "metadata": {
    "ExecuteTime": {
     "end_time": "2020-10-19T10:12:01.444201Z",
     "start_time": "2020-10-19T10:12:01.322529Z"
    }
   },
   "outputs": [
    {
     "data": {
      "text/html": [
       "<div>\n",
       "<style scoped>\n",
       "    .dataframe tbody tr th:only-of-type {\n",
       "        vertical-align: middle;\n",
       "    }\n",
       "\n",
       "    .dataframe tbody tr th {\n",
       "        vertical-align: top;\n",
       "    }\n",
       "\n",
       "    .dataframe thead th {\n",
       "        text-align: right;\n",
       "    }\n",
       "</style>\n",
       "<table border=\"1\" class=\"dataframe\">\n",
       "  <thead>\n",
       "    <tr style=\"text-align: right;\">\n",
       "      <th></th>\n",
       "      <th>Date</th>\n",
       "      <th>Week</th>\n",
       "      <th>GKL</th>\n",
       "      <th>강원랜드</th>\n",
       "      <th>남화산업</th>\n",
       "      <th>노랑풍선</th>\n",
       "      <th>디딤</th>\n",
       "      <th>롯데관광개발</th>\n",
       "      <th>모두투어</th>\n",
       "      <th>서부T&amp;D</th>\n",
       "      <th>...</th>\n",
       "      <th>파라다이스</th>\n",
       "      <th>하나투어</th>\n",
       "      <th>해마로푸드서비스</th>\n",
       "      <th>호텔신라</th>\n",
       "      <th>KR_covid</th>\n",
       "      <th>KR_death</th>\n",
       "      <th>WD_covid</th>\n",
       "      <th>KR_bank</th>\n",
       "      <th>US_bank</th>\n",
       "      <th>Nasdaq</th>\n",
       "    </tr>\n",
       "  </thead>\n",
       "  <tbody>\n",
       "    <tr>\n",
       "      <th>0</th>\n",
       "      <td>2020-01-17</td>\n",
       "      <td>3</td>\n",
       "      <td>22250</td>\n",
       "      <td>28600</td>\n",
       "      <td>15150</td>\n",
       "      <td>15600</td>\n",
       "      <td>1950</td>\n",
       "      <td>15050</td>\n",
       "      <td>18150</td>\n",
       "      <td>8860</td>\n",
       "      <td>...</td>\n",
       "      <td>21550</td>\n",
       "      <td>56400</td>\n",
       "      <td>2730</td>\n",
       "      <td>108500</td>\n",
       "      <td>5</td>\n",
       "      <td>0</td>\n",
       "      <td>92</td>\n",
       "      <td>32</td>\n",
       "      <td>16</td>\n",
       "      <td>9388.94</td>\n",
       "    </tr>\n",
       "    <tr>\n",
       "      <th>1</th>\n",
       "      <td>2020-02-07</td>\n",
       "      <td>6</td>\n",
       "      <td>19000</td>\n",
       "      <td>27300</td>\n",
       "      <td>14650</td>\n",
       "      <td>13900</td>\n",
       "      <td>1740</td>\n",
       "      <td>13250</td>\n",
       "      <td>15700</td>\n",
       "      <td>7650</td>\n",
       "      <td>...</td>\n",
       "      <td>18600</td>\n",
       "      <td>49000</td>\n",
       "      <td>2930</td>\n",
       "      <td>92000</td>\n",
       "      <td>12</td>\n",
       "      <td>0</td>\n",
       "      <td>23013</td>\n",
       "      <td>10</td>\n",
       "      <td>55</td>\n",
       "      <td>9520.51</td>\n",
       "    </tr>\n",
       "    <tr>\n",
       "      <th>2</th>\n",
       "      <td>2020-02-14</td>\n",
       "      <td>7</td>\n",
       "      <td>19450</td>\n",
       "      <td>26650</td>\n",
       "      <td>14400</td>\n",
       "      <td>14300</td>\n",
       "      <td>1695</td>\n",
       "      <td>14050</td>\n",
       "      <td>16100</td>\n",
       "      <td>7400</td>\n",
       "      <td>...</td>\n",
       "      <td>19550</td>\n",
       "      <td>50500</td>\n",
       "      <td>3120</td>\n",
       "      <td>96800</td>\n",
       "      <td>2</td>\n",
       "      <td>0</td>\n",
       "      <td>31714</td>\n",
       "      <td>46</td>\n",
       "      <td>82</td>\n",
       "      <td>9731.18</td>\n",
       "    </tr>\n",
       "    <tr>\n",
       "      <th>3</th>\n",
       "      <td>2020-02-21</td>\n",
       "      <td>8</td>\n",
       "      <td>18350</td>\n",
       "      <td>25050</td>\n",
       "      <td>12950</td>\n",
       "      <td>13150</td>\n",
       "      <td>1620</td>\n",
       "      <td>12900</td>\n",
       "      <td>14800</td>\n",
       "      <td>7390</td>\n",
       "      <td>...</td>\n",
       "      <td>18000</td>\n",
       "      <td>45300</td>\n",
       "      <td>2980</td>\n",
       "      <td>88900</td>\n",
       "      <td>573</td>\n",
       "      <td>2</td>\n",
       "      <td>9629</td>\n",
       "      <td>11</td>\n",
       "      <td>56</td>\n",
       "      <td>9576.59</td>\n",
       "    </tr>\n",
       "    <tr>\n",
       "      <th>4</th>\n",
       "      <td>2020-02-28</td>\n",
       "      <td>9</td>\n",
       "      <td>16800</td>\n",
       "      <td>22800</td>\n",
       "      <td>11800</td>\n",
       "      <td>11850</td>\n",
       "      <td>1375</td>\n",
       "      <td>10450</td>\n",
       "      <td>14150</td>\n",
       "      <td>6780</td>\n",
       "      <td>...</td>\n",
       "      <td>16400</td>\n",
       "      <td>42300</td>\n",
       "      <td>2685</td>\n",
       "      <td>80300</td>\n",
       "      <td>3134</td>\n",
       "      <td>16</td>\n",
       "      <td>8441</td>\n",
       "      <td>53</td>\n",
       "      <td>102</td>\n",
       "      <td>8567.37</td>\n",
       "    </tr>\n",
       "  </tbody>\n",
       "</table>\n",
       "<p>5 rows × 27 columns</p>\n",
       "</div>"
      ],
      "text/plain": [
       "        Date  Week    GKL   강원랜드   남화산업   노랑풍선    디딤  롯데관광개발   모두투어  서부T&D  \\\n",
       "0 2020-01-17     3  22250  28600  15150  15600  1950   15050  18150   8860   \n",
       "1 2020-02-07     6  19000  27300  14650  13900  1740   13250  15700   7650   \n",
       "2 2020-02-14     7  19450  26650  14400  14300  1695   14050  16100   7400   \n",
       "3 2020-02-21     8  18350  25050  12950  13150  1620   12900  14800   7390   \n",
       "4 2020-02-28     9  16800  22800  11800  11850  1375   10450  14150   6780   \n",
       "\n",
       "   ...  파라다이스   하나투어  해마로푸드서비스    호텔신라  KR_covid  KR_death  WD_covid  KR_bank  \\\n",
       "0  ...  21550  56400      2730  108500         5         0        92       32   \n",
       "1  ...  18600  49000      2930   92000        12         0     23013       10   \n",
       "2  ...  19550  50500      3120   96800         2         0     31714       46   \n",
       "3  ...  18000  45300      2980   88900       573         2      9629       11   \n",
       "4  ...  16400  42300      2685   80300      3134        16      8441       53   \n",
       "\n",
       "   US_bank   Nasdaq  \n",
       "0       16  9388.94  \n",
       "1       55  9520.51  \n",
       "2       82  9731.18  \n",
       "3       56  9576.59  \n",
       "4      102  8567.37  \n",
       "\n",
       "[5 rows x 27 columns]"
      ]
     },
     "execution_count": 195,
     "metadata": {},
     "output_type": "execute_result"
    }
   ],
   "source": [
    "# 저장하고 확인하기\n",
    "호텔레저_독립.to_excel(\"호텔레스토랑레저_독립.xlsx\", index=False, encoding=\"utf8\")\n",
    "호텔레저_독립 = pd.read_excel(\"호텔레스토랑레저_독립.xlsx\")\n",
    "호텔레저_독립.head()"
   ]
  },
  {
   "cell_type": "markdown",
   "metadata": {},
   "source": [
    "# 본론2. EDA 시각화 및 회귀분석"
   ]
  },
  {
   "cell_type": "markdown",
   "metadata": {},
   "source": [
    "## 2-1. EDA 시각화\n",
    "\n",
    "---"
   ]
  },
  {
   "cell_type": "code",
   "execution_count": 196,
   "metadata": {
    "ExecuteTime": {
     "end_time": "2020-10-19T10:12:02.792596Z",
     "start_time": "2020-10-19T10:12:02.783623Z"
    }
   },
   "outputs": [],
   "source": [
    "# 각종 라이브러리 불러오기\n",
    "%matplotlib inline\n",
    "import matplotlib.pyplot as plt\n",
    "import matplotlib.patches as patches\n",
    "import matplotlib.pylab as pylab\n",
    "from matplotlib import pyplot\n",
    "import seaborn as sns\n",
    "\n",
    "import warnings\n",
    "warnings.filterwarnings(action='ignore')"
   ]
  },
  {
   "cell_type": "code",
   "execution_count": 197,
   "metadata": {
    "ExecuteTime": {
     "end_time": "2020-10-19T10:12:03.502696Z",
     "start_time": "2020-10-19T10:12:03.297252Z"
    }
   },
   "outputs": [
    {
     "data": {
      "text/plain": [
       "Text(0.3, 0.3, '한글')"
      ]
     },
     "execution_count": 197,
     "metadata": {},
     "output_type": "execute_result"
    },
    {
     "data": {
      "image/png": "[encoded data removed]",
      "text/plain": [
       "<Figure size 432x288 with 1 Axes>"
      ]
     },
     "metadata": {
      "needs_background": "light"
     },
     "output_type": "display_data"
    }
   ],
   "source": [
    "# 시각화 자료에서의 한글 사용을 위한 준비\n",
    "plt.rc('font', family='Gulim')\n",
    "plt.text(0.3, 0.3, '한글', size=100)\n",
    "\n",
    "# 맥에서는 아래와 같이\n",
    "# plt.rcParams['font.family'] = 'AppleGothic'"
   ]
  },
  {
   "cell_type": "markdown",
   "metadata": {},
   "source": [
    "### 코로나19 세계 현황"
   ]
  },
  {
   "cell_type": "code",
   "execution_count": 198,
   "metadata": {
    "ExecuteTime": {
     "end_time": "2020-10-19T10:12:05.125356Z",
     "start_time": "2020-10-19T10:12:04.993710Z"
    },
    "scrolled": true
   },
   "outputs": [
    {
     "data": {
      "text/html": [
       "<div>\n",
       "<style scoped>\n",
       "    .dataframe tbody tr th:only-of-type {\n",
       "        vertical-align: middle;\n",
       "    }\n",
       "\n",
       "    .dataframe tbody tr th {\n",
       "        vertical-align: top;\n",
       "    }\n",
       "\n",
       "    .dataframe thead th {\n",
       "        text-align: right;\n",
       "    }\n",
       "</style>\n",
       "<table border=\"1\" class=\"dataframe\">\n",
       "  <thead>\n",
       "    <tr style=\"text-align: right;\">\n",
       "      <th></th>\n",
       "      <th>Date</th>\n",
       "      <th>Week</th>\n",
       "      <th>WD_covid</th>\n",
       "      <th>WD_death</th>\n",
       "    </tr>\n",
       "  </thead>\n",
       "  <tbody>\n",
       "    <tr>\n",
       "      <th>0</th>\n",
       "      <td>2020-01-17</td>\n",
       "      <td>3</td>\n",
       "      <td>92</td>\n",
       "      <td>2</td>\n",
       "    </tr>\n",
       "    <tr>\n",
       "      <th>1</th>\n",
       "      <td>2020-01-24</td>\n",
       "      <td>4</td>\n",
       "      <td>1928</td>\n",
       "      <td>53</td>\n",
       "    </tr>\n",
       "    <tr>\n",
       "      <th>2</th>\n",
       "      <td>2020-01-31</td>\n",
       "      <td>5</td>\n",
       "      <td>12561</td>\n",
       "      <td>249</td>\n",
       "    </tr>\n",
       "    <tr>\n",
       "      <th>3</th>\n",
       "      <td>2020-02-07</td>\n",
       "      <td>6</td>\n",
       "      <td>23013</td>\n",
       "      <td>508</td>\n",
       "    </tr>\n",
       "    <tr>\n",
       "      <th>4</th>\n",
       "      <td>2020-02-14</td>\n",
       "      <td>7</td>\n",
       "      <td>31714</td>\n",
       "      <td>857</td>\n",
       "    </tr>\n",
       "  </tbody>\n",
       "</table>\n",
       "</div>"
      ],
      "text/plain": [
       "        Date  Week  WD_covid  WD_death\n",
       "0 2020-01-17     3        92         2\n",
       "1 2020-01-24     4      1928        53\n",
       "2 2020-01-31     5     12561       249\n",
       "3 2020-02-07     6     23013       508\n",
       "4 2020-02-14     7     31714       857"
      ]
     },
     "execution_count": 198,
     "metadata": {},
     "output_type": "execute_result"
    }
   ],
   "source": [
    "# 주차별 세계 코로나19 확진자 데이터 불러오기\n",
    "wd_covid = pd.read_excel(\"독립_WD_covid.xlsx\")\n",
    "wd_covid.head()"
   ]
  },
  {
   "cell_type": "code",
   "execution_count": 199,
   "metadata": {
    "ExecuteTime": {
     "end_time": "2020-10-19T10:12:09.794866Z",
     "start_time": "2020-10-19T10:12:09.789879Z"
    }
   },
   "outputs": [],
   "source": [
    "# 컬럼명 변경\n",
    "wd_covid.columns = ['날짜', '주차', '주간 확진자', '주간 사망자']"
   ]
  },
  {
   "cell_type": "code",
   "execution_count": 200,
   "metadata": {
    "ExecuteTime": {
     "end_time": "2020-10-19T10:12:11.299840Z",
     "start_time": "2020-10-19T10:12:11.288870Z"
    }
   },
   "outputs": [
    {
     "data": {
      "text/html": [
       "<div>\n",
       "<style scoped>\n",
       "    .dataframe tbody tr th:only-of-type {\n",
       "        vertical-align: middle;\n",
       "    }\n",
       "\n",
       "    .dataframe tbody tr th {\n",
       "        vertical-align: top;\n",
       "    }\n",
       "\n",
       "    .dataframe thead th {\n",
       "        text-align: right;\n",
       "    }\n",
       "</style>\n",
       "<table border=\"1\" class=\"dataframe\">\n",
       "  <thead>\n",
       "    <tr style=\"text-align: right;\">\n",
       "      <th></th>\n",
       "      <th>주간 확진자</th>\n",
       "      <th>주간 사망자</th>\n",
       "    </tr>\n",
       "  </thead>\n",
       "  <tbody>\n",
       "    <tr>\n",
       "      <th>주간 확진자</th>\n",
       "      <td>1.000000</td>\n",
       "      <td>0.759855</td>\n",
       "    </tr>\n",
       "    <tr>\n",
       "      <th>주간 사망자</th>\n",
       "      <td>0.759855</td>\n",
       "      <td>1.000000</td>\n",
       "    </tr>\n",
       "  </tbody>\n",
       "</table>\n",
       "</div>"
      ],
      "text/plain": [
       "          주간 확진자    주간 사망자\n",
       "주간 확진자  1.000000  0.759855\n",
       "주간 사망자  0.759855  1.000000"
      ]
     },
     "execution_count": 200,
     "metadata": {},
     "output_type": "execute_result"
    }
   ],
   "source": [
    "# 세계 코로나 주간 확진자와 주간 사망자 상관계수\n",
    "# 다중공선성을 고려하여 주간 신규 확진자 데이터만 분석에 활용\n",
    "wd_covid[['주간 확진자', '주간 사망자']].corr()"
   ]
  },
  {
   "cell_type": "code",
   "execution_count": 201,
   "metadata": {
    "ExecuteTime": {
     "end_time": "2020-10-19T10:12:12.727023Z",
     "start_time": "2020-10-19T10:12:12.115658Z"
    }
   },
   "outputs": [
    {
     "data": {
      "text/plain": [
       "<matplotlib.axes._subplots.AxesSubplot at 0x1acb1561880>"
      ]
     },
     "execution_count": 201,
     "metadata": {},
     "output_type": "execute_result"
    },
    {
     "data": {
      "image/png": "[encoded data removed]",
      "text/plain": [
       "<Figure size 1080x288 with 1 Axes>"
      ]
     },
     "metadata": {
      "needs_background": "light"
     },
     "output_type": "display_data"
    },
    {
     "data": {
      "image/png": "[encoded data removed]",
      "text/plain": [
       "<Figure size 1080x288 with 1 Axes>"
      ]
     },
     "metadata": {
      "needs_background": "light"
     },
     "output_type": "display_data"
    }
   ],
   "source": [
    "# 세계 주간 신규 확진자 및 사망자 추이\n",
    "wd_covid.plot(x='주차', y='주간 확진자', figsize=(15,4))\n",
    "wd_covid.plot(x='주차', y='주간 사망자', figsize=(15,4))"
   ]
  },
  {
   "cell_type": "code",
   "execution_count": 202,
   "metadata": {
    "ExecuteTime": {
     "end_time": "2020-10-19T10:12:13.023234Z",
     "start_time": "2020-10-19T10:12:12.729017Z"
    }
   },
   "outputs": [
    {
     "data": {
      "text/plain": [
       "<matplotlib.axes._subplots.AxesSubplot at 0x1acb3d10a90>"
      ]
     },
     "execution_count": 202,
     "metadata": {},
     "output_type": "execute_result"
    },
    {
     "data": {
      "image/png": "[encoded data removed]",
      "text/plain": [
       "<Figure size 1080x288 with 1 Axes>"
      ]
     },
     "metadata": {
      "needs_background": "light"
     },
     "output_type": "display_data"
    }
   ],
   "source": [
    "wld_total = wd_covid[['주차','주간 확진자','주간 사망자']]\n",
    "\n",
    "# 첫 컬럼(date)를 인덱스로 convert\n",
    "wld_total = wld_total.set_index('주차')\n",
    "wld_total.plot(figsize=(15,4))"
   ]
  },
  {
   "cell_type": "markdown",
   "metadata": {},
   "source": [
    "### 코로나19 한국 현황"
   ]
  },
  {
   "cell_type": "code",
   "execution_count": 203,
   "metadata": {
    "ExecuteTime": {
     "end_time": "2020-10-19T10:12:13.614648Z",
     "start_time": "2020-10-19T10:12:13.599693Z"
    }
   },
   "outputs": [],
   "source": [
    "# 주차별 한국 코로나19 확진자 데이터 불러오기\n",
    "kr_covid = pd.read_excel('독립_KR_covid.xlsx')"
   ]
  },
  {
   "cell_type": "code",
   "execution_count": 204,
   "metadata": {
    "ExecuteTime": {
     "end_time": "2020-10-19T10:12:13.815113Z",
     "start_time": "2020-10-19T10:12:13.794168Z"
    },
    "scrolled": true
   },
   "outputs": [
    {
     "data": {
      "text/html": [
       "<div>\n",
       "<style scoped>\n",
       "    .dataframe tbody tr th:only-of-type {\n",
       "        vertical-align: middle;\n",
       "    }\n",
       "\n",
       "    .dataframe tbody tr th {\n",
       "        vertical-align: top;\n",
       "    }\n",
       "\n",
       "    .dataframe thead th {\n",
       "        text-align: right;\n",
       "    }\n",
       "</style>\n",
       "<table border=\"1\" class=\"dataframe\">\n",
       "  <thead>\n",
       "    <tr style=\"text-align: right;\">\n",
       "      <th></th>\n",
       "      <th>Date</th>\n",
       "      <th>Week</th>\n",
       "      <th>KR_covid</th>\n",
       "      <th>KR_death</th>\n",
       "    </tr>\n",
       "  </thead>\n",
       "  <tbody>\n",
       "    <tr>\n",
       "      <th>0</th>\n",
       "      <td>2020-01-17</td>\n",
       "      <td>3</td>\n",
       "      <td>5</td>\n",
       "      <td>0</td>\n",
       "    </tr>\n",
       "    <tr>\n",
       "      <th>1</th>\n",
       "      <td>2020-01-24</td>\n",
       "      <td>4</td>\n",
       "      <td>2</td>\n",
       "      <td>0</td>\n",
       "    </tr>\n",
       "    <tr>\n",
       "      <th>2</th>\n",
       "      <td>2020-01-31</td>\n",
       "      <td>5</td>\n",
       "      <td>12</td>\n",
       "      <td>0</td>\n",
       "    </tr>\n",
       "    <tr>\n",
       "      <th>3</th>\n",
       "      <td>2020-02-07</td>\n",
       "      <td>6</td>\n",
       "      <td>12</td>\n",
       "      <td>0</td>\n",
       "    </tr>\n",
       "    <tr>\n",
       "      <th>4</th>\n",
       "      <td>2020-02-14</td>\n",
       "      <td>7</td>\n",
       "      <td>2</td>\n",
       "      <td>0</td>\n",
       "    </tr>\n",
       "  </tbody>\n",
       "</table>\n",
       "</div>"
      ],
      "text/plain": [
       "        Date  Week  KR_covid  KR_death\n",
       "0 2020-01-17     3         5         0\n",
       "1 2020-01-24     4         2         0\n",
       "2 2020-01-31     5        12         0\n",
       "3 2020-02-07     6        12         0\n",
       "4 2020-02-14     7         2         0"
      ]
     },
     "execution_count": 204,
     "metadata": {},
     "output_type": "execute_result"
    }
   ],
   "source": [
    "kr_covid.head()"
   ]
  },
  {
   "cell_type": "code",
   "execution_count": 205,
   "metadata": {
    "ExecuteTime": {
     "end_time": "2020-10-19T10:12:14.034527Z",
     "start_time": "2020-10-19T10:12:14.027549Z"
    }
   },
   "outputs": [],
   "source": [
    "# 컬럼명 변경\n",
    "kr_covid.columns = ['날짜', '주차', '주간 확진자', '주간 사망자']"
   ]
  },
  {
   "cell_type": "code",
   "execution_count": 206,
   "metadata": {
    "ExecuteTime": {
     "end_time": "2020-10-19T10:12:14.148221Z",
     "start_time": "2020-10-19T10:12:14.137251Z"
    }
   },
   "outputs": [
    {
     "data": {
      "text/html": [
       "<div>\n",
       "<style scoped>\n",
       "    .dataframe tbody tr th:only-of-type {\n",
       "        vertical-align: middle;\n",
       "    }\n",
       "\n",
       "    .dataframe tbody tr th {\n",
       "        vertical-align: top;\n",
       "    }\n",
       "\n",
       "    .dataframe thead th {\n",
       "        text-align: right;\n",
       "    }\n",
       "</style>\n",
       "<table border=\"1\" class=\"dataframe\">\n",
       "  <thead>\n",
       "    <tr style=\"text-align: right;\">\n",
       "      <th></th>\n",
       "      <th>주간 확진자</th>\n",
       "      <th>주간 사망자</th>\n",
       "    </tr>\n",
       "  </thead>\n",
       "  <tbody>\n",
       "    <tr>\n",
       "      <th>주간 확진자</th>\n",
       "      <td>1.000000</td>\n",
       "      <td>0.396371</td>\n",
       "    </tr>\n",
       "    <tr>\n",
       "      <th>주간 사망자</th>\n",
       "      <td>0.396371</td>\n",
       "      <td>1.000000</td>\n",
       "    </tr>\n",
       "  </tbody>\n",
       "</table>\n",
       "</div>"
      ],
      "text/plain": [
       "          주간 확진자    주간 사망자\n",
       "주간 확진자  1.000000  0.396371\n",
       "주간 사망자  0.396371  1.000000"
      ]
     },
     "execution_count": 206,
     "metadata": {},
     "output_type": "execute_result"
    }
   ],
   "source": [
    "# 한국 코로나19 주간 신규 확진자와 주간 신규 사망자 상관계수\n",
    "kr_covid[['주간 확진자','주간 사망자']].corr()"
   ]
  },
  {
   "cell_type": "code",
   "execution_count": 207,
   "metadata": {
    "ExecuteTime": {
     "end_time": "2020-10-19T10:12:15.344022Z",
     "start_time": "2020-10-19T10:12:14.813446Z"
    }
   },
   "outputs": [
    {
     "data": {
      "text/plain": [
       "<matplotlib.axes._subplots.AxesSubplot at 0x1acb38cb850>"
      ]
     },
     "execution_count": 207,
     "metadata": {},
     "output_type": "execute_result"
    },
    {
     "data": {
      "image/png": "[encoded data removed]",
      "text/plain": [
       "<Figure size 1080x288 with 1 Axes>"
      ]
     },
     "metadata": {
      "needs_background": "light"
     },
     "output_type": "display_data"
    },
    {
     "data": {
      "image/png": "[encoded data removed]",
      "text/plain": [
       "<Figure size 1080x288 with 1 Axes>"
      ]
     },
     "metadata": {
      "needs_background": "light"
     },
     "output_type": "display_data"
    }
   ],
   "source": [
    "# 한국의 주간 신규 확진자 및 사망자 추이\n",
    "\n",
    "kr_covid.plot(x='주차', y='주간 확진자', figsize=(15,4))\n",
    "kr_covid.plot(x='주차', y='주간 사망자', figsize=(15,4))"
   ]
  },
  {
   "cell_type": "code",
   "execution_count": 208,
   "metadata": {
    "ExecuteTime": {
     "end_time": "2020-10-19T10:12:15.533516Z",
     "start_time": "2020-10-19T10:12:15.521548Z"
    }
   },
   "outputs": [
    {
     "data": {
      "text/html": [
       "<div>\n",
       "<style scoped>\n",
       "    .dataframe tbody tr th:only-of-type {\n",
       "        vertical-align: middle;\n",
       "    }\n",
       "\n",
       "    .dataframe tbody tr th {\n",
       "        vertical-align: top;\n",
       "    }\n",
       "\n",
       "    .dataframe thead th {\n",
       "        text-align: right;\n",
       "    }\n",
       "</style>\n",
       "<table border=\"1\" class=\"dataframe\">\n",
       "  <thead>\n",
       "    <tr style=\"text-align: right;\">\n",
       "      <th></th>\n",
       "      <th>주간 확진자</th>\n",
       "      <th>주간 사망자</th>\n",
       "    </tr>\n",
       "    <tr>\n",
       "      <th>주차</th>\n",
       "      <th></th>\n",
       "      <th></th>\n",
       "    </tr>\n",
       "  </thead>\n",
       "  <tbody>\n",
       "    <tr>\n",
       "      <th>3</th>\n",
       "      <td>5</td>\n",
       "      <td>0</td>\n",
       "    </tr>\n",
       "    <tr>\n",
       "      <th>4</th>\n",
       "      <td>2</td>\n",
       "      <td>0</td>\n",
       "    </tr>\n",
       "    <tr>\n",
       "      <th>5</th>\n",
       "      <td>12</td>\n",
       "      <td>0</td>\n",
       "    </tr>\n",
       "    <tr>\n",
       "      <th>6</th>\n",
       "      <td>12</td>\n",
       "      <td>0</td>\n",
       "    </tr>\n",
       "    <tr>\n",
       "      <th>7</th>\n",
       "      <td>2</td>\n",
       "      <td>0</td>\n",
       "    </tr>\n",
       "  </tbody>\n",
       "</table>\n",
       "</div>"
      ],
      "text/plain": [
       "    주간 확진자  주간 사망자\n",
       "주차                \n",
       "3        5       0\n",
       "4        2       0\n",
       "5       12       0\n",
       "6       12       0\n",
       "7        2       0"
      ]
     },
     "execution_count": 208,
     "metadata": {},
     "output_type": "execute_result"
    }
   ],
   "source": [
    "#한국의 주간 확진자 주간 사망자 수 그래프로 한 번에\n",
    "\n",
    "kr_total=kr_covid[['주차','주간 확진자','주간 사망자']]\n",
    "kr_total.head()\n",
    "\n",
    "# 첫 컬럼(date)를 인덱스로 convert\n",
    "kr_total = kr_total.set_index('주차')\n",
    "kr_total.head()"
   ]
  },
  {
   "cell_type": "code",
   "execution_count": 209,
   "metadata": {
    "ExecuteTime": {
     "end_time": "2020-10-19T10:12:16.270545Z",
     "start_time": "2020-10-19T10:12:16.011246Z"
    }
   },
   "outputs": [
    {
     "data": {
      "text/plain": [
       "<matplotlib.axes._subplots.AxesSubplot at 0x1acb398b070>"
      ]
     },
     "execution_count": 209,
     "metadata": {},
     "output_type": "execute_result"
    },
    {
     "data": {
      "image/png": "[encoded data removed]",
      "text/plain": [
       "<Figure size 1080x288 with 1 Axes>"
      ]
     },
     "metadata": {
      "needs_background": "light"
     },
     "output_type": "display_data"
    }
   ],
   "source": [
    "kr_total.plot(figsize=(15,4))"
   ]
  },
  {
   "cell_type": "markdown",
   "metadata": {},
   "source": [
    "### KOSPI, KOSDAQ, NASDAQ"
   ]
  },
  {
   "cell_type": "code",
   "execution_count": 210,
   "metadata": {
    "ExecuteTime": {
     "end_time": "2020-10-19T10:12:17.131243Z",
     "start_time": "2020-10-19T10:12:17.083378Z"
    }
   },
   "outputs": [],
   "source": [
    "kospi_eda = pd.read_excel(\"독립_KOSPI.xlsx\")\n",
    "kosdaq_eda = pd.read_excel(\"독립_KOSDAQ.xlsx\")\n",
    "nasdaq_eda = pd.read_excel(\"독립_NASDAQ.xlsx\")"
   ]
  },
  {
   "cell_type": "code",
   "execution_count": 211,
   "metadata": {
    "ExecuteTime": {
     "end_time": "2020-10-19T10:12:18.131568Z",
     "start_time": "2020-10-19T10:12:18.113617Z"
    }
   },
   "outputs": [],
   "source": [
    "# 주차와 요일 정보를 삭제하고 날짜를 인덱스로 지정\n",
    "\n",
    "kospi_eda = kospi_eda.drop(\"Week\",1)\n",
    "kospi_eda = kospi_eda.drop(\"Day\",1)\n",
    "kospi_eda = kospi.set_index('Date')\n",
    "\n",
    "kosdaq_eda = kospi_eda.drop(\"Week\",1)\n",
    "kosdaq_eda = kospi_eda.drop(\"Day\",1)\n",
    "kosdaq_eda = kospi.set_index('Date')\n",
    "\n",
    "nasdaq_eda = kospi_eda.drop(\"Week\",1)\n",
    "nasdaq_eda = kospi_eda.drop(\"Day\",1)\n",
    "nasdaq_eda = kospi.set_index('Date')"
   ]
  },
  {
   "cell_type": "code",
   "execution_count": 212,
   "metadata": {
    "ExecuteTime": {
     "end_time": "2020-10-19T10:12:20.741586Z",
     "start_time": "2020-10-19T10:12:19.868923Z"
    }
   },
   "outputs": [
    {
     "data": {
      "image/png": "[encoded data removed]",
      "text/plain": [
       "<Figure size 432x288 with 1 Axes>"
      ]
     },
     "metadata": {
      "needs_background": "light"
     },
     "output_type": "display_data"
    },
    {
     "data": {
      "image/png": "[encoded data removed]",
      "text/plain": [
       "<Figure size 432x288 with 1 Axes>"
      ]
     },
     "metadata": {
      "needs_background": "light"
     },
     "output_type": "display_data"
    },
    {
     "data": {
      "image/png": "[encoded data removed]",
      "text/plain": [
       "<Figure size 432x288 with 1 Axes>"
      ]
     },
     "metadata": {
      "needs_background": "light"
     },
     "output_type": "display_data"
    }
   ],
   "source": [
    "kospi_eda['Close'].plot(color='#ff0000') #색상 red적용\n",
    "pyplot.grid() # 그래프 배경 그리드 추가\n",
    "pyplot.legend() # legend(범례) 추가\n",
    "pyplot.title(\"2020년 KOSPI 추세\")\n",
    "pyplot.xlabel(\"날짜\")\n",
    "pyplot.ylabel(\"종가\")\n",
    "pyplot.show() \n",
    "\n",
    "kosdaq_eda['Close'].plot(color='#ff0000') #색상 red적용\n",
    "pyplot.grid() # 그래프 배경 그리드 추가\n",
    "pyplot.legend() # legend(범례) 추가\n",
    "pyplot.title(\"2020년 KOSDAQ 추세\")\n",
    "pyplot.xlabel(\"날짜\")\n",
    "pyplot.ylabel(\"종가\")\n",
    "pyplot.show() \n",
    "\n",
    "nasdaq_eda['Close'].plot(color='#ff0000') #색상 red적용\n",
    "pyplot.grid() # 그래프 배경 그리드 추가\n",
    "pyplot.legend() # legend(범례) 추가\n",
    "pyplot.title(\"2020년 NASDAQ 추세\")\n",
    "pyplot.xlabel(\"날짜\")\n",
    "pyplot.ylabel(\"종가\")\n",
    "pyplot.show() "
   ]
  },
  {
   "cell_type": "markdown",
   "metadata": {},
   "source": [
    "### WICS 10개 대분류 산업군 추이"
   ]
  },
  {
   "cell_type": "code",
   "execution_count": 218,
   "metadata": {
    "ExecuteTime": {
     "end_time": "2020-10-19T10:13:57.412016Z",
     "start_time": "2020-10-19T10:13:57.340205Z"
    }
   },
   "outputs": [
    {
     "data": {
      "text/html": [
       "<div>\n",
       "<style scoped>\n",
       "    .dataframe tbody tr th:only-of-type {\n",
       "        vertical-align: middle;\n",
       "    }\n",
       "\n",
       "    .dataframe tbody tr th {\n",
       "        vertical-align: top;\n",
       "    }\n",
       "\n",
       "    .dataframe thead th {\n",
       "        text-align: right;\n",
       "    }\n",
       "</style>\n",
       "<table border=\"1\" class=\"dataframe\">\n",
       "  <thead>\n",
       "    <tr style=\"text-align: right;\">\n",
       "      <th></th>\n",
       "      <th>일자</th>\n",
       "      <th>주차</th>\n",
       "      <th>요일</th>\n",
       "      <th>경기관련소비재</th>\n",
       "      <th>에너지</th>\n",
       "      <th>소재</th>\n",
       "      <th>산업재</th>\n",
       "      <th>필수소비재</th>\n",
       "      <th>건강관리</th>\n",
       "      <th>금융</th>\n",
       "      <th>IT</th>\n",
       "      <th>커뮤니케이션서비스</th>\n",
       "      <th>유틸리티</th>\n",
       "    </tr>\n",
       "  </thead>\n",
       "  <tbody>\n",
       "    <tr>\n",
       "      <th>0</th>\n",
       "      <td>2017-10-13</td>\n",
       "      <td>41</td>\n",
       "      <td>4</td>\n",
       "      <td>3251.15</td>\n",
       "      <td>5856.65</td>\n",
       "      <td>3458.18</td>\n",
       "      <td>1854.56</td>\n",
       "      <td>5739.83</td>\n",
       "      <td>4665.15</td>\n",
       "      <td>1844.58</td>\n",
       "      <td>2166.07</td>\n",
       "      <td>278.59</td>\n",
       "      <td>1078.17</td>\n",
       "    </tr>\n",
       "    <tr>\n",
       "      <th>1</th>\n",
       "      <td>2017-10-20</td>\n",
       "      <td>42</td>\n",
       "      <td>4</td>\n",
       "      <td>3295.80</td>\n",
       "      <td>5818.19</td>\n",
       "      <td>3529.94</td>\n",
       "      <td>1882.39</td>\n",
       "      <td>5873.09</td>\n",
       "      <td>4800.06</td>\n",
       "      <td>1833.57</td>\n",
       "      <td>2158.81</td>\n",
       "      <td>278.00</td>\n",
       "      <td>1117.76</td>\n",
       "    </tr>\n",
       "    <tr>\n",
       "      <th>2</th>\n",
       "      <td>2017-10-27</td>\n",
       "      <td>43</td>\n",
       "      <td>4</td>\n",
       "      <td>3434.22</td>\n",
       "      <td>5761.43</td>\n",
       "      <td>3577.55</td>\n",
       "      <td>1888.69</td>\n",
       "      <td>5900.89</td>\n",
       "      <td>4853.54</td>\n",
       "      <td>1849.30</td>\n",
       "      <td>2144.91</td>\n",
       "      <td>273.64</td>\n",
       "      <td>1063.97</td>\n",
       "    </tr>\n",
       "    <tr>\n",
       "      <th>3</th>\n",
       "      <td>2017-11-03</td>\n",
       "      <td>44</td>\n",
       "      <td>4</td>\n",
       "      <td>3508.02</td>\n",
       "      <td>5772.44</td>\n",
       "      <td>3566.09</td>\n",
       "      <td>1905.14</td>\n",
       "      <td>5944.67</td>\n",
       "      <td>5009.34</td>\n",
       "      <td>1849.43</td>\n",
       "      <td>2252.06</td>\n",
       "      <td>277.89</td>\n",
       "      <td>1070.47</td>\n",
       "    </tr>\n",
       "    <tr>\n",
       "      <th>4</th>\n",
       "      <td>2017-11-10</td>\n",
       "      <td>45</td>\n",
       "      <td>4</td>\n",
       "      <td>3537.89</td>\n",
       "      <td>5803.78</td>\n",
       "      <td>3528.84</td>\n",
       "      <td>1894.80</td>\n",
       "      <td>6128.82</td>\n",
       "      <td>5088.39</td>\n",
       "      <td>1784.60</td>\n",
       "      <td>2251.42</td>\n",
       "      <td>269.10</td>\n",
       "      <td>1059.81</td>\n",
       "    </tr>\n",
       "  </tbody>\n",
       "</table>\n",
       "</div>"
      ],
      "text/plain": [
       "          일자  주차  요일  경기관련소비재      에너지       소재      산업재    필수소비재     건강관리  \\\n",
       "0 2017-10-13  41   4  3251.15  5856.65  3458.18  1854.56  5739.83  4665.15   \n",
       "1 2017-10-20  42   4  3295.80  5818.19  3529.94  1882.39  5873.09  4800.06   \n",
       "2 2017-10-27  43   4  3434.22  5761.43  3577.55  1888.69  5900.89  4853.54   \n",
       "3 2017-11-03  44   4  3508.02  5772.44  3566.09  1905.14  5944.67  5009.34   \n",
       "4 2017-11-10  45   4  3537.89  5803.78  3528.84  1894.80  6128.82  5088.39   \n",
       "\n",
       "        금융       IT  커뮤니케이션서비스     유틸리티  \n",
       "0  1844.58  2166.07     278.59  1078.17  \n",
       "1  1833.57  2158.81     278.00  1117.76  \n",
       "2  1849.30  2144.91     273.64  1063.97  \n",
       "3  1849.43  2252.06     277.89  1070.47  \n",
       "4  1784.60  2251.42     269.10  1059.81  "
      ]
     },
     "execution_count": 218,
     "metadata": {},
     "output_type": "execute_result"
    }
   ],
   "source": [
    "WICS_eda = pd.read_excel(\"독립_WICS.xlsx\")\n",
    "WICS_eda.head()"
   ]
  },
  {
   "cell_type": "code",
   "execution_count": 219,
   "metadata": {
    "ExecuteTime": {
     "end_time": "2020-10-19T10:13:59.384737Z",
     "start_time": "2020-10-19T10:13:59.375768Z"
    }
   },
   "outputs": [],
   "source": [
    "# 주차와 요일 정보를 삭제하고 날짜를 인덱스로 지정\n",
    "\n",
    "WICS_eda = WICS_eda.drop(\"주차\",1)\n",
    "WICS_eda = WICS_eda.drop(\"요일\",1)\n",
    "WICS_eda = WICS_eda.set_index('일자')"
   ]
  },
  {
   "cell_type": "code",
   "execution_count": 220,
   "metadata": {
    "ExecuteTime": {
     "end_time": "2020-10-19T10:14:01.306596Z",
     "start_time": "2020-10-19T10:14:00.792971Z"
    }
   },
   "outputs": [
    {
     "data": {
      "text/plain": [
       "<matplotlib.axes._subplots.AxesSubplot at 0x1acb4ee7040>"
      ]
     },
     "execution_count": 220,
     "metadata": {},
     "output_type": "execute_result"
    },
    {
     "data": {
      "image/png": "[encoded data removed]",
      "text/plain": [
       "<Figure size 432x288 with 1 Axes>"
      ]
     },
     "metadata": {
      "needs_background": "light"
     },
     "output_type": "display_data"
    }
   ],
   "source": [
    "WICS_eda.plot()"
   ]
  },
  {
   "cell_type": "markdown",
   "metadata": {},
   "source": [
    "### 호텔 레스토랑 레저 산업 부문 내 기업 상관관계 히트맵"
   ]
  },
  {
   "cell_type": "code",
   "execution_count": 221,
   "metadata": {
    "ExecuteTime": {
     "end_time": "2020-10-19T10:14:03.176594Z",
     "start_time": "2020-10-19T10:14:02.890361Z"
    }
   },
   "outputs": [
    {
     "data": {
      "text/html": [
       "<div>\n",
       "<style scoped>\n",
       "    .dataframe tbody tr th:only-of-type {\n",
       "        vertical-align: middle;\n",
       "    }\n",
       "\n",
       "    .dataframe tbody tr th {\n",
       "        vertical-align: top;\n",
       "    }\n",
       "\n",
       "    .dataframe thead th {\n",
       "        text-align: right;\n",
       "    }\n",
       "</style>\n",
       "<table border=\"1\" class=\"dataframe\">\n",
       "  <thead>\n",
       "    <tr style=\"text-align: right;\">\n",
       "      <th></th>\n",
       "      <th>Date_x</th>\n",
       "      <th>GKL</th>\n",
       "      <th>강원랜드</th>\n",
       "      <th>남화산업</th>\n",
       "      <th>노랑풍선</th>\n",
       "      <th>디딤</th>\n",
       "      <th>롯데관광개발</th>\n",
       "      <th>모두투어</th>\n",
       "      <th>서부T&amp;D</th>\n",
       "      <th>세중</th>\n",
       "      <th>시공테크</th>\n",
       "      <th>신세계푸드</th>\n",
       "      <th>아난티</th>\n",
       "      <th>용평리조트</th>\n",
       "      <th>이월드</th>\n",
       "      <th>참좋은여행</th>\n",
       "      <th>파라다이스</th>\n",
       "      <th>하나투어</th>\n",
       "      <th>해마로푸드서비스</th>\n",
       "      <th>호텔신라</th>\n",
       "    </tr>\n",
       "  </thead>\n",
       "  <tbody>\n",
       "    <tr>\n",
       "      <th>0</th>\n",
       "      <td>2020-01-17</td>\n",
       "      <td>22250</td>\n",
       "      <td>28600</td>\n",
       "      <td>15150</td>\n",
       "      <td>15600</td>\n",
       "      <td>1950</td>\n",
       "      <td>15050</td>\n",
       "      <td>18150</td>\n",
       "      <td>8860</td>\n",
       "      <td>3280</td>\n",
       "      <td>4765</td>\n",
       "      <td>73500</td>\n",
       "      <td>10750</td>\n",
       "      <td>6240</td>\n",
       "      <td>5480</td>\n",
       "      <td>6700</td>\n",
       "      <td>21550</td>\n",
       "      <td>56400</td>\n",
       "      <td>2730</td>\n",
       "      <td>108500</td>\n",
       "    </tr>\n",
       "    <tr>\n",
       "      <th>1</th>\n",
       "      <td>2020-01-31</td>\n",
       "      <td>18300</td>\n",
       "      <td>27550</td>\n",
       "      <td>13100</td>\n",
       "      <td>13500</td>\n",
       "      <td>1725</td>\n",
       "      <td>12850</td>\n",
       "      <td>14750</td>\n",
       "      <td>7370</td>\n",
       "      <td>2555</td>\n",
       "      <td>4770</td>\n",
       "      <td>67400</td>\n",
       "      <td>9070</td>\n",
       "      <td>5350</td>\n",
       "      <td>4810</td>\n",
       "      <td>5700</td>\n",
       "      <td>17000</td>\n",
       "      <td>44900</td>\n",
       "      <td>2780</td>\n",
       "      <td>87400</td>\n",
       "    </tr>\n",
       "    <tr>\n",
       "      <th>2</th>\n",
       "      <td>2020-02-07</td>\n",
       "      <td>19000</td>\n",
       "      <td>27300</td>\n",
       "      <td>14650</td>\n",
       "      <td>13900</td>\n",
       "      <td>1740</td>\n",
       "      <td>13250</td>\n",
       "      <td>15700</td>\n",
       "      <td>7650</td>\n",
       "      <td>2805</td>\n",
       "      <td>4990</td>\n",
       "      <td>68600</td>\n",
       "      <td>9770</td>\n",
       "      <td>5560</td>\n",
       "      <td>5250</td>\n",
       "      <td>5930</td>\n",
       "      <td>18600</td>\n",
       "      <td>49000</td>\n",
       "      <td>2930</td>\n",
       "      <td>92000</td>\n",
       "    </tr>\n",
       "    <tr>\n",
       "      <th>3</th>\n",
       "      <td>2020-02-14</td>\n",
       "      <td>19450</td>\n",
       "      <td>26650</td>\n",
       "      <td>14400</td>\n",
       "      <td>14300</td>\n",
       "      <td>1695</td>\n",
       "      <td>14050</td>\n",
       "      <td>16100</td>\n",
       "      <td>7400</td>\n",
       "      <td>2880</td>\n",
       "      <td>4990</td>\n",
       "      <td>68200</td>\n",
       "      <td>9520</td>\n",
       "      <td>5510</td>\n",
       "      <td>5000</td>\n",
       "      <td>6260</td>\n",
       "      <td>19550</td>\n",
       "      <td>50500</td>\n",
       "      <td>3120</td>\n",
       "      <td>96800</td>\n",
       "    </tr>\n",
       "    <tr>\n",
       "      <th>4</th>\n",
       "      <td>2020-02-21</td>\n",
       "      <td>18350</td>\n",
       "      <td>25050</td>\n",
       "      <td>12950</td>\n",
       "      <td>13150</td>\n",
       "      <td>1620</td>\n",
       "      <td>12900</td>\n",
       "      <td>14800</td>\n",
       "      <td>7390</td>\n",
       "      <td>2425</td>\n",
       "      <td>5310</td>\n",
       "      <td>63800</td>\n",
       "      <td>7600</td>\n",
       "      <td>4875</td>\n",
       "      <td>4500</td>\n",
       "      <td>5770</td>\n",
       "      <td>18000</td>\n",
       "      <td>45300</td>\n",
       "      <td>2980</td>\n",
       "      <td>88900</td>\n",
       "    </tr>\n",
       "  </tbody>\n",
       "</table>\n",
       "</div>"
      ],
      "text/plain": [
       "      Date_x    GKL   강원랜드   남화산업   노랑풍선    디딤  롯데관광개발   모두투어  서부T&D    세중  \\\n",
       "0 2020-01-17  22250  28600  15150  15600  1950   15050  18150   8860  3280   \n",
       "1 2020-01-31  18300  27550  13100  13500  1725   12850  14750   7370  2555   \n",
       "2 2020-02-07  19000  27300  14650  13900  1740   13250  15700   7650  2805   \n",
       "3 2020-02-14  19450  26650  14400  14300  1695   14050  16100   7400  2880   \n",
       "4 2020-02-21  18350  25050  12950  13150  1620   12900  14800   7390  2425   \n",
       "\n",
       "   시공테크  신세계푸드    아난티  용평리조트   이월드  참좋은여행  파라다이스   하나투어  해마로푸드서비스    호텔신라  \n",
       "0  4765  73500  10750   6240  5480   6700  21550  56400      2730  108500  \n",
       "1  4770  67400   9070   5350  4810   5700  17000  44900      2780   87400  \n",
       "2  4990  68600   9770   5560  5250   5930  18600  49000      2930   92000  \n",
       "3  4990  68200   9520   5510  5000   6260  19550  50500      3120   96800  \n",
       "4  5310  63800   7600   4875  4500   5770  18000  45300      2980   88900  "
      ]
     },
     "execution_count": 221,
     "metadata": {},
     "output_type": "execute_result"
    }
   ],
   "source": [
    "import pandas as pd\n",
    "import numpy as np\n",
    "plt.rcParams['font.family'] = 'AppleGothic' # 애플 그래프 한글깨짐 방지\n",
    "\n",
    "호텔레저_eda = pd.read_excel('호텔레스토랑레저.xlsx')\n",
    "호텔레저_eda = 호텔레저_eda.drop('Week',1)\n",
    "호텔레저_eda.head()"
   ]
  },
  {
   "cell_type": "code",
   "execution_count": 222,
   "metadata": {
    "ExecuteTime": {
     "end_time": "2020-10-19T10:14:04.020339Z",
     "start_time": "2020-10-19T10:14:03.988423Z"
    }
   },
   "outputs": [
    {
     "data": {
      "text/html": [
       "<div>\n",
       "<style scoped>\n",
       "    .dataframe tbody tr th:only-of-type {\n",
       "        vertical-align: middle;\n",
       "    }\n",
       "\n",
       "    .dataframe tbody tr th {\n",
       "        vertical-align: top;\n",
       "    }\n",
       "\n",
       "    .dataframe thead th {\n",
       "        text-align: right;\n",
       "    }\n",
       "</style>\n",
       "<table border=\"1\" class=\"dataframe\">\n",
       "  <thead>\n",
       "    <tr style=\"text-align: right;\">\n",
       "      <th></th>\n",
       "      <th>GKL</th>\n",
       "      <th>강원랜드</th>\n",
       "      <th>남화산업</th>\n",
       "      <th>노랑풍선</th>\n",
       "      <th>디딤</th>\n",
       "      <th>롯데관광개발</th>\n",
       "      <th>모두투어</th>\n",
       "      <th>서부T&amp;D</th>\n",
       "      <th>세중</th>\n",
       "      <th>시공테크</th>\n",
       "      <th>신세계푸드</th>\n",
       "      <th>아난티</th>\n",
       "      <th>용평리조트</th>\n",
       "      <th>이월드</th>\n",
       "      <th>참좋은여행</th>\n",
       "      <th>파라다이스</th>\n",
       "      <th>하나투어</th>\n",
       "      <th>해마로푸드서비스</th>\n",
       "      <th>호텔신라</th>\n",
       "    </tr>\n",
       "  </thead>\n",
       "  <tbody>\n",
       "    <tr>\n",
       "      <th>GKL</th>\n",
       "      <td>1.000000</td>\n",
       "      <td>0.813037</td>\n",
       "      <td>0.387425</td>\n",
       "      <td>0.088152</td>\n",
       "      <td>0.681553</td>\n",
       "      <td>-0.191634</td>\n",
       "      <td>0.901071</td>\n",
       "      <td>0.511642</td>\n",
       "      <td>0.153495</td>\n",
       "      <td>0.024844</td>\n",
       "      <td>0.788910</td>\n",
       "      <td>0.072387</td>\n",
       "      <td>0.800143</td>\n",
       "      <td>0.785648</td>\n",
       "      <td>0.637677</td>\n",
       "      <td>0.950044</td>\n",
       "      <td>0.906336</td>\n",
       "      <td>0.571260</td>\n",
       "      <td>0.944220</td>\n",
       "    </tr>\n",
       "    <tr>\n",
       "      <th>강원랜드</th>\n",
       "      <td>0.813037</td>\n",
       "      <td>1.000000</td>\n",
       "      <td>0.573796</td>\n",
       "      <td>0.380592</td>\n",
       "      <td>0.738964</td>\n",
       "      <td>0.127525</td>\n",
       "      <td>0.824690</td>\n",
       "      <td>0.688427</td>\n",
       "      <td>0.514888</td>\n",
       "      <td>0.448482</td>\n",
       "      <td>0.868816</td>\n",
       "      <td>0.534488</td>\n",
       "      <td>0.930220</td>\n",
       "      <td>0.835314</td>\n",
       "      <td>0.780358</td>\n",
       "      <td>0.828162</td>\n",
       "      <td>0.816247</td>\n",
       "      <td>0.614797</td>\n",
       "      <td>0.805576</td>\n",
       "    </tr>\n",
       "    <tr>\n",
       "      <th>남화산업</th>\n",
       "      <td>0.387425</td>\n",
       "      <td>0.573796</td>\n",
       "      <td>1.000000</td>\n",
       "      <td>0.400895</td>\n",
       "      <td>0.364685</td>\n",
       "      <td>0.244443</td>\n",
       "      <td>0.402657</td>\n",
       "      <td>0.687003</td>\n",
       "      <td>0.716853</td>\n",
       "      <td>0.345966</td>\n",
       "      <td>0.623645</td>\n",
       "      <td>0.511926</td>\n",
       "      <td>0.616081</td>\n",
       "      <td>0.660669</td>\n",
       "      <td>0.473759</td>\n",
       "      <td>0.432360</td>\n",
       "      <td>0.508096</td>\n",
       "      <td>0.391364</td>\n",
       "      <td>0.384355</td>\n",
       "    </tr>\n",
       "    <tr>\n",
       "      <th>노랑풍선</th>\n",
       "      <td>0.088152</td>\n",
       "      <td>0.380592</td>\n",
       "      <td>0.400895</td>\n",
       "      <td>1.000000</td>\n",
       "      <td>0.511700</td>\n",
       "      <td>0.805898</td>\n",
       "      <td>0.460433</td>\n",
       "      <td>0.703413</td>\n",
       "      <td>0.852473</td>\n",
       "      <td>0.398559</td>\n",
       "      <td>0.550945</td>\n",
       "      <td>0.687106</td>\n",
       "      <td>0.484356</td>\n",
       "      <td>0.101795</td>\n",
       "      <td>0.780641</td>\n",
       "      <td>0.337951</td>\n",
       "      <td>0.366717</td>\n",
       "      <td>0.589802</td>\n",
       "      <td>0.336655</td>\n",
       "    </tr>\n",
       "    <tr>\n",
       "      <th>디딤</th>\n",
       "      <td>0.681553</td>\n",
       "      <td>0.738964</td>\n",
       "      <td>0.364685</td>\n",
       "      <td>0.511700</td>\n",
       "      <td>1.000000</td>\n",
       "      <td>0.129440</td>\n",
       "      <td>0.822545</td>\n",
       "      <td>0.583970</td>\n",
       "      <td>0.443373</td>\n",
       "      <td>0.321144</td>\n",
       "      <td>0.784870</td>\n",
       "      <td>0.418045</td>\n",
       "      <td>0.800849</td>\n",
       "      <td>0.650978</td>\n",
       "      <td>0.815277</td>\n",
       "      <td>0.799855</td>\n",
       "      <td>0.779124</td>\n",
       "      <td>0.761351</td>\n",
       "      <td>0.789903</td>\n",
       "    </tr>\n",
       "  </tbody>\n",
       "</table>\n",
       "</div>"
      ],
      "text/plain": [
       "           GKL      강원랜드      남화산업      노랑풍선        디딤    롯데관광개발      모두투어  \\\n",
       "GKL   1.000000  0.813037  0.387425  0.088152  0.681553 -0.191634  0.901071   \n",
       "강원랜드  0.813037  1.000000  0.573796  0.380592  0.738964  0.127525  0.824690   \n",
       "남화산업  0.387425  0.573796  1.000000  0.400895  0.364685  0.244443  0.402657   \n",
       "노랑풍선  0.088152  0.380592  0.400895  1.000000  0.511700  0.805898  0.460433   \n",
       "디딤    0.681553  0.738964  0.364685  0.511700  1.000000  0.129440  0.822545   \n",
       "\n",
       "         서부T&D        세중      시공테크     신세계푸드       아난티     용평리조트       이월드  \\\n",
       "GKL   0.511642  0.153495  0.024844  0.788910  0.072387  0.800143  0.785648   \n",
       "강원랜드  0.688427  0.514888  0.448482  0.868816  0.534488  0.930220  0.835314   \n",
       "남화산업  0.687003  0.716853  0.345966  0.623645  0.511926  0.616081  0.660669   \n",
       "노랑풍선  0.703413  0.852473  0.398559  0.550945  0.687106  0.484356  0.101795   \n",
       "디딤    0.583970  0.443373  0.321144  0.784870  0.418045  0.800849  0.650978   \n",
       "\n",
       "         참좋은여행     파라다이스      하나투어  해마로푸드서비스      호텔신라  \n",
       "GKL   0.637677  0.950044  0.906336  0.571260  0.944220  \n",
       "강원랜드  0.780358  0.828162  0.816247  0.614797  0.805576  \n",
       "남화산업  0.473759  0.432360  0.508096  0.391364  0.384355  \n",
       "노랑풍선  0.780641  0.337951  0.366717  0.589802  0.336655  \n",
       "디딤    0.815277  0.799855  0.779124  0.761351  0.789903  "
      ]
     },
     "execution_count": 222,
     "metadata": {},
     "output_type": "execute_result"
    }
   ],
   "source": [
    "호텔레저_eda.corr().head()"
   ]
  },
  {
   "cell_type": "code",
   "execution_count": 223,
   "metadata": {
    "ExecuteTime": {
     "end_time": "2020-10-19T10:14:09.133663Z",
     "start_time": "2020-10-19T10:14:07.747371Z"
    }
   },
   "outputs": [
    {
     "name": "stderr",
     "output_type": "stream",
     "text": [
      "findfont: Font family ['AppleGothic'] not found. Falling back to DejaVu Sans.\n"
     ]
    },
    {
     "data": {
      "image/png": "[encoded data removed]",
      "text/plain": [
       "<Figure size 1440x1440 with 2 Axes>"
      ]
     },
     "metadata": {
      "needs_background": "light"
     },
     "output_type": "display_data"
    }
   ],
   "source": [
    "호텔레저_eda = 호텔레저_eda.corr()\n",
    "# 그림 사이즈 지정\n",
    "fig, ax = plt.subplots(figsize=(20,20) )\n",
    "\n",
    "# 삼각형 마스크를 만든다(위 쪽 삼각형에 True, 아래 삼각형에 False)\n",
    "mask = np.zeros_like(호텔레저_eda, dtype=np.bool)\n",
    "mask[np.triu_indices_from(mask)] = True\n",
    "\n",
    "# 히트맵을 그린다\n",
    "sns.heatmap(호텔레저_eda, \n",
    "            cmap = 'RdYlBu_r', \n",
    "            annot = True,   # 실제 값을 표시한다\n",
    "            mask=mask,      # 표시하지 않을 마스크 부분을 지정한다\n",
    "            linewidths=.5,  # 경계면 실선으로 구분하기\n",
    "            cbar_kws={\"shrink\": .5},# 컬러바 크기 절반으로 줄이기\n",
    "            vmin = -1,vmax = 1   # 컬러바 범위 -1 ~ 1\n",
    "           )  \n",
    "plt.show()"
   ]
  },
  {
   "cell_type": "code",
   "execution_count": 224,
   "metadata": {
    "ExecuteTime": {
     "end_time": "2020-10-19T10:14:10.055196Z",
     "start_time": "2020-10-19T10:14:09.744037Z"
    }
   },
   "outputs": [
    {
     "data": {
      "text/html": [
       "<div>\n",
       "<style scoped>\n",
       "    .dataframe tbody tr th:only-of-type {\n",
       "        vertical-align: middle;\n",
       "    }\n",
       "\n",
       "    .dataframe tbody tr th {\n",
       "        vertical-align: top;\n",
       "    }\n",
       "\n",
       "    .dataframe thead th {\n",
       "        text-align: right;\n",
       "    }\n",
       "</style>\n",
       "<table border=\"1\" class=\"dataframe\">\n",
       "  <thead>\n",
       "    <tr style=\"text-align: right;\">\n",
       "      <th></th>\n",
       "      <th>Date_x</th>\n",
       "      <th>카카오</th>\n",
       "      <th>NAVER</th>\n",
       "      <th>THE E&amp;M</th>\n",
       "      <th>아프리카TV</th>\n",
       "      <th>줌인터넷</th>\n",
       "      <th>캐리소프트</th>\n",
       "      <th>키다리스튜디오</th>\n",
       "      <th>티사이언티픽</th>\n",
       "      <th>퓨쳐스트림네트웍스</th>\n",
       "      <th>플리토</th>\n",
       "    </tr>\n",
       "  </thead>\n",
       "  <tbody>\n",
       "    <tr>\n",
       "      <th>0</th>\n",
       "      <td>2020-01-17</td>\n",
       "      <td>168500</td>\n",
       "      <td>191000</td>\n",
       "      <td>907</td>\n",
       "      <td>58000</td>\n",
       "      <td>4880</td>\n",
       "      <td>8370</td>\n",
       "      <td>3910</td>\n",
       "      <td>1495</td>\n",
       "      <td>1210</td>\n",
       "      <td>19350</td>\n",
       "    </tr>\n",
       "    <tr>\n",
       "      <th>1</th>\n",
       "      <td>2020-01-31</td>\n",
       "      <td>159000</td>\n",
       "      <td>179500</td>\n",
       "      <td>811</td>\n",
       "      <td>54000</td>\n",
       "      <td>3985</td>\n",
       "      <td>6910</td>\n",
       "      <td>3475</td>\n",
       "      <td>1565</td>\n",
       "      <td>1075</td>\n",
       "      <td>15250</td>\n",
       "    </tr>\n",
       "    <tr>\n",
       "      <th>2</th>\n",
       "      <td>2020-02-07</td>\n",
       "      <td>167500</td>\n",
       "      <td>185000</td>\n",
       "      <td>765</td>\n",
       "      <td>59100</td>\n",
       "      <td>4520</td>\n",
       "      <td>7080</td>\n",
       "      <td>3985</td>\n",
       "      <td>1615</td>\n",
       "      <td>1095</td>\n",
       "      <td>15800</td>\n",
       "    </tr>\n",
       "    <tr>\n",
       "      <th>3</th>\n",
       "      <td>2020-02-14</td>\n",
       "      <td>180000</td>\n",
       "      <td>186500</td>\n",
       "      <td>822</td>\n",
       "      <td>62300</td>\n",
       "      <td>4650</td>\n",
       "      <td>7380</td>\n",
       "      <td>4020</td>\n",
       "      <td>1720</td>\n",
       "      <td>1240</td>\n",
       "      <td>15900</td>\n",
       "    </tr>\n",
       "    <tr>\n",
       "      <th>4</th>\n",
       "      <td>2020-02-21</td>\n",
       "      <td>189500</td>\n",
       "      <td>189500</td>\n",
       "      <td>782</td>\n",
       "      <td>61200</td>\n",
       "      <td>4265</td>\n",
       "      <td>7900</td>\n",
       "      <td>4760</td>\n",
       "      <td>1630</td>\n",
       "      <td>1150</td>\n",
       "      <td>14700</td>\n",
       "    </tr>\n",
       "  </tbody>\n",
       "</table>\n",
       "</div>"
      ],
      "text/plain": [
       "      Date_x     카카오   NAVER  THE E&M  아프리카TV  줌인터넷  캐리소프트  키다리스튜디오  티사이언티픽  \\\n",
       "0 2020-01-17  168500  191000      907   58000  4880   8370     3910    1495   \n",
       "1 2020-01-31  159000  179500      811   54000  3985   6910     3475    1565   \n",
       "2 2020-02-07  167500  185000      765   59100  4520   7080     3985    1615   \n",
       "3 2020-02-14  180000  186500      822   62300  4650   7380     4020    1720   \n",
       "4 2020-02-21  189500  189500      782   61200  4265   7900     4760    1630   \n",
       "\n",
       "   퓨쳐스트림네트웍스    플리토  \n",
       "0       1210  19350  \n",
       "1       1075  15250  \n",
       "2       1095  15800  \n",
       "3       1240  15900  \n",
       "4       1150  14700  "
      ]
     },
     "execution_count": 224,
     "metadata": {},
     "output_type": "execute_result"
    }
   ],
   "source": [
    "IT미디어_eda = pd.read_excel('양방향미디어와서비스.xlsx')\n",
    "IT미디어_eda = IT미디어_eda.drop('Week',1)\n",
    "IT미디어_eda.head()"
   ]
  },
  {
   "cell_type": "code",
   "execution_count": 225,
   "metadata": {
    "ExecuteTime": {
     "end_time": "2020-10-19T10:14:10.603730Z",
     "start_time": "2020-10-19T10:14:10.579794Z"
    }
   },
   "outputs": [
    {
     "data": {
      "text/html": [
       "<div>\n",
       "<style scoped>\n",
       "    .dataframe tbody tr th:only-of-type {\n",
       "        vertical-align: middle;\n",
       "    }\n",
       "\n",
       "    .dataframe tbody tr th {\n",
       "        vertical-align: top;\n",
       "    }\n",
       "\n",
       "    .dataframe thead th {\n",
       "        text-align: right;\n",
       "    }\n",
       "</style>\n",
       "<table border=\"1\" class=\"dataframe\">\n",
       "  <thead>\n",
       "    <tr style=\"text-align: right;\">\n",
       "      <th></th>\n",
       "      <th>카카오</th>\n",
       "      <th>NAVER</th>\n",
       "      <th>THE E&amp;M</th>\n",
       "      <th>아프리카TV</th>\n",
       "      <th>줌인터넷</th>\n",
       "      <th>캐리소프트</th>\n",
       "      <th>키다리스튜디오</th>\n",
       "      <th>티사이언티픽</th>\n",
       "      <th>퓨쳐스트림네트웍스</th>\n",
       "      <th>플리토</th>\n",
       "    </tr>\n",
       "  </thead>\n",
       "  <tbody>\n",
       "    <tr>\n",
       "      <th>카카오</th>\n",
       "      <td>1.000000</td>\n",
       "      <td>0.989416</td>\n",
       "      <td>-0.034529</td>\n",
       "      <td>0.389624</td>\n",
       "      <td>0.063311</td>\n",
       "      <td>-0.406014</td>\n",
       "      <td>0.908333</td>\n",
       "      <td>0.962042</td>\n",
       "      <td>-0.218769</td>\n",
       "      <td>0.288500</td>\n",
       "    </tr>\n",
       "    <tr>\n",
       "      <th>NAVER</th>\n",
       "      <td>0.989416</td>\n",
       "      <td>1.000000</td>\n",
       "      <td>0.021983</td>\n",
       "      <td>0.450112</td>\n",
       "      <td>0.102350</td>\n",
       "      <td>-0.373120</td>\n",
       "      <td>0.903637</td>\n",
       "      <td>0.950947</td>\n",
       "      <td>-0.181971</td>\n",
       "      <td>0.345003</td>\n",
       "    </tr>\n",
       "    <tr>\n",
       "      <th>THE E&amp;M</th>\n",
       "      <td>-0.034529</td>\n",
       "      <td>0.021983</td>\n",
       "      <td>1.000000</td>\n",
       "      <td>0.453994</td>\n",
       "      <td>0.475349</td>\n",
       "      <td>0.740430</td>\n",
       "      <td>-0.019412</td>\n",
       "      <td>0.033310</td>\n",
       "      <td>0.444071</td>\n",
       "      <td>0.802896</td>\n",
       "    </tr>\n",
       "    <tr>\n",
       "      <th>아프리카TV</th>\n",
       "      <td>0.389624</td>\n",
       "      <td>0.450112</td>\n",
       "      <td>0.453994</td>\n",
       "      <td>1.000000</td>\n",
       "      <td>0.441215</td>\n",
       "      <td>0.195220</td>\n",
       "      <td>0.419947</td>\n",
       "      <td>0.335104</td>\n",
       "      <td>0.371840</td>\n",
       "      <td>0.542380</td>\n",
       "    </tr>\n",
       "    <tr>\n",
       "      <th>줌인터넷</th>\n",
       "      <td>0.063311</td>\n",
       "      <td>0.102350</td>\n",
       "      <td>0.475349</td>\n",
       "      <td>0.441215</td>\n",
       "      <td>1.000000</td>\n",
       "      <td>0.460554</td>\n",
       "      <td>0.167859</td>\n",
       "      <td>-0.007582</td>\n",
       "      <td>0.451169</td>\n",
       "      <td>0.622529</td>\n",
       "    </tr>\n",
       "  </tbody>\n",
       "</table>\n",
       "</div>"
      ],
      "text/plain": [
       "              카카오     NAVER   THE E&M    아프리카TV      줌인터넷     캐리소프트   키다리스튜디오  \\\n",
       "카카오      1.000000  0.989416 -0.034529  0.389624  0.063311 -0.406014  0.908333   \n",
       "NAVER    0.989416  1.000000  0.021983  0.450112  0.102350 -0.373120  0.903637   \n",
       "THE E&M -0.034529  0.021983  1.000000  0.453994  0.475349  0.740430 -0.019412   \n",
       "아프리카TV   0.389624  0.450112  0.453994  1.000000  0.441215  0.195220  0.419947   \n",
       "줌인터넷     0.063311  0.102350  0.475349  0.441215  1.000000  0.460554  0.167859   \n",
       "\n",
       "           티사이언티픽  퓨쳐스트림네트웍스       플리토  \n",
       "카카오      0.962042  -0.218769  0.288500  \n",
       "NAVER    0.950947  -0.181971  0.345003  \n",
       "THE E&M  0.033310   0.444071  0.802896  \n",
       "아프리카TV   0.335104   0.371840  0.542380  \n",
       "줌인터넷    -0.007582   0.451169  0.622529  "
      ]
     },
     "execution_count": 225,
     "metadata": {},
     "output_type": "execute_result"
    }
   ],
   "source": [
    "IT미디어_eda.corr().head()"
   ]
  },
  {
   "cell_type": "code",
   "execution_count": 226,
   "metadata": {
    "ExecuteTime": {
     "end_time": "2020-10-19T10:14:12.279247Z",
     "start_time": "2020-10-19T10:14:11.669879Z"
    }
   },
   "outputs": [
    {
     "data": {
      "image/png": "[encoded data removed]",
      "text/plain": [
       "<Figure size 1440x1440 with 2 Axes>"
      ]
     },
     "metadata": {
      "needs_background": "light"
     },
     "output_type": "display_data"
    }
   ],
   "source": [
    "IT미디어_eda = IT미디어_eda.corr()\n",
    "# 그림 사이즈 지정\n",
    "fig, ax = plt.subplots(figsize=(20,20) )\n",
    "\n",
    "# 삼각형 마스크를 만든다(위 쪽 삼각형에 True, 아래 삼각형에 False)\n",
    "mask = np.zeros_like(IT미디어_eda, dtype=np.bool)\n",
    "mask[np.triu_indices_from(mask)] = True\n",
    "\n",
    "# 히트맵을 그린다\n",
    "sns.heatmap(IT미디어_eda, \n",
    "            cmap = 'RdYlBu_r', \n",
    "            annot = True,   # 실제 값을 표시한다\n",
    "            mask=mask,      # 표시하지 않을 마스크 부분을 지정한다\n",
    "            linewidths=.5,  # 경계면 실선으로 구분하기\n",
    "            cbar_kws={\"shrink\": .5},# 컬러바 크기 절반으로 줄이기\n",
    "            vmin = -1,vmax = 1   # 컬러바 범위 -1 ~ 1\n",
    "           )  \n",
    "plt.show()"
   ]
  },
  {
   "cell_type": "markdown",
   "metadata": {},
   "source": [
    "## 2-2. 회귀분석\n",
    "\n",
    "**30개 기업 회귀분석을 위한 코드**  \n",
    "반복문을 짜기는 했지만, 휴먼러닝이 약간 필요합니다. "
   ]
  },
  {
   "cell_type": "code",
   "execution_count": 263,
   "metadata": {
    "ExecuteTime": {
     "end_time": "2020-10-19T10:27:24.456349Z",
     "start_time": "2020-10-19T10:27:24.452363Z"
    }
   },
   "outputs": [],
   "source": [
    "import pandas as pd\n",
    "from statsmodels.formula.api import ols"
   ]
  },
  {
   "cell_type": "code",
   "execution_count": 264,
   "metadata": {
    "ExecuteTime": {
     "end_time": "2020-10-19T10:27:24.777489Z",
     "start_time": "2020-10-19T10:27:24.702693Z"
    }
   },
   "outputs": [],
   "source": [
    "# 위에서 작업한, 분석하려는 기업목록과 독립변수가 합쳐져 있는 파일 불러오기\n",
    "호텔레저_독립 = pd.read_excel('호텔레스토랑레저_독립.xlsx')\n",
    "IT미디어_독립 = pd.read_excel('양방향미디어와서비스_독립.xlsx')"
   ]
  },
  {
   "cell_type": "markdown",
   "metadata": {},
   "source": [
    "### 코드: 호텔,레스토랑, 레저"
   ]
  },
  {
   "cell_type": "code",
   "execution_count": 265,
   "metadata": {
    "ExecuteTime": {
     "end_time": "2020-10-19T10:27:25.156475Z",
     "start_time": "2020-10-19T10:27:25.150493Z"
    }
   },
   "outputs": [],
   "source": [
    "# 분석할 기업목록 확인\n",
    "호텔레저_list = ['GKL', 'MP그룹', '강원랜드', '남화산업', '노랑풍선', '디딤', '롯데관광개발',\n",
    "             '모두투어', '서부TnD', '세중', '시공테크', '신세계푸드', '아난티', '용평리조트',\n",
    "             '이월드', '참좋은여행', '파라다이스', '하나투어', '해마로푸드서비스', '호텔신라']"
   ]
  },
  {
   "cell_type": "markdown",
   "metadata": {},
   "source": [
    "**반복문(1)**   \n",
    "**Kc = KR_covid, KR_death / Wc = WD_covid / C = Kc, Wc / N = Nasdaq / Kb = KR_bank / Ub = US_bank**"
   ]
  },
  {
   "cell_type": "code",
   "execution_count": 266,
   "metadata": {
    "ExecuteTime": {
     "end_time": "2020-10-19T10:27:25.607271Z",
     "start_time": "2020-10-19T10:27:25.589320Z"
    },
    "scrolled": false
   },
   "outputs": [
    {
     "name": "stdout",
     "output_type": "stream",
     "text": [
      "호텔신라Kc = ols(\"호텔신라~ KR_covid+KR_death\", data=호텔레저_독립).fit()\n",
      "#호텔신라Kc.summary()\n",
      "호텔신라KcWc = ols(\"호텔신라 ~ KR_covid+KR_death+WD_covid\", data=호텔레저_독립).fit()\n",
      "#호텔신라KcWc.summary()\n",
      "호텔신라CN = ols(\"호텔신라~ KR_covid+KR_death+WD_covid+Nasdaq\", data=호텔레저_독립).fit()\n",
      "#호텔신라CN.summary()\n",
      "호텔신라CNKb = ols(\"호텔신라 ~ KR_covid+KR_death+WD_covid+KR_bank+Nasdaq\", data=호텔레저_독립).fit()\n",
      "#호텔신라CNKb.summary()\n",
      "호텔신라CNUb = ols(\"호텔신라 ~ KR_covid+KR_death+WD_covid+US_bank+Nasdaq\", data=호텔레저_독립).fit()\n",
      "#호텔신라CNUb.summary()\n",
      "호텔신라CNKbUb = ols(\"호텔신라 ~ KR_covid+KR_death+WD_covid+KR_bank+US_bank+Nasdaq\", data=호텔레저_독립).fit()\n",
      "#호텔신라CNKbUb.summary()\n"
     ]
    }
   ],
   "source": [
    "# 호텔레저_list 안에 분석하려는 기업명 입력하기.\n",
    "#KbUb 넣기\n",
    "호텔레저_list = ['호텔신라']\n",
    "for i in 호텔레저_list:\n",
    "    Kc = i + 'Kc = ols(\\\"' + i + '~ KR_covid+KR_death\\\", data=호텔레저_독립).fit()'\n",
    "    a = '#' + i + 'Kc.summary()'\n",
    "    KcWc = i + 'KcWc = ols(\\\"' + i + ' ~ KR_covid+KR_death+WD_covid\\\", data=호텔레저_독립).fit()'\n",
    "    b = '#' + i + 'KcWc.summary()'\n",
    "    CN = i + 'CN = ols(\\\"' + i + '~ KR_covid+KR_death+WD_covid+Nasdaq\\\", data=호텔레저_독립).fit()'\n",
    "    c = '#' + i + 'CN.summary()'\n",
    "    CNKb = i + 'CNKb = ols(\\\"' + i + ' ~ KR_covid+KR_death+WD_covid+KR_bank+Nasdaq\\\", data=호텔레저_독립).fit()'\n",
    "    d = '#' + i + 'CNKb.summary()'\n",
    "    CNUb = i + 'CNUb = ols(\\\"' + i + ' ~ KR_covid+KR_death+WD_covid+US_bank+Nasdaq\\\", data=호텔레저_독립).fit()'\n",
    "    e = '#' + i + 'CNUb.summary()'\n",
    "    CNKbUb = i + 'CNKbUb = ols(\\\"' + i + ' ~ KR_covid+KR_death+WD_covid+KR_bank+US_bank+Nasdaq\\\", data=호텔레저_독립).fit()'\n",
    "    f = '#' + i + 'CNKbUb.summary()'\n",
    "    print(Kc)\n",
    "    print(a)\n",
    "    print(KcWc)\n",
    "    print(b)\n",
    "    print(CN)\n",
    "    print(c)\n",
    "    print(CNKb)\n",
    "    print(d)\n",
    "    print(CNUb)\n",
    "    print(e)\n",
    "    print(CNKbUb)\n",
    "    print(f)"
   ]
  },
  {
   "cell_type": "code",
   "execution_count": 267,
   "metadata": {
    "ExecuteTime": {
     "end_time": "2020-10-19T10:27:25.972294Z",
     "start_time": "2020-10-19T10:27:25.830675Z"
    }
   },
   "outputs": [],
   "source": [
    "# 위 결과 새로운 셀에 복붙하기.\n",
    "호텔신라Kc = ols(\"호텔신라~ KR_covid+KR_death\", data=호텔레저_독립).fit()\n",
    "#호텔신라Kc.summary()\n",
    "호텔신라KcWc = ols(\"호텔신라 ~ KR_covid+KR_death+WD_covid\", data=호텔레저_독립).fit()\n",
    "#호텔신라KcWc.summary()\n",
    "호텔신라CN = ols(\"호텔신라~ KR_covid+KR_death+WD_covid+Nasdaq\", data=호텔레저_독립).fit()\n",
    "#호텔신라CN.summary()\n",
    "호텔신라CNKb = ols(\"호텔신라 ~ KR_covid+KR_death+WD_covid+KR_bank+Nasdaq\", data=호텔레저_독립).fit()\n",
    "#호텔신라CNKb.summary()\n",
    "호텔신라CNUb = ols(\"호텔신라 ~ KR_covid+KR_death+WD_covid+US_bank+Nasdaq\", data=호텔레저_독립).fit()\n",
    "#호텔신라CNUb.summary()\n",
    "호텔신라CNKbUb = ols(\"호텔신라 ~ KR_covid+KR_death+WD_covid+KR_bank+US_bank+Nasdaq\", data=호텔레저_독립).fit()\n",
    "#호텔신라CNKbUb.summary()"
   ]
  },
  {
   "cell_type": "markdown",
   "metadata": {},
   "source": [
    "**반복문(2)**  \n",
    "**분석 결과 별 R제곱, 수정R제곱, AIC, BIC**"
   ]
  },
  {
   "cell_type": "code",
   "execution_count": 287,
   "metadata": {
    "ExecuteTime": {
     "end_time": "2020-10-19T10:47:20.108666Z",
     "start_time": "2020-10-19T10:47:20.100676Z"
    }
   },
   "outputs": [
    {
     "name": "stdout",
     "output_type": "stream",
     "text": [
      "호텔신라=pd.DataFrame({\"Kc\":[호텔신라Kc.rsquared,호텔신라Kc.rsquared_adj,호텔신라Kc.aic,호텔신라Kc.bic],\"KcWc\":[호텔신라KcWc.rsquared,호텔신라KcWc.rsquared_adj,호텔신라KcWc.aic,호텔신라KcWc.bic],\"CN\":[호텔신라CN.rsquared,호텔신라CN.rsquared_adj,호텔신라CN.aic,호텔신라CN.bic],\"CNKb\":[호텔신라CNKb.rsquared,호텔신라CNKb.rsquared_adj,호텔신라CNKb.aic,호텔신라CNKb.bic],\"CNUb\":[호텔신라CNUb.rsquared,호텔신라CNUb.rsquared_adj,호텔신라CNUb.aic,호텔신라CNUb.bic],\"CNKbUb\":[호텔신라CNKbUb.rsquared,호텔신라CNKbUb.rsquared_adj,호텔신라CNKbUb.aic,호텔신라CNKbUb.bic]})\n"
     ]
    }
   ],
   "source": [
    "# 호텔레저_list 안에 원하는 기업명 입력하기.\n",
    "호텔레저_list = ['호텔신라']\n",
    "for i in 호텔레저_list:\n",
    "    result = i + '=pd.DataFrame({\\\"Kc\\\":[' + i + 'Kc.rsquared,' + i + 'Kc.rsquared_adj,' + i + 'Kc.aic,'+ i + 'Kc.bic],' + \\\n",
    "    '\\\"KcWc\\\":[' + i + 'KcWc.rsquared,'+ i + 'KcWc.rsquared_adj,'+  i + 'KcWc.aic,'+ i + 'KcWc.bic],' + \\\n",
    "    '\\\"CN\\\":[' + i + 'CN.rsquared,'+  i + 'CN.rsquared_adj,'+  i + 'CN.aic,'+  i + 'CN.bic],' + \\\n",
    "    '\\\"CNKb\\\":[' + i + 'CNKb.rsquared,'+  i + 'CNKb.rsquared_adj,'+  i + 'CNKb.aic,'+  i + 'CNKb.bic],' + \\\n",
    "    '\\\"CNUb\\\":[' + i + 'CNUb.rsquared,'+  i + 'CNUb.rsquared_adj,'+  i + 'CNUb.aic,'+  i + 'CNUb.bic],' + \\\n",
    "    '\\\"CNKbUb\\\":[' + i + 'CNKbUb.rsquared,'+  i + 'CNKbUb.rsquared_adj,'+  i + 'CNKbUb.aic,'+  i + 'CNKbUb.bic]})'\n",
    "    print(result)"
   ]
  },
  {
   "cell_type": "code",
   "execution_count": 288,
   "metadata": {
    "ExecuteTime": {
     "end_time": "2020-10-19T10:47:25.191063Z",
     "start_time": "2020-10-19T10:47:25.181091Z"
    },
    "scrolled": false
   },
   "outputs": [],
   "source": [
    "# 새로운 셀에 위 결과 복붙: R제곱, 수정 R제곱, AIC, BIC 데이터프레임화\n",
    "호텔신라=pd.DataFrame({\"Kc\":[호텔신라Kc.rsquared,호텔신라Kc.rsquared_adj,호텔신라Kc.aic,호텔신라Kc.bic],\"KcWc\":[호텔신라KcWc.rsquared,호텔신라KcWc.rsquared_adj,호텔신라KcWc.aic,호텔신라KcWc.bic],\"CN\":[호텔신라CN.rsquared,호텔신라CN.rsquared_adj,호텔신라CN.aic,호텔신라CN.bic],\"CNKb\":[호텔신라CNKb.rsquared,호텔신라CNKb.rsquared_adj,호텔신라CNKb.aic,호텔신라CNKb.bic],\"CNUb\":[호텔신라CNUb.rsquared,호텔신라CNUb.rsquared_adj,호텔신라CNUb.aic,호텔신라CNUb.bic],\"CNKbUb\":[호텔신라CNKbUb.rsquared,호텔신라CNKbUb.rsquared_adj,호텔신라CNKbUb.aic,호텔신라CNKbUb.bic]})"
   ]
  },
  {
   "cell_type": "code",
   "execution_count": 289,
   "metadata": {
    "ExecuteTime": {
     "end_time": "2020-10-19T10:47:26.998227Z",
     "start_time": "2020-10-19T10:47:26.985265Z"
    },
    "scrolled": false
   },
   "outputs": [
    {
     "data": {
      "text/html": [
       "<div>\n",
       "<style scoped>\n",
       "    .dataframe tbody tr th:only-of-type {\n",
       "        vertical-align: middle;\n",
       "    }\n",
       "\n",
       "    .dataframe tbody tr th {\n",
       "        vertical-align: top;\n",
       "    }\n",
       "\n",
       "    .dataframe thead th {\n",
       "        text-align: right;\n",
       "    }\n",
       "</style>\n",
       "<table border=\"1\" class=\"dataframe\">\n",
       "  <thead>\n",
       "    <tr style=\"text-align: right;\">\n",
       "      <th></th>\n",
       "      <th>Kc</th>\n",
       "      <th>KcWc</th>\n",
       "      <th>CN</th>\n",
       "      <th>CNKb</th>\n",
       "      <th>CNUb</th>\n",
       "      <th>CNKbUb</th>\n",
       "    </tr>\n",
       "  </thead>\n",
       "  <tbody>\n",
       "    <tr>\n",
       "      <th>0</th>\n",
       "      <td>0.128360</td>\n",
       "      <td>0.476148</td>\n",
       "      <td>0.745755</td>\n",
       "      <td>0.747838</td>\n",
       "      <td>0.753901</td>\n",
       "      <td>0.753911</td>\n",
       "    </tr>\n",
       "    <tr>\n",
       "      <th>1</th>\n",
       "      <td>0.058628</td>\n",
       "      <td>0.410667</td>\n",
       "      <td>0.701538</td>\n",
       "      <td>0.690528</td>\n",
       "      <td>0.697969</td>\n",
       "      <td>0.683600</td>\n",
       "    </tr>\n",
       "    <tr>\n",
       "      <th>2</th>\n",
       "      <td>593.738215</td>\n",
       "      <td>581.481495</td>\n",
       "      <td>563.240040</td>\n",
       "      <td>565.009693</td>\n",
       "      <td>564.328255</td>\n",
       "      <td>566.327026</td>\n",
       "    </tr>\n",
       "    <tr>\n",
       "      <th>3</th>\n",
       "      <td>597.734829</td>\n",
       "      <td>586.810313</td>\n",
       "      <td>569.901062</td>\n",
       "      <td>573.002920</td>\n",
       "      <td>572.321482</td>\n",
       "      <td>575.652458</td>\n",
       "    </tr>\n",
       "  </tbody>\n",
       "</table>\n",
       "</div>"
      ],
      "text/plain": [
       "           Kc        KcWc          CN        CNKb        CNUb      CNKbUb\n",
       "0    0.128360    0.476148    0.745755    0.747838    0.753901    0.753911\n",
       "1    0.058628    0.410667    0.701538    0.690528    0.697969    0.683600\n",
       "2  593.738215  581.481495  563.240040  565.009693  564.328255  566.327026\n",
       "3  597.734829  586.810313  569.901062  573.002920  572.321482  575.652458"
      ]
     },
     "execution_count": 289,
     "metadata": {},
     "output_type": "execute_result"
    }
   ],
   "source": [
    "# 결과\n",
    "호텔신라"
   ]
  },
  {
   "cell_type": "markdown",
   "metadata": {},
   "source": [
    "### 코드: 양방향미디어와서비스"
   ]
  },
  {
   "cell_type": "code",
   "execution_count": 271,
   "metadata": {
    "ExecuteTime": {
     "end_time": "2020-10-19T10:27:29.383171Z",
     "start_time": "2020-10-19T10:27:29.378187Z"
    }
   },
   "outputs": [],
   "source": [
    "# 분석할 기업목록 확인\n",
    "IT미디어_list = ['Date', 'Week', '카카오', 'NAVER', 'THE E&M', '아프리카TV', '줌인터넷', '캐리소프트',\n",
    "       '키다리스튜디오', '티사이언티픽', '퓨쳐스트림네트웍스', '플리토', 'KR_covid', 'KR_death',\n",
    "       'WD_covid', 'KR_bank', 'US_bank', 'Nasdaq']"
   ]
  },
  {
   "cell_type": "markdown",
   "metadata": {},
   "source": [
    "**반복문(1)**   \n",
    "**Kc = KR_covid, KR_death / Wc = WD_covid / C = Kc, Wc / N = Nasdaq / Kb = KR_bank / Ub = US_bank**"
   ]
  },
  {
   "cell_type": "code",
   "execution_count": 272,
   "metadata": {
    "ExecuteTime": {
     "end_time": "2020-10-19T10:27:30.872188Z",
     "start_time": "2020-10-19T10:27:30.858225Z"
    },
    "scrolled": false
   },
   "outputs": [
    {
     "name": "stdout",
     "output_type": "stream",
     "text": [
      "카카오Kc = ols(\"카카오~ KR_covid+KR_death\", data=IT미디어_독립).fit()\n",
      "#카카오Kc.summary()\n",
      "카카오KcWc = ols(\"카카오 ~ KR_covid+KR_death+WD_covid\", data=IT미디어_독립).fit()\n",
      "#카카오KcWc.summary()\n",
      "카카오CN = ols(\"카카오~ KR_covid+KR_death+WD_covid+Nasdaq\", data=IT미디어_독립).fit()\n",
      "#카카오CN.summary()\n",
      "카카오CNKb = ols(\"카카오 ~ KR_covid+KR_death+WD_covid+KR_bank+Nasdaq\", data=IT미디어_독립).fit()\n",
      "#카카오CNKb.summary()\n",
      "카카오CNUb = ols(\"카카오 ~ KR_covid+KR_death+WD_covid+US_bank+Nasdaq\", data=IT미디어_독립).fit()\n",
      "#카카오CNUb.summary()\n",
      "카카오CNKbUb = ols(\"카카오 ~ KR_covid+KR_death+WD_covid+KR_bank+US_bank+Nasdaq\", data=IT미디어_독립).fit()\n",
      "#카카오CNKbUb.summary()\n"
     ]
    }
   ],
   "source": [
    "# 호텔레저_list 안에 분석하려는 기업명 입력하기.\n",
    "#KbUb 넣기\n",
    "IT미디어_list = ['카카오']\n",
    "for i in IT미디어_list:\n",
    "    Kc = i + 'Kc = ols(\\\"' + i + '~ KR_covid+KR_death\\\", data=IT미디어_독립).fit()'\n",
    "    a = '#' + i + 'Kc.summary()'\n",
    "    KcWc = i + 'KcWc = ols(\\\"' + i + ' ~ KR_covid+KR_death+WD_covid\\\", data=IT미디어_독립).fit()'\n",
    "    b = '#' + i + 'KcWc.summary()'\n",
    "    CN = i + 'CN = ols(\\\"' + i + '~ KR_covid+KR_death+WD_covid+Nasdaq\\\", data=IT미디어_독립).fit()'\n",
    "    c = '#' + i + 'CN.summary()'\n",
    "    CNKb = i + 'CNKb = ols(\\\"' + i + ' ~ KR_covid+KR_death+WD_covid+KR_bank+Nasdaq\\\", data=IT미디어_독립).fit()'\n",
    "    d = '#' + i + 'CNKb.summary()'\n",
    "    CNUb = i + 'CNUb = ols(\\\"' + i + ' ~ KR_covid+KR_death+WD_covid+US_bank+Nasdaq\\\", data=IT미디어_독립).fit()'\n",
    "    e = '#' + i + 'CNUb.summary()'\n",
    "    CNKbUb = i + 'CNKbUb = ols(\\\"' + i + ' ~ KR_covid+KR_death+WD_covid+KR_bank+US_bank+Nasdaq\\\", data=IT미디어_독립).fit()'\n",
    "    f = '#' + i + 'CNKbUb.summary()'\n",
    "    print(Kc)\n",
    "    print(a)\n",
    "    print(KcWc)\n",
    "    print(b)\n",
    "    print(CN)\n",
    "    print(c)\n",
    "    print(CNKb)\n",
    "    print(d)\n",
    "    print(CNUb)\n",
    "    print(e)\n",
    "    print(CNKbUb)\n",
    "    print(f)"
   ]
  },
  {
   "cell_type": "code",
   "execution_count": 281,
   "metadata": {
    "ExecuteTime": {
     "end_time": "2020-10-19T10:43:59.672776Z",
     "start_time": "2020-10-19T10:43:59.544123Z"
    }
   },
   "outputs": [],
   "source": [
    "카카오Kc = ols(\"카카오~ KR_covid+KR_death\", data=IT미디어_독립).fit()\n",
    "#카카오Kc.summary()\n",
    "카카오KcWc = ols(\"카카오 ~ KR_covid+KR_death+WD_covid\", data=IT미디어_독립).fit()\n",
    "#카카오KcWc.summary()\n",
    "카카오CN = ols(\"카카오~ KR_covid+KR_death+WD_covid+Nasdaq\", data=IT미디어_독립).fit()\n",
    "#카카오CN.summary()\n",
    "카카오CNKb = ols(\"카카오 ~ KR_covid+KR_death+WD_covid+KR_bank+Nasdaq\", data=IT미디어_독립).fit()\n",
    "#카카오CNKb.summary()\n",
    "카카오CNUb = ols(\"카카오 ~ KR_covid+KR_death+WD_covid+US_bank+Nasdaq\", data=IT미디어_독립).fit()\n",
    "#카카오CNUb.summary()\n",
    "카카오CNKbUb = ols(\"카카오 ~ KR_covid+KR_death+WD_covid+KR_bank+US_bank+Nasdaq\", data=IT미디어_독립).fit()\n",
    "#카카오CNKbUb.summary()"
   ]
  },
  {
   "cell_type": "markdown",
   "metadata": {},
   "source": [
    "**반복문(2)**  \n",
    "**분석 결과 별 R제곱, 수정R제곱, AIC, BIC**"
   ]
  },
  {
   "cell_type": "code",
   "execution_count": 282,
   "metadata": {
    "ExecuteTime": {
     "end_time": "2020-10-19T10:44:57.716524Z",
     "start_time": "2020-10-19T10:44:57.706550Z"
    }
   },
   "outputs": [
    {
     "name": "stdout",
     "output_type": "stream",
     "text": [
      "카카오=pd.DataFrame({\"Kc\":[카카오Kc.rsquared,카카오Kc.rsquared_adj,카카오Kc.aic,카카오Kc.bic],\"KcWc\":[카카오KcWc.rsquared,카카오KcWc.rsquared_adj,카카오KcWc.aic,카카오KcWc.bic],\"CN\":[카카오CN.rsquared,카카오CN.rsquared_adj,카카오CN.aic,카카오CN.bic],\"CNKb\":[카카오CNKb.rsquared,카카오CNKb.rsquared_adj,카카오CNKb.aic,카카오CNKb.bic],\"CNUb\":[카카오CNUb.rsquared,카카오CNUb.rsquared_adj,카카오CNUb.aic,카카오CNUb.bic],\"CNKbUb\":[카카오CNKbUb.rsquared,카카오CNKbUb.rsquared_adj,카카오CNKbUb.aic,카카오CNKbUb.bic]})\n"
     ]
    }
   ],
   "source": [
    "# IT미디어_list 안에 원하는 기업명 입력하기.\n",
    "IT미디어_list = ['카카오']\n",
    "for i in IT미디어_list:\n",
    "    result = i + '=pd.DataFrame({\\\"Kc\\\":[' + i + 'Kc.rsquared,' + i + 'Kc.rsquared_adj,' + i + 'Kc.aic,'+ i + 'Kc.bic],' + \\\n",
    "    '\\\"KcWc\\\":[' + i + 'KcWc.rsquared,'+ i + 'KcWc.rsquared_adj,'+  i + 'KcWc.aic,'+ i + 'KcWc.bic],' + \\\n",
    "    '\\\"CN\\\":[' + i + 'CN.rsquared,'+  i + 'CN.rsquared_adj,'+  i + 'CN.aic,'+  i + 'CN.bic],' + \\\n",
    "    '\\\"CNKb\\\":[' + i + 'CNKb.rsquared,'+  i + 'CNKb.rsquared_adj,'+  i + 'CNKb.aic,'+  i + 'CNKb.bic],' + \\\n",
    "    '\\\"CNUb\\\":[' + i + 'CNUb.rsquared,'+  i + 'CNUb.rsquared_adj,'+  i + 'CNUb.aic,'+  i + 'CNUb.bic],' + \\\n",
    "    '\\\"CNKbUb\\\":[' + i + 'CNKbUb.rsquared,'+  i + 'CNKbUb.rsquared_adj,'+  i + 'CNKbUb.aic,'+  i + 'CNKbUb.bic]})'\n",
    "    print(result)"
   ]
  },
  {
   "cell_type": "code",
   "execution_count": 286,
   "metadata": {
    "ExecuteTime": {
     "end_time": "2020-10-19T10:45:51.339094Z",
     "start_time": "2020-10-19T10:45:51.327126Z"
    }
   },
   "outputs": [],
   "source": [
    "# 새로운 셀에 위 결과 복붙: R제곱, 수정 R제곱, AIC, BIC 데이터프레임화\n",
    "카카오=pd.DataFrame({\"Kc\":[카카오Kc.rsquared,카카오Kc.rsquared_adj,카카오Kc.aic,카카오Kc.bic],\"KcWc\":[카카오KcWc.rsquared,카카오KcWc.rsquared_adj,카카오KcWc.aic,카카오KcWc.bic],\"CN\":[카카오CN.rsquared,카카오CN.rsquared_adj,카카오CN.aic,카카오CN.bic],\"CNKb\":[카카오CNKb.rsquared,카카오CNKb.rsquared_adj,카카오CNKb.aic,카카오CNKb.bic],\"CNUb\":[카카오CNUb.rsquared,카카오CNUb.rsquared_adj,카카오CNUb.aic,카카오CNUb.bic],\"CNKbUb\":[카카오CNKbUb.rsquared,카카오CNKbUb.rsquared_adj,카카오CNKbUb.aic,카카오CNKbUb.bic]})"
   ]
  },
  {
   "cell_type": "code",
   "execution_count": 114,
   "metadata": {
    "ExecuteTime": {
     "end_time": "2020-10-18T13:57:09.937571Z",
     "start_time": "2020-10-18T13:57:09.925605Z"
    },
    "scrolled": false
   },
   "outputs": [
    {
     "data": {
      "text/html": [
       "<div>\n",
       "<style scoped>\n",
       "    .dataframe tbody tr th:only-of-type {\n",
       "        vertical-align: middle;\n",
       "    }\n",
       "\n",
       "    .dataframe tbody tr th {\n",
       "        vertical-align: top;\n",
       "    }\n",
       "\n",
       "    .dataframe thead th {\n",
       "        text-align: right;\n",
       "    }\n",
       "</style>\n",
       "<table border=\"1\" class=\"dataframe\">\n",
       "  <thead>\n",
       "    <tr style=\"text-align: right;\">\n",
       "      <th></th>\n",
       "      <th>Kc</th>\n",
       "      <th>KcWc</th>\n",
       "      <th>CN</th>\n",
       "      <th>CNKb</th>\n",
       "      <th>CNUb</th>\n",
       "      <th>CNKbUb</th>\n",
       "    </tr>\n",
       "  </thead>\n",
       "  <tbody>\n",
       "    <tr>\n",
       "      <th>0</th>\n",
       "      <td>0.096406</td>\n",
       "      <td>0.955853</td>\n",
       "      <td>0.973077</td>\n",
       "      <td>0.978988</td>\n",
       "      <td>0.977397</td>\n",
       "      <td>0.980095</td>\n",
       "    </tr>\n",
       "    <tr>\n",
       "      <th>1</th>\n",
       "      <td>0.024118</td>\n",
       "      <td>0.950335</td>\n",
       "      <td>0.968395</td>\n",
       "      <td>0.974212</td>\n",
       "      <td>0.972260</td>\n",
       "      <td>0.974408</td>\n",
       "    </tr>\n",
       "    <tr>\n",
       "      <th>2</th>\n",
       "      <td>720.833355</td>\n",
       "      <td>638.305209</td>\n",
       "      <td>626.457702</td>\n",
       "      <td>621.517966</td>\n",
       "      <td>623.561448</td>\n",
       "      <td>622.001754</td>\n",
       "    </tr>\n",
       "    <tr>\n",
       "      <th>3</th>\n",
       "      <td>724.829969</td>\n",
       "      <td>643.634027</td>\n",
       "      <td>633.118724</td>\n",
       "      <td>629.511193</td>\n",
       "      <td>631.554675</td>\n",
       "      <td>631.327185</td>\n",
       "    </tr>\n",
       "  </tbody>\n",
       "</table>\n",
       "</div>"
      ],
      "text/plain": [
       "           Kc        KcWc          CN        CNKb        CNUb      CNKbUb\n",
       "0    0.096406    0.955853    0.973077    0.978988    0.977397    0.980095\n",
       "1    0.024118    0.950335    0.968395    0.974212    0.972260    0.974408\n",
       "2  720.833355  638.305209  626.457702  621.517966  623.561448  622.001754\n",
       "3  724.829969  643.634027  633.118724  629.511193  631.554675  631.327185"
      ]
     },
     "execution_count": 114,
     "metadata": {},
     "output_type": "execute_result"
    }
   ],
   "source": [
    "# 결과\n",
    "카카오"
   ]
  },
  {
   "cell_type": "markdown",
   "metadata": {},
   "source": [
    "### 다중회귀분석"
   ]
  },
  {
   "cell_type": "markdown",
   "metadata": {},
   "source": [
    "### 예시(1) 호텔신라"
   ]
  },
  {
   "cell_type": "markdown",
   "metadata": {},
   "source": [
    "Kc = KR_covid, KR_death / Wc = WD_covid / C = Kc, Wc / N = Nasdaq / Kb = KR_bank / Ub = US_bank"
   ]
  },
  {
   "cell_type": "markdown",
   "metadata": {},
   "source": [
    "Korea corona:한국 확진+한국사망  \n",
    "Korea corona World corona: 한국 확진+한국사망+ 세계 확진  \n",
    "Corona Nasdaq:한국확진+한국사망+세계확진 + 나스닥  \n",
    "Corona Nasdaq Korea bank:한국확진+한국사망+세계확진 + 나스닥 + 한은  \n",
    "Corona Nasdaq Us bank: 한국확진+한국사망+세계확진 + 나스닥 + 한은 + 연준  \n",
    "Corona Nasdaq Korea bank Us bank: 한국확진+한국사망+세계확진 + 나스닥 + 한은 + 연준 "
   ]
  },
  {
   "cell_type": "code",
   "execution_count": 290,
   "metadata": {
    "ExecuteTime": {
     "end_time": "2020-10-19T10:51:15.639662Z",
     "start_time": "2020-10-19T10:51:15.624703Z"
    },
    "scrolled": true
   },
   "outputs": [
    {
     "data": {
      "text/html": [
       "<div>\n",
       "<style scoped>\n",
       "    .dataframe tbody tr th:only-of-type {\n",
       "        vertical-align: middle;\n",
       "    }\n",
       "\n",
       "    .dataframe tbody tr th {\n",
       "        vertical-align: top;\n",
       "    }\n",
       "\n",
       "    .dataframe thead th {\n",
       "        text-align: right;\n",
       "    }\n",
       "</style>\n",
       "<table border=\"1\" class=\"dataframe\">\n",
       "  <thead>\n",
       "    <tr style=\"text-align: right;\">\n",
       "      <th></th>\n",
       "      <th>Kc</th>\n",
       "      <th>KcWc</th>\n",
       "      <th>CN</th>\n",
       "      <th>CNKb</th>\n",
       "      <th>CNUb</th>\n",
       "      <th>CNKbUb</th>\n",
       "    </tr>\n",
       "  </thead>\n",
       "  <tbody>\n",
       "    <tr>\n",
       "      <th>0</th>\n",
       "      <td>0.128360</td>\n",
       "      <td>0.476148</td>\n",
       "      <td>0.745755</td>\n",
       "      <td>0.747838</td>\n",
       "      <td>0.753901</td>\n",
       "      <td>0.753911</td>\n",
       "    </tr>\n",
       "    <tr>\n",
       "      <th>1</th>\n",
       "      <td>0.058628</td>\n",
       "      <td>0.410667</td>\n",
       "      <td>0.701538</td>\n",
       "      <td>0.690528</td>\n",
       "      <td>0.697969</td>\n",
       "      <td>0.683600</td>\n",
       "    </tr>\n",
       "    <tr>\n",
       "      <th>2</th>\n",
       "      <td>593.738215</td>\n",
       "      <td>581.481495</td>\n",
       "      <td>563.240040</td>\n",
       "      <td>565.009693</td>\n",
       "      <td>564.328255</td>\n",
       "      <td>566.327026</td>\n",
       "    </tr>\n",
       "    <tr>\n",
       "      <th>3</th>\n",
       "      <td>597.734829</td>\n",
       "      <td>586.810313</td>\n",
       "      <td>569.901062</td>\n",
       "      <td>573.002920</td>\n",
       "      <td>572.321482</td>\n",
       "      <td>575.652458</td>\n",
       "    </tr>\n",
       "  </tbody>\n",
       "</table>\n",
       "</div>"
      ],
      "text/plain": [
       "           Kc        KcWc          CN        CNKb        CNUb      CNKbUb\n",
       "0    0.128360    0.476148    0.745755    0.747838    0.753901    0.753911\n",
       "1    0.058628    0.410667    0.701538    0.690528    0.697969    0.683600\n",
       "2  593.738215  581.481495  563.240040  565.009693  564.328255  566.327026\n",
       "3  597.734829  586.810313  569.901062  573.002920  572.321482  575.652458"
      ]
     },
     "execution_count": 290,
     "metadata": {},
     "output_type": "execute_result"
    }
   ],
   "source": [
    "호텔신라"
   ]
  },
  {
   "cell_type": "markdown",
   "metadata": {},
   "source": [
    "설명:"
   ]
  },
  {
   "cell_type": "code",
   "execution_count": 291,
   "metadata": {
    "ExecuteTime": {
     "end_time": "2020-10-19T10:51:16.648961Z",
     "start_time": "2020-10-19T10:51:16.606079Z"
    }
   },
   "outputs": [
    {
     "data": {
      "text/html": [
       "<table class=\"simpletable\">\n",
       "<caption>OLS Regression Results</caption>\n",
       "<tr>\n",
       "  <th>Dep. Variable:</th>          <td>호텔신라</td>       <th>  R-squared:         </th> <td>   0.754</td>\n",
       "</tr>\n",
       "<tr>\n",
       "  <th>Model:</th>                   <td>OLS</td>       <th>  Adj. R-squared:    </th> <td>   0.698</td>\n",
       "</tr>\n",
       "<tr>\n",
       "  <th>Method:</th>             <td>Least Squares</td>  <th>  F-statistic:       </th> <td>   13.48</td>\n",
       "</tr>\n",
       "<tr>\n",
       "  <th>Date:</th>             <td>Mon, 19 Oct 2020</td> <th>  Prob (F-statistic):</th> <td>4.41e-06</td>\n",
       "</tr>\n",
       "<tr>\n",
       "  <th>Time:</th>                 <td>19:51:16</td>     <th>  Log-Likelihood:    </th> <td> -276.16</td>\n",
       "</tr>\n",
       "<tr>\n",
       "  <th>No. Observations:</th>      <td>    28</td>      <th>  AIC:               </th> <td>   564.3</td>\n",
       "</tr>\n",
       "<tr>\n",
       "  <th>Df Residuals:</th>          <td>    22</td>      <th>  BIC:               </th> <td>   572.3</td>\n",
       "</tr>\n",
       "<tr>\n",
       "  <th>Df Model:</th>              <td>     5</td>      <th>                     </th>     <td> </td>   \n",
       "</tr>\n",
       "<tr>\n",
       "  <th>Covariance Type:</th>      <td>nonrobust</td>    <th>                     </th>     <td> </td>   \n",
       "</tr>\n",
       "</table>\n",
       "<table class=\"simpletable\">\n",
       "<tr>\n",
       "      <td></td>         <th>coef</th>     <th>std err</th>      <th>t</th>      <th>P>|t|</th>  <th>[0.025</th>    <th>0.975]</th>  \n",
       "</tr>\n",
       "<tr>\n",
       "  <th>Intercept</th> <td>  779.4568</td> <td> 2.13e+04</td> <td>    0.037</td> <td> 0.971</td> <td>-4.35e+04</td> <td>  4.5e+04</td>\n",
       "</tr>\n",
       "<tr>\n",
       "  <th>KR_covid</th>  <td>   -2.5190</td> <td>    1.512</td> <td>   -1.665</td> <td> 0.110</td> <td>   -5.656</td> <td>    0.618</td>\n",
       "</tr>\n",
       "<tr>\n",
       "  <th>KR_death</th>  <td>  214.4774</td> <td>  146.136</td> <td>    1.468</td> <td> 0.156</td> <td>  -88.589</td> <td>  517.544</td>\n",
       "</tr>\n",
       "<tr>\n",
       "  <th>WD_covid</th>  <td>   -0.0198</td> <td>    0.003</td> <td>   -6.500</td> <td> 0.000</td> <td>   -0.026</td> <td>   -0.013</td>\n",
       "</tr>\n",
       "<tr>\n",
       "  <th>US_bank</th>   <td>   -6.5410</td> <td>    7.665</td> <td>   -0.853</td> <td> 0.403</td> <td>  -22.438</td> <td>    9.356</td>\n",
       "</tr>\n",
       "<tr>\n",
       "  <th>Nasdaq</th>    <td>    9.9097</td> <td>    2.349</td> <td>    4.219</td> <td> 0.000</td> <td>    5.039</td> <td>   14.781</td>\n",
       "</tr>\n",
       "</table>\n",
       "<table class=\"simpletable\">\n",
       "<tr>\n",
       "  <th>Omnibus:</th>       <td> 8.988</td> <th>  Durbin-Watson:     </th> <td>   1.669</td>\n",
       "</tr>\n",
       "<tr>\n",
       "  <th>Prob(Omnibus):</th> <td> 0.011</td> <th>  Jarque-Bera (JB):  </th> <td>   7.883</td>\n",
       "</tr>\n",
       "<tr>\n",
       "  <th>Skew:</th>          <td> 0.894</td> <th>  Prob(JB):          </th> <td>  0.0194</td>\n",
       "</tr>\n",
       "<tr>\n",
       "  <th>Kurtosis:</th>      <td> 4.886</td> <th>  Cond. No.          </th> <td>2.63e+07</td>\n",
       "</tr>\n",
       "</table><br/><br/>Warnings:<br/>[1] Standard Errors assume that the covariance matrix of the errors is correctly specified.<br/>[2] The condition number is large, 2.63e+07. This might indicate that there are<br/>strong multicollinearity or other numerical problems."
      ],
      "text/plain": [
       "<class 'statsmodels.iolib.summary.Summary'>\n",
       "\"\"\"\n",
       "                            OLS Regression Results                            \n",
       "==============================================================================\n",
       "Dep. Variable:                   호텔신라   R-squared:                       0.754\n",
       "Model:                            OLS   Adj. R-squared:                  0.698\n",
       "Method:                 Least Squares   F-statistic:                     13.48\n",
       "Date:                Mon, 19 Oct 2020   Prob (F-statistic):           4.41e-06\n",
       "Time:                        19:51:16   Log-Likelihood:                -276.16\n",
       "No. Observations:                  28   AIC:                             564.3\n",
       "Df Residuals:                      22   BIC:                             572.3\n",
       "Df Model:                           5                                         \n",
       "Covariance Type:            nonrobust                                         \n",
       "==============================================================================\n",
       "                 coef    std err          t      P>|t|      [0.025      0.975]\n",
       "------------------------------------------------------------------------------\n",
       "Intercept    779.4568   2.13e+04      0.037      0.971   -4.35e+04     4.5e+04\n",
       "KR_covid      -2.5190      1.512     -1.665      0.110      -5.656       0.618\n",
       "KR_death     214.4774    146.136      1.468      0.156     -88.589     517.544\n",
       "WD_covid      -0.0198      0.003     -6.500      0.000      -0.026      -0.013\n",
       "US_bank       -6.5410      7.665     -0.853      0.403     -22.438       9.356\n",
       "Nasdaq         9.9097      2.349      4.219      0.000       5.039      14.781\n",
       "==============================================================================\n",
       "Omnibus:                        8.988   Durbin-Watson:                   1.669\n",
       "Prob(Omnibus):                  0.011   Jarque-Bera (JB):                7.883\n",
       "Skew:                           0.894   Prob(JB):                       0.0194\n",
       "Kurtosis:                       4.886   Cond. No.                     2.63e+07\n",
       "==============================================================================\n",
       "\n",
       "Warnings:\n",
       "[1] Standard Errors assume that the covariance matrix of the errors is correctly specified.\n",
       "[2] The condition number is large, 2.63e+07. This might indicate that there are\n",
       "strong multicollinearity or other numerical problems.\n",
       "\"\"\""
      ]
     },
     "execution_count": 291,
     "metadata": {},
     "output_type": "execute_result"
    }
   ],
   "source": [
    "호텔신라CNUb = ols(\"호텔신라 ~ KR_covid+KR_death+WD_covid+US_bank+Nasdaq\", data=호텔레저_독립).fit()\n",
    "호텔신라CNUb.summary()"
   ]
  },
  {
   "cell_type": "markdown",
   "metadata": {},
   "source": [
    "- 위는 여러 조합 중, 수정R^2 값이 가장 높은 한국 코로나 신규 확진자 + 한국 코로나 신규 사망자 + 세계 코로나 신규 확진자 + 나스닥 지수 + 미국 연준 보도 수를 독립변수로 한 다중회귀분석 결과이다.\n",
    "- 한국 코로나 신규 확진자, 한국 코로나 신규 사망자, 미국 연준 보도 수를 모두 고려하고 나면, 세계 코로나 신규 확진자 수(음의 방향)와 나스닥 지수(양의 방향)는 통계적으로 유의미하게 주가와 연관이 있다."
   ]
  },
  {
   "cell_type": "markdown",
   "metadata": {},
   "source": [
    "### 예시(2) 카카오"
   ]
  },
  {
   "cell_type": "markdown",
   "metadata": {},
   "source": [
    "Korea corona:한국 확진+한국사망  \n",
    "Korea corona World corona: 한국 확진+한국사망+ 세계 확진  \n",
    "Corona Nasdaq:한국확진+한국사망+세계확진 + 나스닥  \n",
    "Corona Nasdaq Korea bank:한국확진+한국사망+세계확진 + 나스닥 + 한은  \n",
    "Corona Nasdaq Us bank: 한국확진+한국사망+세계확진 + 나스닥 + 한은 + 연준  \n",
    "Corona Nasdaq Korea bank Us bank: 한국확진+한국사망+세계확진 + 나스닥 + 한은 + 연준"
   ]
  },
  {
   "cell_type": "code",
   "execution_count": 292,
   "metadata": {
    "ExecuteTime": {
     "end_time": "2020-10-19T10:51:19.590104Z",
     "start_time": "2020-10-19T10:51:19.576133Z"
    }
   },
   "outputs": [
    {
     "data": {
      "text/html": [
       "<div>\n",
       "<style scoped>\n",
       "    .dataframe tbody tr th:only-of-type {\n",
       "        vertical-align: middle;\n",
       "    }\n",
       "\n",
       "    .dataframe tbody tr th {\n",
       "        vertical-align: top;\n",
       "    }\n",
       "\n",
       "    .dataframe thead th {\n",
       "        text-align: right;\n",
       "    }\n",
       "</style>\n",
       "<table border=\"1\" class=\"dataframe\">\n",
       "  <thead>\n",
       "    <tr style=\"text-align: right;\">\n",
       "      <th></th>\n",
       "      <th>Kc</th>\n",
       "      <th>KcWc</th>\n",
       "      <th>CN</th>\n",
       "      <th>CNKb</th>\n",
       "      <th>CNUb</th>\n",
       "      <th>CNKbUb</th>\n",
       "    </tr>\n",
       "  </thead>\n",
       "  <tbody>\n",
       "    <tr>\n",
       "      <th>0</th>\n",
       "      <td>0.096406</td>\n",
       "      <td>0.955853</td>\n",
       "      <td>0.973077</td>\n",
       "      <td>0.978988</td>\n",
       "      <td>0.977397</td>\n",
       "      <td>0.980095</td>\n",
       "    </tr>\n",
       "    <tr>\n",
       "      <th>1</th>\n",
       "      <td>0.024118</td>\n",
       "      <td>0.950335</td>\n",
       "      <td>0.968395</td>\n",
       "      <td>0.974212</td>\n",
       "      <td>0.972260</td>\n",
       "      <td>0.974408</td>\n",
       "    </tr>\n",
       "    <tr>\n",
       "      <th>2</th>\n",
       "      <td>720.833355</td>\n",
       "      <td>638.305209</td>\n",
       "      <td>626.457702</td>\n",
       "      <td>621.517966</td>\n",
       "      <td>623.561448</td>\n",
       "      <td>622.001754</td>\n",
       "    </tr>\n",
       "    <tr>\n",
       "      <th>3</th>\n",
       "      <td>724.829969</td>\n",
       "      <td>643.634027</td>\n",
       "      <td>633.118724</td>\n",
       "      <td>629.511193</td>\n",
       "      <td>631.554675</td>\n",
       "      <td>631.327185</td>\n",
       "    </tr>\n",
       "  </tbody>\n",
       "</table>\n",
       "</div>"
      ],
      "text/plain": [
       "           Kc        KcWc          CN        CNKb        CNUb      CNKbUb\n",
       "0    0.096406    0.955853    0.973077    0.978988    0.977397    0.980095\n",
       "1    0.024118    0.950335    0.968395    0.974212    0.972260    0.974408\n",
       "2  720.833355  638.305209  626.457702  621.517966  623.561448  622.001754\n",
       "3  724.829969  643.634027  633.118724  629.511193  631.554675  631.327185"
      ]
     },
     "execution_count": 292,
     "metadata": {},
     "output_type": "execute_result"
    }
   ],
   "source": [
    "카카오"
   ]
  },
  {
   "cell_type": "code",
   "execution_count": 293,
   "metadata": {
    "ExecuteTime": {
     "end_time": "2020-10-19T10:52:27.776723Z",
     "start_time": "2020-10-19T10:52:27.725849Z"
    },
    "scrolled": true
   },
   "outputs": [
    {
     "data": {
      "text/html": [
       "<table class=\"simpletable\">\n",
       "<caption>OLS Regression Results</caption>\n",
       "<tr>\n",
       "  <th>Dep. Variable:</th>           <td>카카오</td>       <th>  R-squared:         </th> <td>   0.980</td>\n",
       "</tr>\n",
       "<tr>\n",
       "  <th>Model:</th>                   <td>OLS</td>       <th>  Adj. R-squared:    </th> <td>   0.974</td>\n",
       "</tr>\n",
       "<tr>\n",
       "  <th>Method:</th>             <td>Least Squares</td>  <th>  F-statistic:       </th> <td>   172.3</td>\n",
       "</tr>\n",
       "<tr>\n",
       "  <th>Date:</th>             <td>Mon, 19 Oct 2020</td> <th>  Prob (F-statistic):</th> <td>9.54e-17</td>\n",
       "</tr>\n",
       "<tr>\n",
       "  <th>Time:</th>                 <td>19:52:27</td>     <th>  Log-Likelihood:    </th> <td> -304.00</td>\n",
       "</tr>\n",
       "<tr>\n",
       "  <th>No. Observations:</th>      <td>    28</td>      <th>  AIC:               </th> <td>   622.0</td>\n",
       "</tr>\n",
       "<tr>\n",
       "  <th>Df Residuals:</th>          <td>    21</td>      <th>  BIC:               </th> <td>   631.3</td>\n",
       "</tr>\n",
       "<tr>\n",
       "  <th>Df Model:</th>              <td>     6</td>      <th>                     </th>     <td> </td>   \n",
       "</tr>\n",
       "<tr>\n",
       "  <th>Covariance Type:</th>      <td>nonrobust</td>    <th>                     </th>     <td> </td>   \n",
       "</tr>\n",
       "</table>\n",
       "<table class=\"simpletable\">\n",
       "<tr>\n",
       "      <td></td>         <th>coef</th>     <th>std err</th>      <th>t</th>      <th>P>|t|</th>  <th>[0.025</th>    <th>0.975]</th>  \n",
       "</tr>\n",
       "<tr>\n",
       "  <th>Intercept</th> <td>-1.733e+05</td> <td>  6.7e+04</td> <td>   -2.587</td> <td> 0.017</td> <td>-3.13e+05</td> <td> -3.4e+04</td>\n",
       "</tr>\n",
       "<tr>\n",
       "  <th>KR_covid</th>  <td>    8.3555</td> <td>    4.192</td> <td>    1.993</td> <td> 0.059</td> <td>   -0.363</td> <td>   17.074</td>\n",
       "</tr>\n",
       "<tr>\n",
       "  <th>KR_death</th>  <td>  -18.2617</td> <td>  418.821</td> <td>   -0.044</td> <td> 0.966</td> <td> -889.247</td> <td>  852.724</td>\n",
       "</tr>\n",
       "<tr>\n",
       "  <th>WD_covid</th>  <td>    0.0684</td> <td>    0.009</td> <td>    7.401</td> <td> 0.000</td> <td>    0.049</td> <td>    0.088</td>\n",
       "</tr>\n",
       "<tr>\n",
       "  <th>KR_bank</th>   <td>  229.7197</td> <td>  136.148</td> <td>    1.687</td> <td> 0.106</td> <td>  -53.416</td> <td>  512.855</td>\n",
       "</tr>\n",
       "<tr>\n",
       "  <th>US_bank</th>   <td>   26.0231</td> <td>   24.074</td> <td>    1.081</td> <td> 0.292</td> <td>  -24.041</td> <td>   76.087</td>\n",
       "</tr>\n",
       "<tr>\n",
       "  <th>Nasdaq</th>    <td>   36.1415</td> <td>    7.205</td> <td>    5.016</td> <td> 0.000</td> <td>   21.158</td> <td>   51.125</td>\n",
       "</tr>\n",
       "</table>\n",
       "<table class=\"simpletable\">\n",
       "<tr>\n",
       "  <th>Omnibus:</th>       <td> 8.973</td> <th>  Durbin-Watson:     </th> <td>   1.949</td>\n",
       "</tr>\n",
       "<tr>\n",
       "  <th>Prob(Omnibus):</th> <td> 0.011</td> <th>  Jarque-Bera (JB):  </th> <td>   7.224</td>\n",
       "</tr>\n",
       "<tr>\n",
       "  <th>Skew:</th>          <td> 1.134</td> <th>  Prob(JB):          </th> <td>  0.0270</td>\n",
       "</tr>\n",
       "<tr>\n",
       "  <th>Kurtosis:</th>      <td> 4.024</td> <th>  Cond. No.          </th> <td>2.98e+07</td>\n",
       "</tr>\n",
       "</table><br/><br/>Warnings:<br/>[1] Standard Errors assume that the covariance matrix of the errors is correctly specified.<br/>[2] The condition number is large, 2.98e+07. This might indicate that there are<br/>strong multicollinearity or other numerical problems."
      ],
      "text/plain": [
       "<class 'statsmodels.iolib.summary.Summary'>\n",
       "\"\"\"\n",
       "                            OLS Regression Results                            \n",
       "==============================================================================\n",
       "Dep. Variable:                    카카오   R-squared:                       0.980\n",
       "Model:                            OLS   Adj. R-squared:                  0.974\n",
       "Method:                 Least Squares   F-statistic:                     172.3\n",
       "Date:                Mon, 19 Oct 2020   Prob (F-statistic):           9.54e-17\n",
       "Time:                        19:52:27   Log-Likelihood:                -304.00\n",
       "No. Observations:                  28   AIC:                             622.0\n",
       "Df Residuals:                      21   BIC:                             631.3\n",
       "Df Model:                           6                                         \n",
       "Covariance Type:            nonrobust                                         \n",
       "==============================================================================\n",
       "                 coef    std err          t      P>|t|      [0.025      0.975]\n",
       "------------------------------------------------------------------------------\n",
       "Intercept  -1.733e+05    6.7e+04     -2.587      0.017   -3.13e+05    -3.4e+04\n",
       "KR_covid       8.3555      4.192      1.993      0.059      -0.363      17.074\n",
       "KR_death     -18.2617    418.821     -0.044      0.966    -889.247     852.724\n",
       "WD_covid       0.0684      0.009      7.401      0.000       0.049       0.088\n",
       "KR_bank      229.7197    136.148      1.687      0.106     -53.416     512.855\n",
       "US_bank       26.0231     24.074      1.081      0.292     -24.041      76.087\n",
       "Nasdaq        36.1415      7.205      5.016      0.000      21.158      51.125\n",
       "==============================================================================\n",
       "Omnibus:                        8.973   Durbin-Watson:                   1.949\n",
       "Prob(Omnibus):                  0.011   Jarque-Bera (JB):                7.224\n",
       "Skew:                           1.134   Prob(JB):                       0.0270\n",
       "Kurtosis:                       4.024   Cond. No.                     2.98e+07\n",
       "==============================================================================\n",
       "\n",
       "Warnings:\n",
       "[1] Standard Errors assume that the covariance matrix of the errors is correctly specified.\n",
       "[2] The condition number is large, 2.98e+07. This might indicate that there are\n",
       "strong multicollinearity or other numerical problems.\n",
       "\"\"\""
      ]
     },
     "execution_count": 293,
     "metadata": {},
     "output_type": "execute_result"
    }
   ],
   "source": [
    "카카오CNKbUb = ols(\"카카오 ~ KR_covid+KR_death+WD_covid+KR_bank+US_bank+Nasdaq\", data=IT미디어_독립).fit()\n",
    "카카오CNKbUb.summary()"
   ]
  },
  {
   "cell_type": "markdown",
   "metadata": {},
   "source": [
    "- 위는 여러 조합 중, 수정R^2 값이 가장 높은 한국 코로나 신규 확진자 + 한국 코로나 신규 사망자 + 세계 코로나 신규 확진자 + 한국은행 보도 수 + 미국 연준 보도 수 + 나스닥 지수를 독립변수로 한 다중회귀분석 결과이다.\n",
    "- 한국 코로나 신규 확진자, 한국 코로나 신규 사망자, 한국은행 보도 수, 미국 연준 보도 수를 모두 고려하고 나면, 세계 코로나 신규 확진자 수(양의 방향)와 나스닥 지수(양의 방향)는 통계적으로 유의미하게 주가와 연관이 있다.\n",
    "- 세계 코로나 신규 확진자 수의 경우 양의 방향이며, 이는 호텔신라와 반대로 '세계 코로나19 확진자 수가 증가할수록 카카오의 주가가 상승한다'는 의미가 된다."
   ]
  },
  {
   "cell_type": "markdown",
   "metadata": {},
   "source": [
    "### 종합\n",
    "30개 기업에 대한 회귀분석 결과를 표로 정리했다.\n",
    "![title](img05.png)\n",
    "- 독립변수 중, 다른 요소들을 고려했을 때 p값이 0.05 이하인 변수로 세계 확진자 수(22)와 나스닥(21)이 다수 나타났다. 나스닥은 모든 경우에서 양(+)의 상관관계를 보이지만, 세계 확진자 수는 양(-)과 음(-)의 상관관계를 보인다. 따라서 주가에 일관적인 영향을 준다고 보기 어렵다고 보인다.\n",
    "- 독립변수 중, 연준 보도 수가 다른 요소들을 고려했을 때 p값이 0.05 이하로 나온 경우 모두 음(-)의 상관관계를 보인다. 이는 미국 연방준비제도에서 통화 유동성에 관한 보도가 적을수록 주가가 오른다는 의미다."
   ]
  },
  {
   "cell_type": "markdown",
   "metadata": {},
   "source": [
    "# 결론 및 한계점\n",
    "\n",
    "## 결론\n",
    "\n",
    "- 국내/외 코로나19 확진자, 사망자 수가 국내 기업 주가에는 영향을 준다는 근거를 찾기는 어렵다.\n",
    "- 하지만 '국내 주가는 나스닥에 영향을 받는다'라는 상식을 데이터로 확인할 수 있었다.\n",
    "- 한국은행과 미국 연준에서 통화량을 증가시킨다는 보도를 할수록, 시장 기대가 높아져 주가가 상승한다' 전문가 의견에 따라 '한국은행과 미국 연준 보도 수'를 코로나19 파생변수로 설정했으나 보도 데이터 수집의 정확한 집계가 어려워, 이를 뒷받침하는 데이터는 찾지 못했다.\n",
    "\n",
    "\n",
    "## 한계점\n",
    "\n",
    "- 코로나19 관련 데이터가 국내/세계 코로나 '확진자 및 사망자 수'로 한정되었다. 관련한 의미있는 다른 수치들도 함께 보면 더 좋은 분석이 되리라 생각한다.\n",
    "- 종속변수인 기업 주가를 한정했기 때문에, 어떤 분야나 한국 주가 전체의 전반적인 추세로 일반화하기 어렵다.\n",
    "- 정부가 투자할 산업에 관해 언론에서 많이 언급된 단어들과 연관된 산업들의 주가를 분석해보려 했지만, 크롤링과 어떤 산업의 주가 데이터를 정의하고 구할지에 관한 한계가 있어 진행되지 못했다.\n",
    "- 주가 및 지수 데이터의 경우 주말에 값이 없어서 1주 1개 데이터(금요 종가)로 산출했고, 대응하는 코로나19 데이터도 주별로 산출(합산)되여 최종 데이터 크기가 아주 크진 않았다.\n",
    "\n",
    "----\n",
    "\n",
    "### \"나 주린이, 코로나에 휩쓸리지 않겠어...!!!\""
   ]
  }
 ],
 "metadata": {
  "gist": {
   "data": {
    "description": "COVID19-Project/COVID19-Project-Final/발표용/project-COVID19는-주식에-영향을-줄까.ipynb",
    "public": true
   },
   "id": ""
  },
  "kernelspec": {
   "display_name": "Python 3",
   "language": "python",
   "name": "python3"
  },
  "language_info": {
   "codemirror_mode": {
    "name": "ipython",
    "version": 3
   },
   "file_extension": ".py",
   "mimetype": "text/x-python",
   "name": "python",
   "nbconvert_exporter": "python",
   "pygments_lexer": "ipython3",
   "version": "3.8.3"
  },
  "toc": {
   "base_numbering": 1,
   "nav_menu": {},
   "number_sections": false,
   "sideBar": true,
   "skip_h1_title": false,
   "title_cell": "Table of Contents",
   "title_sidebar": "Contents",
   "toc_cell": false,
   "toc_position": {
    "height": "calc(100% - 180px)",
    "left": "10px",
    "top": "150px",
    "width": "275px"
   },
   "toc_section_display": true,
   "toc_window_display": true
  }
 },
 "nbformat": 4,
 "nbformat_minor": 4
}
